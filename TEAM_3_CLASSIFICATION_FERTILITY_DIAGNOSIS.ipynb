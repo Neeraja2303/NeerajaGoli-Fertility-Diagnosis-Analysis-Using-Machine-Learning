{
  "nbformat": 4,
  "nbformat_minor": 0,
  "metadata": {
    "colab": {
      "provenance": [],
      "collapsed_sections": [
        "rFznxOk7JMTI",
        "TZXZMOp_Mgvh",
        "cH0DD_z3TbzW",
        "FNxiRXIRTxbs",
        "Ev6IEzRpUTUj",
        "JTQe6DIootB7",
        "BnqRvS5OHIkS",
        "ZcBJrqjMJkCo",
        "dj6QHL9-K3L8",
        "uvMRcfncLZmi",
        "upxIRUIFLbPd",
        "yVN4EBIJMAej",
        "VSQV6XmlrV92",
        "FcLQYhv4rwDt",
        "7jmGS-4Z1aSw"
      ]
    },
    "kernelspec": {
      "name": "python3",
      "display_name": "Python 3"
    },
    "language_info": {
      "name": "python"
    }
  },
  "cells": [
    {
      "cell_type": "markdown",
      "source": [
        "## IMPORTING DATASET"
      ],
      "metadata": {
        "id": "lM7qquuU9QIn"
      }
    },
    {
      "cell_type": "code",
      "execution_count": null,
      "metadata": {
        "id": "B3jWC-Y7IZan"
      },
      "outputs": [],
      "source": [
        "import numpy as np\n",
        "import pandas as pd\n",
        "import matplotlib.pyplot as plt\n",
        "import plotly.express as px\n",
        "import seaborn as sns\n",
        "\n",
        "from tensorflow.keras.utils import to_categorical\n",
        "from sklearn.metrics import classification_report, log_loss, accuracy_score\n",
        "from sklearn.metrics import mean_squared_error\n",
        "import statsmodels.formula.api as smf\n",
        "from sklearn.linear_model import LogisticRegression\n",
        "from sklearn import metrics\n",
        "from sklearn.model_selection import train_test_split\n",
        "import operator as op\n",
        "from sklearn.metrics import confusion_matrix"
      ]
    },
    {
      "cell_type": "code",
      "source": [
        "data = pd.read_excel('/content/fertility_diagnosis.xlsx')\n",
        "data"
      ],
      "metadata": {
        "id": "gp33GgqpqXSc",
        "colab": {
          "base_uri": "https://localhost:8080/",
          "height": 574
        },
        "outputId": "5dab427a-8818-4071-f426-28021313ed54"
      },
      "execution_count": null,
      "outputs": [
        {
          "output_type": "execute_result",
          "data": {
            "text/plain": [
              "    Season  Season-  Season-winter  Season-spring  Season-summer  Season-fall  \\\n",
              "0    -0.33        2              0              1              0            0   \n",
              "1    -0.33        2              0              1              0            0   \n",
              "2    -0.33        2              0              1              0            0   \n",
              "3    -0.33        2              0              1              0            0   \n",
              "4    -0.33        2              0              1              0            0   \n",
              "..     ...      ...            ...            ...            ...          ...   \n",
              "95   -1.00        1              1              0              0            0   \n",
              "96   -1.00        1              1              0              0            0   \n",
              "97   -1.00        1              1              0              0            0   \n",
              "98   -1.00        1              1              0              0            0   \n",
              "99   -1.00        1              1              0              0            0   \n",
              "\n",
              "    Age  Childish diseases  Accident or serious trauma  Surgical intervention  \\\n",
              "0    30                  0                           1                      1   \n",
              "1    35                  1                           0                      1   \n",
              "2    27                  1                           0                      0   \n",
              "3    32                  0                           1                      1   \n",
              "4    30                  1                           1                      0   \n",
              "..  ...                ...                         ...                    ...   \n",
              "95   30                  1                           0                      0   \n",
              "96   29                  1                           0                      0   \n",
              "97   30                  1                           1                      1   \n",
              "98   30                  1                           0                      1   \n",
              "99   30                  0                           1                      1   \n",
              "\n",
              "    High fevers in the last year  Frequency of alcohol consumption  \\\n",
              "0                              0                               0.8   \n",
              "1                              0                               0.8   \n",
              "2                              0                               1.0   \n",
              "3                              0                               1.0   \n",
              "4                              0                               0.8   \n",
              "..                           ...                               ...   \n",
              "95                             0                               1.0   \n",
              "96                             0                               0.8   \n",
              "97                             0                               1.0   \n",
              "98                             0                               1.0   \n",
              "99                             0                               0.6   \n",
              "\n",
              "    Smoking habit  smoking habit-  smoking-never  smoking-occasional  \\\n",
              "0               0               2              0                   1   \n",
              "1               1               3              0                   0   \n",
              "2              -1               1              1                   0   \n",
              "3              -1               1              1                   0   \n",
              "4              -1               1              1                   0   \n",
              "..            ...             ...            ...                 ...   \n",
              "95             -1               1              1                   0   \n",
              "96              0               2              0                   1   \n",
              "97             -1               1              1                   0   \n",
              "98              0               2              0                   1   \n",
              "99             -1               1              1                   0   \n",
              "\n",
              "    smoking-daily  Number of hours spent sitting per day Diagnosis  \n",
              "0               0                                     16         N  \n",
              "1               1                                      6         O  \n",
              "2               0                                      9         N  \n",
              "3               0                                      7         N  \n",
              "4               0                                      9         O  \n",
              "..            ...                                    ...       ...  \n",
              "95              0                                      9         N  \n",
              "96              0                                      9         N  \n",
              "97              0                                      6         N  \n",
              "98              0                                      3         N  \n",
              "99              0                                      3         N  \n",
              "\n",
              "[100 rows x 19 columns]"
            ],
            "text/html": [
              "\n",
              "  <div id=\"df-bb555b08-b380-4022-8941-4470ce9d8125\">\n",
              "    <div class=\"colab-df-container\">\n",
              "      <div>\n",
              "<style scoped>\n",
              "    .dataframe tbody tr th:only-of-type {\n",
              "        vertical-align: middle;\n",
              "    }\n",
              "\n",
              "    .dataframe tbody tr th {\n",
              "        vertical-align: top;\n",
              "    }\n",
              "\n",
              "    .dataframe thead th {\n",
              "        text-align: right;\n",
              "    }\n",
              "</style>\n",
              "<table border=\"1\" class=\"dataframe\">\n",
              "  <thead>\n",
              "    <tr style=\"text-align: right;\">\n",
              "      <th></th>\n",
              "      <th>Season</th>\n",
              "      <th>Season-</th>\n",
              "      <th>Season-winter</th>\n",
              "      <th>Season-spring</th>\n",
              "      <th>Season-summer</th>\n",
              "      <th>Season-fall</th>\n",
              "      <th>Age</th>\n",
              "      <th>Childish diseases</th>\n",
              "      <th>Accident or serious trauma</th>\n",
              "      <th>Surgical intervention</th>\n",
              "      <th>High fevers in the last year</th>\n",
              "      <th>Frequency of alcohol consumption</th>\n",
              "      <th>Smoking habit</th>\n",
              "      <th>smoking habit-</th>\n",
              "      <th>smoking-never</th>\n",
              "      <th>smoking-occasional</th>\n",
              "      <th>smoking-daily</th>\n",
              "      <th>Number of hours spent sitting per day</th>\n",
              "      <th>Diagnosis</th>\n",
              "    </tr>\n",
              "  </thead>\n",
              "  <tbody>\n",
              "    <tr>\n",
              "      <th>0</th>\n",
              "      <td>-0.33</td>\n",
              "      <td>2</td>\n",
              "      <td>0</td>\n",
              "      <td>1</td>\n",
              "      <td>0</td>\n",
              "      <td>0</td>\n",
              "      <td>30</td>\n",
              "      <td>0</td>\n",
              "      <td>1</td>\n",
              "      <td>1</td>\n",
              "      <td>0</td>\n",
              "      <td>0.8</td>\n",
              "      <td>0</td>\n",
              "      <td>2</td>\n",
              "      <td>0</td>\n",
              "      <td>1</td>\n",
              "      <td>0</td>\n",
              "      <td>16</td>\n",
              "      <td>N</td>\n",
              "    </tr>\n",
              "    <tr>\n",
              "      <th>1</th>\n",
              "      <td>-0.33</td>\n",
              "      <td>2</td>\n",
              "      <td>0</td>\n",
              "      <td>1</td>\n",
              "      <td>0</td>\n",
              "      <td>0</td>\n",
              "      <td>35</td>\n",
              "      <td>1</td>\n",
              "      <td>0</td>\n",
              "      <td>1</td>\n",
              "      <td>0</td>\n",
              "      <td>0.8</td>\n",
              "      <td>1</td>\n",
              "      <td>3</td>\n",
              "      <td>0</td>\n",
              "      <td>0</td>\n",
              "      <td>1</td>\n",
              "      <td>6</td>\n",
              "      <td>O</td>\n",
              "    </tr>\n",
              "    <tr>\n",
              "      <th>2</th>\n",
              "      <td>-0.33</td>\n",
              "      <td>2</td>\n",
              "      <td>0</td>\n",
              "      <td>1</td>\n",
              "      <td>0</td>\n",
              "      <td>0</td>\n",
              "      <td>27</td>\n",
              "      <td>1</td>\n",
              "      <td>0</td>\n",
              "      <td>0</td>\n",
              "      <td>0</td>\n",
              "      <td>1.0</td>\n",
              "      <td>-1</td>\n",
              "      <td>1</td>\n",
              "      <td>1</td>\n",
              "      <td>0</td>\n",
              "      <td>0</td>\n",
              "      <td>9</td>\n",
              "      <td>N</td>\n",
              "    </tr>\n",
              "    <tr>\n",
              "      <th>3</th>\n",
              "      <td>-0.33</td>\n",
              "      <td>2</td>\n",
              "      <td>0</td>\n",
              "      <td>1</td>\n",
              "      <td>0</td>\n",
              "      <td>0</td>\n",
              "      <td>32</td>\n",
              "      <td>0</td>\n",
              "      <td>1</td>\n",
              "      <td>1</td>\n",
              "      <td>0</td>\n",
              "      <td>1.0</td>\n",
              "      <td>-1</td>\n",
              "      <td>1</td>\n",
              "      <td>1</td>\n",
              "      <td>0</td>\n",
              "      <td>0</td>\n",
              "      <td>7</td>\n",
              "      <td>N</td>\n",
              "    </tr>\n",
              "    <tr>\n",
              "      <th>4</th>\n",
              "      <td>-0.33</td>\n",
              "      <td>2</td>\n",
              "      <td>0</td>\n",
              "      <td>1</td>\n",
              "      <td>0</td>\n",
              "      <td>0</td>\n",
              "      <td>30</td>\n",
              "      <td>1</td>\n",
              "      <td>1</td>\n",
              "      <td>0</td>\n",
              "      <td>0</td>\n",
              "      <td>0.8</td>\n",
              "      <td>-1</td>\n",
              "      <td>1</td>\n",
              "      <td>1</td>\n",
              "      <td>0</td>\n",
              "      <td>0</td>\n",
              "      <td>9</td>\n",
              "      <td>O</td>\n",
              "    </tr>\n",
              "    <tr>\n",
              "      <th>...</th>\n",
              "      <td>...</td>\n",
              "      <td>...</td>\n",
              "      <td>...</td>\n",
              "      <td>...</td>\n",
              "      <td>...</td>\n",
              "      <td>...</td>\n",
              "      <td>...</td>\n",
              "      <td>...</td>\n",
              "      <td>...</td>\n",
              "      <td>...</td>\n",
              "      <td>...</td>\n",
              "      <td>...</td>\n",
              "      <td>...</td>\n",
              "      <td>...</td>\n",
              "      <td>...</td>\n",
              "      <td>...</td>\n",
              "      <td>...</td>\n",
              "      <td>...</td>\n",
              "      <td>...</td>\n",
              "    </tr>\n",
              "    <tr>\n",
              "      <th>95</th>\n",
              "      <td>-1.00</td>\n",
              "      <td>1</td>\n",
              "      <td>1</td>\n",
              "      <td>0</td>\n",
              "      <td>0</td>\n",
              "      <td>0</td>\n",
              "      <td>30</td>\n",
              "      <td>1</td>\n",
              "      <td>0</td>\n",
              "      <td>0</td>\n",
              "      <td>0</td>\n",
              "      <td>1.0</td>\n",
              "      <td>-1</td>\n",
              "      <td>1</td>\n",
              "      <td>1</td>\n",
              "      <td>0</td>\n",
              "      <td>0</td>\n",
              "      <td>9</td>\n",
              "      <td>N</td>\n",
              "    </tr>\n",
              "    <tr>\n",
              "      <th>96</th>\n",
              "      <td>-1.00</td>\n",
              "      <td>1</td>\n",
              "      <td>1</td>\n",
              "      <td>0</td>\n",
              "      <td>0</td>\n",
              "      <td>0</td>\n",
              "      <td>29</td>\n",
              "      <td>1</td>\n",
              "      <td>0</td>\n",
              "      <td>0</td>\n",
              "      <td>0</td>\n",
              "      <td>0.8</td>\n",
              "      <td>0</td>\n",
              "      <td>2</td>\n",
              "      <td>0</td>\n",
              "      <td>1</td>\n",
              "      <td>0</td>\n",
              "      <td>9</td>\n",
              "      <td>N</td>\n",
              "    </tr>\n",
              "    <tr>\n",
              "      <th>97</th>\n",
              "      <td>-1.00</td>\n",
              "      <td>1</td>\n",
              "      <td>1</td>\n",
              "      <td>0</td>\n",
              "      <td>0</td>\n",
              "      <td>0</td>\n",
              "      <td>30</td>\n",
              "      <td>1</td>\n",
              "      <td>1</td>\n",
              "      <td>1</td>\n",
              "      <td>0</td>\n",
              "      <td>1.0</td>\n",
              "      <td>-1</td>\n",
              "      <td>1</td>\n",
              "      <td>1</td>\n",
              "      <td>0</td>\n",
              "      <td>0</td>\n",
              "      <td>6</td>\n",
              "      <td>N</td>\n",
              "    </tr>\n",
              "    <tr>\n",
              "      <th>98</th>\n",
              "      <td>-1.00</td>\n",
              "      <td>1</td>\n",
              "      <td>1</td>\n",
              "      <td>0</td>\n",
              "      <td>0</td>\n",
              "      <td>0</td>\n",
              "      <td>30</td>\n",
              "      <td>1</td>\n",
              "      <td>0</td>\n",
              "      <td>1</td>\n",
              "      <td>0</td>\n",
              "      <td>1.0</td>\n",
              "      <td>0</td>\n",
              "      <td>2</td>\n",
              "      <td>0</td>\n",
              "      <td>1</td>\n",
              "      <td>0</td>\n",
              "      <td>3</td>\n",
              "      <td>N</td>\n",
              "    </tr>\n",
              "    <tr>\n",
              "      <th>99</th>\n",
              "      <td>-1.00</td>\n",
              "      <td>1</td>\n",
              "      <td>1</td>\n",
              "      <td>0</td>\n",
              "      <td>0</td>\n",
              "      <td>0</td>\n",
              "      <td>30</td>\n",
              "      <td>0</td>\n",
              "      <td>1</td>\n",
              "      <td>1</td>\n",
              "      <td>0</td>\n",
              "      <td>0.6</td>\n",
              "      <td>-1</td>\n",
              "      <td>1</td>\n",
              "      <td>1</td>\n",
              "      <td>0</td>\n",
              "      <td>0</td>\n",
              "      <td>3</td>\n",
              "      <td>N</td>\n",
              "    </tr>\n",
              "  </tbody>\n",
              "</table>\n",
              "<p>100 rows × 19 columns</p>\n",
              "</div>\n",
              "      <button class=\"colab-df-convert\" onclick=\"convertToInteractive('df-bb555b08-b380-4022-8941-4470ce9d8125')\"\n",
              "              title=\"Convert this dataframe to an interactive table.\"\n",
              "              style=\"display:none;\">\n",
              "        \n",
              "  <svg xmlns=\"http://www.w3.org/2000/svg\" height=\"24px\"viewBox=\"0 0 24 24\"\n",
              "       width=\"24px\">\n",
              "    <path d=\"M0 0h24v24H0V0z\" fill=\"none\"/>\n",
              "    <path d=\"M18.56 5.44l.94 2.06.94-2.06 2.06-.94-2.06-.94-.94-2.06-.94 2.06-2.06.94zm-11 1L8.5 8.5l.94-2.06 2.06-.94-2.06-.94L8.5 2.5l-.94 2.06-2.06.94zm10 10l.94 2.06.94-2.06 2.06-.94-2.06-.94-.94-2.06-.94 2.06-2.06.94z\"/><path d=\"M17.41 7.96l-1.37-1.37c-.4-.4-.92-.59-1.43-.59-.52 0-1.04.2-1.43.59L10.3 9.45l-7.72 7.72c-.78.78-.78 2.05 0 2.83L4 21.41c.39.39.9.59 1.41.59.51 0 1.02-.2 1.41-.59l7.78-7.78 2.81-2.81c.8-.78.8-2.07 0-2.86zM5.41 20L4 18.59l7.72-7.72 1.47 1.35L5.41 20z\"/>\n",
              "  </svg>\n",
              "      </button>\n",
              "      \n",
              "  <style>\n",
              "    .colab-df-container {\n",
              "      display:flex;\n",
              "      flex-wrap:wrap;\n",
              "      gap: 12px;\n",
              "    }\n",
              "\n",
              "    .colab-df-convert {\n",
              "      background-color: #E8F0FE;\n",
              "      border: none;\n",
              "      border-radius: 50%;\n",
              "      cursor: pointer;\n",
              "      display: none;\n",
              "      fill: #1967D2;\n",
              "      height: 32px;\n",
              "      padding: 0 0 0 0;\n",
              "      width: 32px;\n",
              "    }\n",
              "\n",
              "    .colab-df-convert:hover {\n",
              "      background-color: #E2EBFA;\n",
              "      box-shadow: 0px 1px 2px rgba(60, 64, 67, 0.3), 0px 1px 3px 1px rgba(60, 64, 67, 0.15);\n",
              "      fill: #174EA6;\n",
              "    }\n",
              "\n",
              "    [theme=dark] .colab-df-convert {\n",
              "      background-color: #3B4455;\n",
              "      fill: #D2E3FC;\n",
              "    }\n",
              "\n",
              "    [theme=dark] .colab-df-convert:hover {\n",
              "      background-color: #434B5C;\n",
              "      box-shadow: 0px 1px 3px 1px rgba(0, 0, 0, 0.15);\n",
              "      filter: drop-shadow(0px 1px 2px rgba(0, 0, 0, 0.3));\n",
              "      fill: #FFFFFF;\n",
              "    }\n",
              "  </style>\n",
              "\n",
              "      <script>\n",
              "        const buttonEl =\n",
              "          document.querySelector('#df-bb555b08-b380-4022-8941-4470ce9d8125 button.colab-df-convert');\n",
              "        buttonEl.style.display =\n",
              "          google.colab.kernel.accessAllowed ? 'block' : 'none';\n",
              "\n",
              "        async function convertToInteractive(key) {\n",
              "          const element = document.querySelector('#df-bb555b08-b380-4022-8941-4470ce9d8125');\n",
              "          const dataTable =\n",
              "            await google.colab.kernel.invokeFunction('convertToInteractive',\n",
              "                                                     [key], {});\n",
              "          if (!dataTable) return;\n",
              "\n",
              "          const docLinkHtml = 'Like what you see? Visit the ' +\n",
              "            '<a target=\"_blank\" href=https://colab.research.google.com/notebooks/data_table.ipynb>data table notebook</a>'\n",
              "            + ' to learn more about interactive tables.';\n",
              "          element.innerHTML = '';\n",
              "          dataTable['output_type'] = 'display_data';\n",
              "          await google.colab.output.renderOutput(dataTable, element);\n",
              "          const docLink = document.createElement('div');\n",
              "          docLink.innerHTML = docLinkHtml;\n",
              "          element.appendChild(docLink);\n",
              "        }\n",
              "      </script>\n",
              "    </div>\n",
              "  </div>\n",
              "  "
            ]
          },
          "metadata": {},
          "execution_count": 2
        }
      ]
    },
    {
      "cell_type": "code",
      "source": [
        "data= data.rename(columns = {'Season':'S1','Season-':'Season','Age':'age', 'Childish diseases': 'childish diseases','Accident or serious trauma':'Accident trauma','Surgical intervention':'surgical intervention',\n",
        "                             'High fevers in the last year':'High fevers','Frequency of alcohol consumption':'alcohol consumption','Smoking habit':'smoking habit','smoking habit':'smoking habit-','Number of hours spent sitting per day':'sitting per day'\n",
        "                             ,'Diagnosis':'output'})\n",
        "data"
      ],
      "metadata": {
        "id": "8y0loroQrCiV",
        "colab": {
          "base_uri": "https://localhost:8080/",
          "height": 505
        },
        "outputId": "6b159319-917b-4ea7-9d98-bc547e599507"
      },
      "execution_count": null,
      "outputs": [
        {
          "output_type": "execute_result",
          "data": {
            "text/plain": [
              "      S1  Season  Season-winter  Season-spring  Season-summer  Season-fall  \\\n",
              "0  -0.33       2              0              1              0            0   \n",
              "1  -0.33       2              0              1              0            0   \n",
              "2  -0.33       2              0              1              0            0   \n",
              "3  -0.33       2              0              1              0            0   \n",
              "4  -0.33       2              0              1              0            0   \n",
              "..   ...     ...            ...            ...            ...          ...   \n",
              "95 -1.00       1              1              0              0            0   \n",
              "96 -1.00       1              1              0              0            0   \n",
              "97 -1.00       1              1              0              0            0   \n",
              "98 -1.00       1              1              0              0            0   \n",
              "99 -1.00       1              1              0              0            0   \n",
              "\n",
              "    age  childish diseases  Accident trauma  surgical intervention  \\\n",
              "0    30                  0                1                      1   \n",
              "1    35                  1                0                      1   \n",
              "2    27                  1                0                      0   \n",
              "3    32                  0                1                      1   \n",
              "4    30                  1                1                      0   \n",
              "..  ...                ...              ...                    ...   \n",
              "95   30                  1                0                      0   \n",
              "96   29                  1                0                      0   \n",
              "97   30                  1                1                      1   \n",
              "98   30                  1                0                      1   \n",
              "99   30                  0                1                      1   \n",
              "\n",
              "    High fevers  alcohol consumption  smoking habit  smoking habit-  \\\n",
              "0             0                  0.8              0               2   \n",
              "1             0                  0.8              1               3   \n",
              "2             0                  1.0             -1               1   \n",
              "3             0                  1.0             -1               1   \n",
              "4             0                  0.8             -1               1   \n",
              "..          ...                  ...            ...             ...   \n",
              "95            0                  1.0             -1               1   \n",
              "96            0                  0.8              0               2   \n",
              "97            0                  1.0             -1               1   \n",
              "98            0                  1.0              0               2   \n",
              "99            0                  0.6             -1               1   \n",
              "\n",
              "    smoking-never  smoking-occasional  smoking-daily  sitting per day output  \n",
              "0               0                   1              0               16      N  \n",
              "1               0                   0              1                6      O  \n",
              "2               1                   0              0                9      N  \n",
              "3               1                   0              0                7      N  \n",
              "4               1                   0              0                9      O  \n",
              "..            ...                 ...            ...              ...    ...  \n",
              "95              1                   0              0                9      N  \n",
              "96              0                   1              0                9      N  \n",
              "97              1                   0              0                6      N  \n",
              "98              0                   1              0                3      N  \n",
              "99              1                   0              0                3      N  \n",
              "\n",
              "[100 rows x 19 columns]"
            ],
            "text/html": [
              "\n",
              "  <div id=\"df-32d6547b-cb30-4d82-b078-772fd08c287e\">\n",
              "    <div class=\"colab-df-container\">\n",
              "      <div>\n",
              "<style scoped>\n",
              "    .dataframe tbody tr th:only-of-type {\n",
              "        vertical-align: middle;\n",
              "    }\n",
              "\n",
              "    .dataframe tbody tr th {\n",
              "        vertical-align: top;\n",
              "    }\n",
              "\n",
              "    .dataframe thead th {\n",
              "        text-align: right;\n",
              "    }\n",
              "</style>\n",
              "<table border=\"1\" class=\"dataframe\">\n",
              "  <thead>\n",
              "    <tr style=\"text-align: right;\">\n",
              "      <th></th>\n",
              "      <th>S1</th>\n",
              "      <th>Season</th>\n",
              "      <th>Season-winter</th>\n",
              "      <th>Season-spring</th>\n",
              "      <th>Season-summer</th>\n",
              "      <th>Season-fall</th>\n",
              "      <th>age</th>\n",
              "      <th>childish diseases</th>\n",
              "      <th>Accident trauma</th>\n",
              "      <th>surgical intervention</th>\n",
              "      <th>High fevers</th>\n",
              "      <th>alcohol consumption</th>\n",
              "      <th>smoking habit</th>\n",
              "      <th>smoking habit-</th>\n",
              "      <th>smoking-never</th>\n",
              "      <th>smoking-occasional</th>\n",
              "      <th>smoking-daily</th>\n",
              "      <th>sitting per day</th>\n",
              "      <th>output</th>\n",
              "    </tr>\n",
              "  </thead>\n",
              "  <tbody>\n",
              "    <tr>\n",
              "      <th>0</th>\n",
              "      <td>-0.33</td>\n",
              "      <td>2</td>\n",
              "      <td>0</td>\n",
              "      <td>1</td>\n",
              "      <td>0</td>\n",
              "      <td>0</td>\n",
              "      <td>30</td>\n",
              "      <td>0</td>\n",
              "      <td>1</td>\n",
              "      <td>1</td>\n",
              "      <td>0</td>\n",
              "      <td>0.8</td>\n",
              "      <td>0</td>\n",
              "      <td>2</td>\n",
              "      <td>0</td>\n",
              "      <td>1</td>\n",
              "      <td>0</td>\n",
              "      <td>16</td>\n",
              "      <td>N</td>\n",
              "    </tr>\n",
              "    <tr>\n",
              "      <th>1</th>\n",
              "      <td>-0.33</td>\n",
              "      <td>2</td>\n",
              "      <td>0</td>\n",
              "      <td>1</td>\n",
              "      <td>0</td>\n",
              "      <td>0</td>\n",
              "      <td>35</td>\n",
              "      <td>1</td>\n",
              "      <td>0</td>\n",
              "      <td>1</td>\n",
              "      <td>0</td>\n",
              "      <td>0.8</td>\n",
              "      <td>1</td>\n",
              "      <td>3</td>\n",
              "      <td>0</td>\n",
              "      <td>0</td>\n",
              "      <td>1</td>\n",
              "      <td>6</td>\n",
              "      <td>O</td>\n",
              "    </tr>\n",
              "    <tr>\n",
              "      <th>2</th>\n",
              "      <td>-0.33</td>\n",
              "      <td>2</td>\n",
              "      <td>0</td>\n",
              "      <td>1</td>\n",
              "      <td>0</td>\n",
              "      <td>0</td>\n",
              "      <td>27</td>\n",
              "      <td>1</td>\n",
              "      <td>0</td>\n",
              "      <td>0</td>\n",
              "      <td>0</td>\n",
              "      <td>1.0</td>\n",
              "      <td>-1</td>\n",
              "      <td>1</td>\n",
              "      <td>1</td>\n",
              "      <td>0</td>\n",
              "      <td>0</td>\n",
              "      <td>9</td>\n",
              "      <td>N</td>\n",
              "    </tr>\n",
              "    <tr>\n",
              "      <th>3</th>\n",
              "      <td>-0.33</td>\n",
              "      <td>2</td>\n",
              "      <td>0</td>\n",
              "      <td>1</td>\n",
              "      <td>0</td>\n",
              "      <td>0</td>\n",
              "      <td>32</td>\n",
              "      <td>0</td>\n",
              "      <td>1</td>\n",
              "      <td>1</td>\n",
              "      <td>0</td>\n",
              "      <td>1.0</td>\n",
              "      <td>-1</td>\n",
              "      <td>1</td>\n",
              "      <td>1</td>\n",
              "      <td>0</td>\n",
              "      <td>0</td>\n",
              "      <td>7</td>\n",
              "      <td>N</td>\n",
              "    </tr>\n",
              "    <tr>\n",
              "      <th>4</th>\n",
              "      <td>-0.33</td>\n",
              "      <td>2</td>\n",
              "      <td>0</td>\n",
              "      <td>1</td>\n",
              "      <td>0</td>\n",
              "      <td>0</td>\n",
              "      <td>30</td>\n",
              "      <td>1</td>\n",
              "      <td>1</td>\n",
              "      <td>0</td>\n",
              "      <td>0</td>\n",
              "      <td>0.8</td>\n",
              "      <td>-1</td>\n",
              "      <td>1</td>\n",
              "      <td>1</td>\n",
              "      <td>0</td>\n",
              "      <td>0</td>\n",
              "      <td>9</td>\n",
              "      <td>O</td>\n",
              "    </tr>\n",
              "    <tr>\n",
              "      <th>...</th>\n",
              "      <td>...</td>\n",
              "      <td>...</td>\n",
              "      <td>...</td>\n",
              "      <td>...</td>\n",
              "      <td>...</td>\n",
              "      <td>...</td>\n",
              "      <td>...</td>\n",
              "      <td>...</td>\n",
              "      <td>...</td>\n",
              "      <td>...</td>\n",
              "      <td>...</td>\n",
              "      <td>...</td>\n",
              "      <td>...</td>\n",
              "      <td>...</td>\n",
              "      <td>...</td>\n",
              "      <td>...</td>\n",
              "      <td>...</td>\n",
              "      <td>...</td>\n",
              "      <td>...</td>\n",
              "    </tr>\n",
              "    <tr>\n",
              "      <th>95</th>\n",
              "      <td>-1.00</td>\n",
              "      <td>1</td>\n",
              "      <td>1</td>\n",
              "      <td>0</td>\n",
              "      <td>0</td>\n",
              "      <td>0</td>\n",
              "      <td>30</td>\n",
              "      <td>1</td>\n",
              "      <td>0</td>\n",
              "      <td>0</td>\n",
              "      <td>0</td>\n",
              "      <td>1.0</td>\n",
              "      <td>-1</td>\n",
              "      <td>1</td>\n",
              "      <td>1</td>\n",
              "      <td>0</td>\n",
              "      <td>0</td>\n",
              "      <td>9</td>\n",
              "      <td>N</td>\n",
              "    </tr>\n",
              "    <tr>\n",
              "      <th>96</th>\n",
              "      <td>-1.00</td>\n",
              "      <td>1</td>\n",
              "      <td>1</td>\n",
              "      <td>0</td>\n",
              "      <td>0</td>\n",
              "      <td>0</td>\n",
              "      <td>29</td>\n",
              "      <td>1</td>\n",
              "      <td>0</td>\n",
              "      <td>0</td>\n",
              "      <td>0</td>\n",
              "      <td>0.8</td>\n",
              "      <td>0</td>\n",
              "      <td>2</td>\n",
              "      <td>0</td>\n",
              "      <td>1</td>\n",
              "      <td>0</td>\n",
              "      <td>9</td>\n",
              "      <td>N</td>\n",
              "    </tr>\n",
              "    <tr>\n",
              "      <th>97</th>\n",
              "      <td>-1.00</td>\n",
              "      <td>1</td>\n",
              "      <td>1</td>\n",
              "      <td>0</td>\n",
              "      <td>0</td>\n",
              "      <td>0</td>\n",
              "      <td>30</td>\n",
              "      <td>1</td>\n",
              "      <td>1</td>\n",
              "      <td>1</td>\n",
              "      <td>0</td>\n",
              "      <td>1.0</td>\n",
              "      <td>-1</td>\n",
              "      <td>1</td>\n",
              "      <td>1</td>\n",
              "      <td>0</td>\n",
              "      <td>0</td>\n",
              "      <td>6</td>\n",
              "      <td>N</td>\n",
              "    </tr>\n",
              "    <tr>\n",
              "      <th>98</th>\n",
              "      <td>-1.00</td>\n",
              "      <td>1</td>\n",
              "      <td>1</td>\n",
              "      <td>0</td>\n",
              "      <td>0</td>\n",
              "      <td>0</td>\n",
              "      <td>30</td>\n",
              "      <td>1</td>\n",
              "      <td>0</td>\n",
              "      <td>1</td>\n",
              "      <td>0</td>\n",
              "      <td>1.0</td>\n",
              "      <td>0</td>\n",
              "      <td>2</td>\n",
              "      <td>0</td>\n",
              "      <td>1</td>\n",
              "      <td>0</td>\n",
              "      <td>3</td>\n",
              "      <td>N</td>\n",
              "    </tr>\n",
              "    <tr>\n",
              "      <th>99</th>\n",
              "      <td>-1.00</td>\n",
              "      <td>1</td>\n",
              "      <td>1</td>\n",
              "      <td>0</td>\n",
              "      <td>0</td>\n",
              "      <td>0</td>\n",
              "      <td>30</td>\n",
              "      <td>0</td>\n",
              "      <td>1</td>\n",
              "      <td>1</td>\n",
              "      <td>0</td>\n",
              "      <td>0.6</td>\n",
              "      <td>-1</td>\n",
              "      <td>1</td>\n",
              "      <td>1</td>\n",
              "      <td>0</td>\n",
              "      <td>0</td>\n",
              "      <td>3</td>\n",
              "      <td>N</td>\n",
              "    </tr>\n",
              "  </tbody>\n",
              "</table>\n",
              "<p>100 rows × 19 columns</p>\n",
              "</div>\n",
              "      <button class=\"colab-df-convert\" onclick=\"convertToInteractive('df-32d6547b-cb30-4d82-b078-772fd08c287e')\"\n",
              "              title=\"Convert this dataframe to an interactive table.\"\n",
              "              style=\"display:none;\">\n",
              "        \n",
              "  <svg xmlns=\"http://www.w3.org/2000/svg\" height=\"24px\"viewBox=\"0 0 24 24\"\n",
              "       width=\"24px\">\n",
              "    <path d=\"M0 0h24v24H0V0z\" fill=\"none\"/>\n",
              "    <path d=\"M18.56 5.44l.94 2.06.94-2.06 2.06-.94-2.06-.94-.94-2.06-.94 2.06-2.06.94zm-11 1L8.5 8.5l.94-2.06 2.06-.94-2.06-.94L8.5 2.5l-.94 2.06-2.06.94zm10 10l.94 2.06.94-2.06 2.06-.94-2.06-.94-.94-2.06-.94 2.06-2.06.94z\"/><path d=\"M17.41 7.96l-1.37-1.37c-.4-.4-.92-.59-1.43-.59-.52 0-1.04.2-1.43.59L10.3 9.45l-7.72 7.72c-.78.78-.78 2.05 0 2.83L4 21.41c.39.39.9.59 1.41.59.51 0 1.02-.2 1.41-.59l7.78-7.78 2.81-2.81c.8-.78.8-2.07 0-2.86zM5.41 20L4 18.59l7.72-7.72 1.47 1.35L5.41 20z\"/>\n",
              "  </svg>\n",
              "      </button>\n",
              "      \n",
              "  <style>\n",
              "    .colab-df-container {\n",
              "      display:flex;\n",
              "      flex-wrap:wrap;\n",
              "      gap: 12px;\n",
              "    }\n",
              "\n",
              "    .colab-df-convert {\n",
              "      background-color: #E8F0FE;\n",
              "      border: none;\n",
              "      border-radius: 50%;\n",
              "      cursor: pointer;\n",
              "      display: none;\n",
              "      fill: #1967D2;\n",
              "      height: 32px;\n",
              "      padding: 0 0 0 0;\n",
              "      width: 32px;\n",
              "    }\n",
              "\n",
              "    .colab-df-convert:hover {\n",
              "      background-color: #E2EBFA;\n",
              "      box-shadow: 0px 1px 2px rgba(60, 64, 67, 0.3), 0px 1px 3px 1px rgba(60, 64, 67, 0.15);\n",
              "      fill: #174EA6;\n",
              "    }\n",
              "\n",
              "    [theme=dark] .colab-df-convert {\n",
              "      background-color: #3B4455;\n",
              "      fill: #D2E3FC;\n",
              "    }\n",
              "\n",
              "    [theme=dark] .colab-df-convert:hover {\n",
              "      background-color: #434B5C;\n",
              "      box-shadow: 0px 1px 3px 1px rgba(0, 0, 0, 0.15);\n",
              "      filter: drop-shadow(0px 1px 2px rgba(0, 0, 0, 0.3));\n",
              "      fill: #FFFFFF;\n",
              "    }\n",
              "  </style>\n",
              "\n",
              "      <script>\n",
              "        const buttonEl =\n",
              "          document.querySelector('#df-32d6547b-cb30-4d82-b078-772fd08c287e button.colab-df-convert');\n",
              "        buttonEl.style.display =\n",
              "          google.colab.kernel.accessAllowed ? 'block' : 'none';\n",
              "\n",
              "        async function convertToInteractive(key) {\n",
              "          const element = document.querySelector('#df-32d6547b-cb30-4d82-b078-772fd08c287e');\n",
              "          const dataTable =\n",
              "            await google.colab.kernel.invokeFunction('convertToInteractive',\n",
              "                                                     [key], {});\n",
              "          if (!dataTable) return;\n",
              "\n",
              "          const docLinkHtml = 'Like what you see? Visit the ' +\n",
              "            '<a target=\"_blank\" href=https://colab.research.google.com/notebooks/data_table.ipynb>data table notebook</a>'\n",
              "            + ' to learn more about interactive tables.';\n",
              "          element.innerHTML = '';\n",
              "          dataTable['output_type'] = 'display_data';\n",
              "          await google.colab.output.renderOutput(dataTable, element);\n",
              "          const docLink = document.createElement('div');\n",
              "          docLink.innerHTML = docLinkHtml;\n",
              "          element.appendChild(docLink);\n",
              "        }\n",
              "      </script>\n",
              "    </div>\n",
              "  </div>\n",
              "  "
            ]
          },
          "metadata": {},
          "execution_count": 3
        }
      ]
    },
    {
      "cell_type": "code",
      "source": [
        "data.output.replace(('N','O'),(0,1),inplace=True)\n",
        "data"
      ],
      "metadata": {
        "id": "FMJ1I07ourIh",
        "colab": {
          "base_uri": "https://localhost:8080/",
          "height": 505
        },
        "outputId": "e45a8606-5d03-469c-c16b-806aabc1f10e"
      },
      "execution_count": null,
      "outputs": [
        {
          "output_type": "execute_result",
          "data": {
            "text/plain": [
              "      S1  Season  Season-winter  Season-spring  Season-summer  Season-fall  \\\n",
              "0  -0.33       2              0              1              0            0   \n",
              "1  -0.33       2              0              1              0            0   \n",
              "2  -0.33       2              0              1              0            0   \n",
              "3  -0.33       2              0              1              0            0   \n",
              "4  -0.33       2              0              1              0            0   \n",
              "..   ...     ...            ...            ...            ...          ...   \n",
              "95 -1.00       1              1              0              0            0   \n",
              "96 -1.00       1              1              0              0            0   \n",
              "97 -1.00       1              1              0              0            0   \n",
              "98 -1.00       1              1              0              0            0   \n",
              "99 -1.00       1              1              0              0            0   \n",
              "\n",
              "    age  childish diseases  Accident trauma  surgical intervention  \\\n",
              "0    30                  0                1                      1   \n",
              "1    35                  1                0                      1   \n",
              "2    27                  1                0                      0   \n",
              "3    32                  0                1                      1   \n",
              "4    30                  1                1                      0   \n",
              "..  ...                ...              ...                    ...   \n",
              "95   30                  1                0                      0   \n",
              "96   29                  1                0                      0   \n",
              "97   30                  1                1                      1   \n",
              "98   30                  1                0                      1   \n",
              "99   30                  0                1                      1   \n",
              "\n",
              "    High fevers  alcohol consumption  smoking habit  smoking habit-  \\\n",
              "0             0                  0.8              0               2   \n",
              "1             0                  0.8              1               3   \n",
              "2             0                  1.0             -1               1   \n",
              "3             0                  1.0             -1               1   \n",
              "4             0                  0.8             -1               1   \n",
              "..          ...                  ...            ...             ...   \n",
              "95            0                  1.0             -1               1   \n",
              "96            0                  0.8              0               2   \n",
              "97            0                  1.0             -1               1   \n",
              "98            0                  1.0              0               2   \n",
              "99            0                  0.6             -1               1   \n",
              "\n",
              "    smoking-never  smoking-occasional  smoking-daily  sitting per day  output  \n",
              "0               0                   1              0               16       0  \n",
              "1               0                   0              1                6       1  \n",
              "2               1                   0              0                9       0  \n",
              "3               1                   0              0                7       0  \n",
              "4               1                   0              0                9       1  \n",
              "..            ...                 ...            ...              ...     ...  \n",
              "95              1                   0              0                9       0  \n",
              "96              0                   1              0                9       0  \n",
              "97              1                   0              0                6       0  \n",
              "98              0                   1              0                3       0  \n",
              "99              1                   0              0                3       0  \n",
              "\n",
              "[100 rows x 19 columns]"
            ],
            "text/html": [
              "\n",
              "  <div id=\"df-798686af-7596-4950-9699-3888813b076b\">\n",
              "    <div class=\"colab-df-container\">\n",
              "      <div>\n",
              "<style scoped>\n",
              "    .dataframe tbody tr th:only-of-type {\n",
              "        vertical-align: middle;\n",
              "    }\n",
              "\n",
              "    .dataframe tbody tr th {\n",
              "        vertical-align: top;\n",
              "    }\n",
              "\n",
              "    .dataframe thead th {\n",
              "        text-align: right;\n",
              "    }\n",
              "</style>\n",
              "<table border=\"1\" class=\"dataframe\">\n",
              "  <thead>\n",
              "    <tr style=\"text-align: right;\">\n",
              "      <th></th>\n",
              "      <th>S1</th>\n",
              "      <th>Season</th>\n",
              "      <th>Season-winter</th>\n",
              "      <th>Season-spring</th>\n",
              "      <th>Season-summer</th>\n",
              "      <th>Season-fall</th>\n",
              "      <th>age</th>\n",
              "      <th>childish diseases</th>\n",
              "      <th>Accident trauma</th>\n",
              "      <th>surgical intervention</th>\n",
              "      <th>High fevers</th>\n",
              "      <th>alcohol consumption</th>\n",
              "      <th>smoking habit</th>\n",
              "      <th>smoking habit-</th>\n",
              "      <th>smoking-never</th>\n",
              "      <th>smoking-occasional</th>\n",
              "      <th>smoking-daily</th>\n",
              "      <th>sitting per day</th>\n",
              "      <th>output</th>\n",
              "    </tr>\n",
              "  </thead>\n",
              "  <tbody>\n",
              "    <tr>\n",
              "      <th>0</th>\n",
              "      <td>-0.33</td>\n",
              "      <td>2</td>\n",
              "      <td>0</td>\n",
              "      <td>1</td>\n",
              "      <td>0</td>\n",
              "      <td>0</td>\n",
              "      <td>30</td>\n",
              "      <td>0</td>\n",
              "      <td>1</td>\n",
              "      <td>1</td>\n",
              "      <td>0</td>\n",
              "      <td>0.8</td>\n",
              "      <td>0</td>\n",
              "      <td>2</td>\n",
              "      <td>0</td>\n",
              "      <td>1</td>\n",
              "      <td>0</td>\n",
              "      <td>16</td>\n",
              "      <td>0</td>\n",
              "    </tr>\n",
              "    <tr>\n",
              "      <th>1</th>\n",
              "      <td>-0.33</td>\n",
              "      <td>2</td>\n",
              "      <td>0</td>\n",
              "      <td>1</td>\n",
              "      <td>0</td>\n",
              "      <td>0</td>\n",
              "      <td>35</td>\n",
              "      <td>1</td>\n",
              "      <td>0</td>\n",
              "      <td>1</td>\n",
              "      <td>0</td>\n",
              "      <td>0.8</td>\n",
              "      <td>1</td>\n",
              "      <td>3</td>\n",
              "      <td>0</td>\n",
              "      <td>0</td>\n",
              "      <td>1</td>\n",
              "      <td>6</td>\n",
              "      <td>1</td>\n",
              "    </tr>\n",
              "    <tr>\n",
              "      <th>2</th>\n",
              "      <td>-0.33</td>\n",
              "      <td>2</td>\n",
              "      <td>0</td>\n",
              "      <td>1</td>\n",
              "      <td>0</td>\n",
              "      <td>0</td>\n",
              "      <td>27</td>\n",
              "      <td>1</td>\n",
              "      <td>0</td>\n",
              "      <td>0</td>\n",
              "      <td>0</td>\n",
              "      <td>1.0</td>\n",
              "      <td>-1</td>\n",
              "      <td>1</td>\n",
              "      <td>1</td>\n",
              "      <td>0</td>\n",
              "      <td>0</td>\n",
              "      <td>9</td>\n",
              "      <td>0</td>\n",
              "    </tr>\n",
              "    <tr>\n",
              "      <th>3</th>\n",
              "      <td>-0.33</td>\n",
              "      <td>2</td>\n",
              "      <td>0</td>\n",
              "      <td>1</td>\n",
              "      <td>0</td>\n",
              "      <td>0</td>\n",
              "      <td>32</td>\n",
              "      <td>0</td>\n",
              "      <td>1</td>\n",
              "      <td>1</td>\n",
              "      <td>0</td>\n",
              "      <td>1.0</td>\n",
              "      <td>-1</td>\n",
              "      <td>1</td>\n",
              "      <td>1</td>\n",
              "      <td>0</td>\n",
              "      <td>0</td>\n",
              "      <td>7</td>\n",
              "      <td>0</td>\n",
              "    </tr>\n",
              "    <tr>\n",
              "      <th>4</th>\n",
              "      <td>-0.33</td>\n",
              "      <td>2</td>\n",
              "      <td>0</td>\n",
              "      <td>1</td>\n",
              "      <td>0</td>\n",
              "      <td>0</td>\n",
              "      <td>30</td>\n",
              "      <td>1</td>\n",
              "      <td>1</td>\n",
              "      <td>0</td>\n",
              "      <td>0</td>\n",
              "      <td>0.8</td>\n",
              "      <td>-1</td>\n",
              "      <td>1</td>\n",
              "      <td>1</td>\n",
              "      <td>0</td>\n",
              "      <td>0</td>\n",
              "      <td>9</td>\n",
              "      <td>1</td>\n",
              "    </tr>\n",
              "    <tr>\n",
              "      <th>...</th>\n",
              "      <td>...</td>\n",
              "      <td>...</td>\n",
              "      <td>...</td>\n",
              "      <td>...</td>\n",
              "      <td>...</td>\n",
              "      <td>...</td>\n",
              "      <td>...</td>\n",
              "      <td>...</td>\n",
              "      <td>...</td>\n",
              "      <td>...</td>\n",
              "      <td>...</td>\n",
              "      <td>...</td>\n",
              "      <td>...</td>\n",
              "      <td>...</td>\n",
              "      <td>...</td>\n",
              "      <td>...</td>\n",
              "      <td>...</td>\n",
              "      <td>...</td>\n",
              "      <td>...</td>\n",
              "    </tr>\n",
              "    <tr>\n",
              "      <th>95</th>\n",
              "      <td>-1.00</td>\n",
              "      <td>1</td>\n",
              "      <td>1</td>\n",
              "      <td>0</td>\n",
              "      <td>0</td>\n",
              "      <td>0</td>\n",
              "      <td>30</td>\n",
              "      <td>1</td>\n",
              "      <td>0</td>\n",
              "      <td>0</td>\n",
              "      <td>0</td>\n",
              "      <td>1.0</td>\n",
              "      <td>-1</td>\n",
              "      <td>1</td>\n",
              "      <td>1</td>\n",
              "      <td>0</td>\n",
              "      <td>0</td>\n",
              "      <td>9</td>\n",
              "      <td>0</td>\n",
              "    </tr>\n",
              "    <tr>\n",
              "      <th>96</th>\n",
              "      <td>-1.00</td>\n",
              "      <td>1</td>\n",
              "      <td>1</td>\n",
              "      <td>0</td>\n",
              "      <td>0</td>\n",
              "      <td>0</td>\n",
              "      <td>29</td>\n",
              "      <td>1</td>\n",
              "      <td>0</td>\n",
              "      <td>0</td>\n",
              "      <td>0</td>\n",
              "      <td>0.8</td>\n",
              "      <td>0</td>\n",
              "      <td>2</td>\n",
              "      <td>0</td>\n",
              "      <td>1</td>\n",
              "      <td>0</td>\n",
              "      <td>9</td>\n",
              "      <td>0</td>\n",
              "    </tr>\n",
              "    <tr>\n",
              "      <th>97</th>\n",
              "      <td>-1.00</td>\n",
              "      <td>1</td>\n",
              "      <td>1</td>\n",
              "      <td>0</td>\n",
              "      <td>0</td>\n",
              "      <td>0</td>\n",
              "      <td>30</td>\n",
              "      <td>1</td>\n",
              "      <td>1</td>\n",
              "      <td>1</td>\n",
              "      <td>0</td>\n",
              "      <td>1.0</td>\n",
              "      <td>-1</td>\n",
              "      <td>1</td>\n",
              "      <td>1</td>\n",
              "      <td>0</td>\n",
              "      <td>0</td>\n",
              "      <td>6</td>\n",
              "      <td>0</td>\n",
              "    </tr>\n",
              "    <tr>\n",
              "      <th>98</th>\n",
              "      <td>-1.00</td>\n",
              "      <td>1</td>\n",
              "      <td>1</td>\n",
              "      <td>0</td>\n",
              "      <td>0</td>\n",
              "      <td>0</td>\n",
              "      <td>30</td>\n",
              "      <td>1</td>\n",
              "      <td>0</td>\n",
              "      <td>1</td>\n",
              "      <td>0</td>\n",
              "      <td>1.0</td>\n",
              "      <td>0</td>\n",
              "      <td>2</td>\n",
              "      <td>0</td>\n",
              "      <td>1</td>\n",
              "      <td>0</td>\n",
              "      <td>3</td>\n",
              "      <td>0</td>\n",
              "    </tr>\n",
              "    <tr>\n",
              "      <th>99</th>\n",
              "      <td>-1.00</td>\n",
              "      <td>1</td>\n",
              "      <td>1</td>\n",
              "      <td>0</td>\n",
              "      <td>0</td>\n",
              "      <td>0</td>\n",
              "      <td>30</td>\n",
              "      <td>0</td>\n",
              "      <td>1</td>\n",
              "      <td>1</td>\n",
              "      <td>0</td>\n",
              "      <td>0.6</td>\n",
              "      <td>-1</td>\n",
              "      <td>1</td>\n",
              "      <td>1</td>\n",
              "      <td>0</td>\n",
              "      <td>0</td>\n",
              "      <td>3</td>\n",
              "      <td>0</td>\n",
              "    </tr>\n",
              "  </tbody>\n",
              "</table>\n",
              "<p>100 rows × 19 columns</p>\n",
              "</div>\n",
              "      <button class=\"colab-df-convert\" onclick=\"convertToInteractive('df-798686af-7596-4950-9699-3888813b076b')\"\n",
              "              title=\"Convert this dataframe to an interactive table.\"\n",
              "              style=\"display:none;\">\n",
              "        \n",
              "  <svg xmlns=\"http://www.w3.org/2000/svg\" height=\"24px\"viewBox=\"0 0 24 24\"\n",
              "       width=\"24px\">\n",
              "    <path d=\"M0 0h24v24H0V0z\" fill=\"none\"/>\n",
              "    <path d=\"M18.56 5.44l.94 2.06.94-2.06 2.06-.94-2.06-.94-.94-2.06-.94 2.06-2.06.94zm-11 1L8.5 8.5l.94-2.06 2.06-.94-2.06-.94L8.5 2.5l-.94 2.06-2.06.94zm10 10l.94 2.06.94-2.06 2.06-.94-2.06-.94-.94-2.06-.94 2.06-2.06.94z\"/><path d=\"M17.41 7.96l-1.37-1.37c-.4-.4-.92-.59-1.43-.59-.52 0-1.04.2-1.43.59L10.3 9.45l-7.72 7.72c-.78.78-.78 2.05 0 2.83L4 21.41c.39.39.9.59 1.41.59.51 0 1.02-.2 1.41-.59l7.78-7.78 2.81-2.81c.8-.78.8-2.07 0-2.86zM5.41 20L4 18.59l7.72-7.72 1.47 1.35L5.41 20z\"/>\n",
              "  </svg>\n",
              "      </button>\n",
              "      \n",
              "  <style>\n",
              "    .colab-df-container {\n",
              "      display:flex;\n",
              "      flex-wrap:wrap;\n",
              "      gap: 12px;\n",
              "    }\n",
              "\n",
              "    .colab-df-convert {\n",
              "      background-color: #E8F0FE;\n",
              "      border: none;\n",
              "      border-radius: 50%;\n",
              "      cursor: pointer;\n",
              "      display: none;\n",
              "      fill: #1967D2;\n",
              "      height: 32px;\n",
              "      padding: 0 0 0 0;\n",
              "      width: 32px;\n",
              "    }\n",
              "\n",
              "    .colab-df-convert:hover {\n",
              "      background-color: #E2EBFA;\n",
              "      box-shadow: 0px 1px 2px rgba(60, 64, 67, 0.3), 0px 1px 3px 1px rgba(60, 64, 67, 0.15);\n",
              "      fill: #174EA6;\n",
              "    }\n",
              "\n",
              "    [theme=dark] .colab-df-convert {\n",
              "      background-color: #3B4455;\n",
              "      fill: #D2E3FC;\n",
              "    }\n",
              "\n",
              "    [theme=dark] .colab-df-convert:hover {\n",
              "      background-color: #434B5C;\n",
              "      box-shadow: 0px 1px 3px 1px rgba(0, 0, 0, 0.15);\n",
              "      filter: drop-shadow(0px 1px 2px rgba(0, 0, 0, 0.3));\n",
              "      fill: #FFFFFF;\n",
              "    }\n",
              "  </style>\n",
              "\n",
              "      <script>\n",
              "        const buttonEl =\n",
              "          document.querySelector('#df-798686af-7596-4950-9699-3888813b076b button.colab-df-convert');\n",
              "        buttonEl.style.display =\n",
              "          google.colab.kernel.accessAllowed ? 'block' : 'none';\n",
              "\n",
              "        async function convertToInteractive(key) {\n",
              "          const element = document.querySelector('#df-798686af-7596-4950-9699-3888813b076b');\n",
              "          const dataTable =\n",
              "            await google.colab.kernel.invokeFunction('convertToInteractive',\n",
              "                                                     [key], {});\n",
              "          if (!dataTable) return;\n",
              "\n",
              "          const docLinkHtml = 'Like what you see? Visit the ' +\n",
              "            '<a target=\"_blank\" href=https://colab.research.google.com/notebooks/data_table.ipynb>data table notebook</a>'\n",
              "            + ' to learn more about interactive tables.';\n",
              "          element.innerHTML = '';\n",
              "          dataTable['output_type'] = 'display_data';\n",
              "          await google.colab.output.renderOutput(dataTable, element);\n",
              "          const docLink = document.createElement('div');\n",
              "          docLink.innerHTML = docLinkHtml;\n",
              "          element.appendChild(docLink);\n",
              "        }\n",
              "      </script>\n",
              "    </div>\n",
              "  </div>\n",
              "  "
            ]
          },
          "metadata": {},
          "execution_count": 4
        }
      ]
    },
    {
      "cell_type": "code",
      "source": [
        "data.shape"
      ],
      "metadata": {
        "id": "LBAp-t8PJByI",
        "colab": {
          "base_uri": "https://localhost:8080/"
        },
        "outputId": "f49ee831-bc8d-40de-969d-eb6094569ad6"
      },
      "execution_count": null,
      "outputs": [
        {
          "output_type": "execute_result",
          "data": {
            "text/plain": [
              "(100, 19)"
            ]
          },
          "metadata": {},
          "execution_count": 5
        }
      ]
    },
    {
      "cell_type": "code",
      "source": [
        "data.isnull().sum()"
      ],
      "metadata": {
        "id": "I7z9hFb7x2AN",
        "colab": {
          "base_uri": "https://localhost:8080/"
        },
        "outputId": "2ed93ac3-efeb-465a-abfa-07765101aa0a"
      },
      "execution_count": null,
      "outputs": [
        {
          "output_type": "execute_result",
          "data": {
            "text/plain": [
              "S1                       0\n",
              "Season                   0\n",
              "Season-winter            0\n",
              "Season-spring            0\n",
              "Season-summer            0\n",
              "Season-fall              0\n",
              "age                      0\n",
              "childish diseases        0\n",
              "Accident trauma          0\n",
              "surgical intervention    0\n",
              "High fevers              0\n",
              "alcohol consumption      0\n",
              "smoking habit            0\n",
              "smoking habit-           0\n",
              "smoking-never            0\n",
              "smoking-occasional       0\n",
              "smoking-daily            0\n",
              "sitting per day          0\n",
              "output                   0\n",
              "dtype: int64"
            ]
          },
          "metadata": {},
          "execution_count": 6
        }
      ]
    },
    {
      "cell_type": "code",
      "source": [
        "d=data.loc[:,\"age\"]\n",
        "d"
      ],
      "metadata": {
        "id": "of62LWtPqY7M",
        "colab": {
          "base_uri": "https://localhost:8080/"
        },
        "outputId": "6d1e7d4a-a076-4664-90fc-7ad6a03fef9b"
      },
      "execution_count": null,
      "outputs": [
        {
          "output_type": "execute_result",
          "data": {
            "text/plain": [
              "0     30\n",
              "1     35\n",
              "2     27\n",
              "3     32\n",
              "4     30\n",
              "      ..\n",
              "95    30\n",
              "96    29\n",
              "97    30\n",
              "98    30\n",
              "99    30\n",
              "Name: age, Length: 100, dtype: int64"
            ]
          },
          "metadata": {},
          "execution_count": 8
        }
      ]
    },
    {
      "cell_type": "code",
      "source": [
        "imp = pd.Series(d).value_counts()\n",
        "print(\"Age count\")\n",
        "print(imp)"
      ],
      "metadata": {
        "id": "je4bgp-vqvrz",
        "colab": {
          "base_uri": "https://localhost:8080/"
        },
        "outputId": "8ac82ac9-67e4-4e1b-fe36-a13e54562c60"
      },
      "execution_count": null,
      "outputs": [
        {
          "output_type": "stream",
          "name": "stdout",
          "text": [
            "Age count\n",
            "28    28\n",
            "30    27\n",
            "32    17\n",
            "27     7\n",
            "33     7\n",
            "29     5\n",
            "35     4\n",
            "36     2\n",
            "31     2\n",
            "34     1\n",
            "Name: age, dtype: int64\n"
          ]
        }
      ]
    },
    {
      "cell_type": "markdown",
      "source": [
        "## EDA"
      ],
      "metadata": {
        "id": "MOl6wQ9F9aT_"
      }
    },
    {
      "cell_type": "markdown",
      "source": [
        "#### PLOT 1"
      ],
      "metadata": {
        "id": "f0txpyR61Pno"
      }
    },
    {
      "cell_type": "code",
      "source": [
        "sns.countplot(x='output',hue='Season',data=data)\n",
        "sns.set(rc={'figure.figsize':(10,10)})\n",
        "plt.title(\"season vs output\")"
      ],
      "metadata": {
        "colab": {
          "base_uri": "https://localhost:8080/",
          "height": 644
        },
        "id": "bT8bitHg-Q2J",
        "outputId": "abd40b58-07a8-4aec-9c91-ace1cf3d5e62"
      },
      "execution_count": null,
      "outputs": [
        {
          "output_type": "execute_result",
          "data": {
            "text/plain": [
              "Text(0.5, 1.0, 'season vs output')"
            ]
          },
          "metadata": {},
          "execution_count": 13
        },
        {
          "output_type": "display_data",
          "data": {
            "text/plain": [
              "<Figure size 720x720 with 1 Axes>"
            ],
            "image/png": "[encoded data removed]"
          },
          "metadata": {}
        }
      ]
    },
    {
      "cell_type": "code",
      "source": [
        "gender_group = data.groupby(['output', 'High fevers']).size().unstack()\n",
        "\n",
        "gender_group.apply(lambda x:x/x.sum(), axis=1).plot(kind='barh', stacked=True, legend=False)\n",
        "\n",
        "plt.legend(['less than 3 months','more than 3 months','no'], bbox_to_anchor=(1.0, 0.7))\n",
        "\n",
        "plt.xlabel('High fevers ')"
      ],
      "metadata": {
        "colab": {
          "base_uri": "https://localhost:8080/",
          "height": 296
        },
        "id": "g0n6rkwTCk_J",
        "outputId": "61031943-7d2c-4bc7-9055-e3600b432755"
      },
      "execution_count": null,
      "outputs": [
        {
          "output_type": "execute_result",
          "data": {
            "text/plain": [
              "Text(0.5, 0, 'High fevers ')"
            ]
          },
          "metadata": {},
          "execution_count": 7
        },
        {
          "output_type": "display_data",
          "data": {
            "text/plain": [
              "<Figure size 432x288 with 1 Axes>"
            ],
            "image/png": "[encoded data removed]"
          },
          "metadata": {
            "needs_background": "light"
          }
        }
      ]
    },
    {
      "cell_type": "code",
      "source": [
        "sns.countplot(x=\"alcohol consumption\", hue=\"Accident trauma\", data=data)"
      ],
      "metadata": {
        "colab": {
          "base_uri": "https://localhost:8080/",
          "height": 628
        },
        "id": "Im7XupxHDha7",
        "outputId": "e881fa5f-c82f-4693-853e-a45c523f9f8e"
      },
      "execution_count": null,
      "outputs": [
        {
          "output_type": "execute_result",
          "data": {
            "text/plain": [
              "<matplotlib.axes._subplots.AxesSubplot at 0x7f69d6f8d0d0>"
            ]
          },
          "metadata": {},
          "execution_count": 16
        },
        {
          "output_type": "display_data",
          "data": {
            "text/plain": [
              "<Figure size 720x720 with 1 Axes>"
            ],
            "image/png": "[encoded data removed]"
          },
          "metadata": {}
        }
      ]
    },
    {
      "cell_type": "code",
      "source": [
        "# AGE VS OUTPUT\n",
        "from matplotlib import pyplot as plt\n",
        "C1 = data.groupby('age')['output'].count()\n",
        "C1\n",
        "#plot count\n",
        "print(\"Plot 1\")\n",
        "C1.plot(kind=\"bar\", title=\"test\")\n",
        "plt.title(\"age vs op(count)\")\n",
        "plt.xlabel(\"age\")\n",
        "plt.ylabel(\"op\")\n",
        "plt.show();"
      ],
      "metadata": {
        "id": "Q9CO0Fj19b86",
        "colab": {
          "base_uri": "https://localhost:8080/",
          "height": 315
        },
        "outputId": "4ee30ec9-268c-4a7a-a4b0-8425c5cbd976"
      },
      "execution_count": null,
      "outputs": [
        {
          "output_type": "stream",
          "name": "stdout",
          "text": [
            "Plot 1\n"
          ]
        },
        {
          "output_type": "display_data",
          "data": {
            "text/plain": [
              "<Figure size 432x288 with 1 Axes>"
            ],
            "image/png": "[encoded data removed]"
          },
          "metadata": {
            "needs_background": "light"
          }
        }
      ]
    },
    {
      "cell_type": "markdown",
      "source": [
        "#### PLOT 2"
      ],
      "metadata": {
        "id": "xezgw0l41UFC"
      }
    },
    {
      "cell_type": "code",
      "source": [
        "plt.figure(figsize=(9,6))\n",
        "print(\"plot 2\")\n",
        "sns.barplot(x='childhood diseases', y='High feres', data=data)\n",
        "plt.title('Distribution Of age with sitting hours', fontsize=20)"
      ],
      "metadata": {
        "colab": {
          "base_uri": "https://localhost:8080/",
          "height": 397
        },
        "id": "fYX6oagSbX-t",
        "outputId": "09e21ddc-8d56-4e4e-d835-b895c59c41f7"
      },
      "execution_count": null,
      "outputs": [
        {
          "output_type": "stream",
          "name": "stdout",
          "text": [
            "plot 2\n"
          ]
        },
        {
          "output_type": "error",
          "ename": "ValueError",
          "evalue": "ignored",
          "traceback": [
            "\u001b[0;31m---------------------------------------------------------------------------\u001b[0m",
            "\u001b[0;31mValueError\u001b[0m                                Traceback (most recent call last)",
            "\u001b[0;32m<ipython-input-69-7da37e899b29>\u001b[0m in \u001b[0;36m<module>\u001b[0;34m\u001b[0m\n\u001b[1;32m      1\u001b[0m \u001b[0mplt\u001b[0m\u001b[0;34m.\u001b[0m\u001b[0mfigure\u001b[0m\u001b[0;34m(\u001b[0m\u001b[0mfigsize\u001b[0m\u001b[0;34m=\u001b[0m\u001b[0;34m(\u001b[0m\u001b[0;36m9\u001b[0m\u001b[0;34m,\u001b[0m\u001b[0;36m6\u001b[0m\u001b[0;34m)\u001b[0m\u001b[0;34m)\u001b[0m\u001b[0;34m\u001b[0m\u001b[0;34m\u001b[0m\u001b[0m\n\u001b[1;32m      2\u001b[0m \u001b[0mprint\u001b[0m\u001b[0;34m(\u001b[0m\u001b[0;34m\"plot 2\"\u001b[0m\u001b[0;34m)\u001b[0m\u001b[0;34m\u001b[0m\u001b[0;34m\u001b[0m\u001b[0m\n\u001b[0;32m----> 3\u001b[0;31m \u001b[0msns\u001b[0m\u001b[0;34m.\u001b[0m\u001b[0mbarplot\u001b[0m\u001b[0;34m(\u001b[0m\u001b[0mx\u001b[0m\u001b[0;34m=\u001b[0m\u001b[0;34m'childhood diseases'\u001b[0m\u001b[0;34m,\u001b[0m \u001b[0my\u001b[0m\u001b[0;34m=\u001b[0m\u001b[0;34m'High feres'\u001b[0m\u001b[0;34m,\u001b[0m \u001b[0mdata\u001b[0m\u001b[0;34m=\u001b[0m\u001b[0mdata\u001b[0m\u001b[0;34m)\u001b[0m\u001b[0;34m\u001b[0m\u001b[0;34m\u001b[0m\u001b[0m\n\u001b[0m\u001b[1;32m      4\u001b[0m \u001b[0mplt\u001b[0m\u001b[0;34m.\u001b[0m\u001b[0mtitle\u001b[0m\u001b[0;34m(\u001b[0m\u001b[0;34m'Distribution Of age with sitting hours'\u001b[0m\u001b[0;34m,\u001b[0m \u001b[0mfontsize\u001b[0m\u001b[0;34m=\u001b[0m\u001b[0;36m20\u001b[0m\u001b[0;34m)\u001b[0m\u001b[0;34m\u001b[0m\u001b[0;34m\u001b[0m\u001b[0m\n",
            "\u001b[0;32m/usr/local/lib/python3.8/dist-packages/seaborn/_decorators.py\u001b[0m in \u001b[0;36minner_f\u001b[0;34m(*args, **kwargs)\u001b[0m\n\u001b[1;32m     44\u001b[0m             )\n\u001b[1;32m     45\u001b[0m         \u001b[0mkwargs\u001b[0m\u001b[0;34m.\u001b[0m\u001b[0mupdate\u001b[0m\u001b[0;34m(\u001b[0m\u001b[0;34m{\u001b[0m\u001b[0mk\u001b[0m\u001b[0;34m:\u001b[0m \u001b[0marg\u001b[0m \u001b[0;32mfor\u001b[0m \u001b[0mk\u001b[0m\u001b[0;34m,\u001b[0m \u001b[0marg\u001b[0m \u001b[0;32min\u001b[0m \u001b[0mzip\u001b[0m\u001b[0;34m(\u001b[0m\u001b[0msig\u001b[0m\u001b[0;34m.\u001b[0m\u001b[0mparameters\u001b[0m\u001b[0;34m,\u001b[0m \u001b[0margs\u001b[0m\u001b[0;34m)\u001b[0m\u001b[0;34m}\u001b[0m\u001b[0;34m)\u001b[0m\u001b[0;34m\u001b[0m\u001b[0;34m\u001b[0m\u001b[0m\n\u001b[0;32m---> 46\u001b[0;31m         \u001b[0;32mreturn\u001b[0m \u001b[0mf\u001b[0m\u001b[0;34m(\u001b[0m\u001b[0;34m**\u001b[0m\u001b[0mkwargs\u001b[0m\u001b[0;34m)\u001b[0m\u001b[0;34m\u001b[0m\u001b[0;34m\u001b[0m\u001b[0m\n\u001b[0m\u001b[1;32m     47\u001b[0m     \u001b[0;32mreturn\u001b[0m \u001b[0minner_f\u001b[0m\u001b[0;34m\u001b[0m\u001b[0;34m\u001b[0m\u001b[0m\n\u001b[1;32m     48\u001b[0m \u001b[0;34m\u001b[0m\u001b[0m\n",
            "\u001b[0;32m/usr/local/lib/python3.8/dist-packages/seaborn/categorical.py\u001b[0m in \u001b[0;36mbarplot\u001b[0;34m(x, y, hue, data, order, hue_order, estimator, ci, n_boot, units, seed, orient, color, palette, saturation, errcolor, errwidth, capsize, dodge, ax, **kwargs)\u001b[0m\n\u001b[1;32m   3180\u001b[0m ):\n\u001b[1;32m   3181\u001b[0m \u001b[0;34m\u001b[0m\u001b[0m\n\u001b[0;32m-> 3182\u001b[0;31m     plotter = _BarPlotter(x, y, hue, data, order, hue_order,\n\u001b[0m\u001b[1;32m   3183\u001b[0m                           \u001b[0mestimator\u001b[0m\u001b[0;34m,\u001b[0m \u001b[0mci\u001b[0m\u001b[0;34m,\u001b[0m \u001b[0mn_boot\u001b[0m\u001b[0;34m,\u001b[0m \u001b[0munits\u001b[0m\u001b[0;34m,\u001b[0m \u001b[0mseed\u001b[0m\u001b[0;34m,\u001b[0m\u001b[0;34m\u001b[0m\u001b[0;34m\u001b[0m\u001b[0m\n\u001b[1;32m   3184\u001b[0m                           \u001b[0morient\u001b[0m\u001b[0;34m,\u001b[0m \u001b[0mcolor\u001b[0m\u001b[0;34m,\u001b[0m \u001b[0mpalette\u001b[0m\u001b[0;34m,\u001b[0m \u001b[0msaturation\u001b[0m\u001b[0;34m,\u001b[0m\u001b[0;34m\u001b[0m\u001b[0;34m\u001b[0m\u001b[0m\n",
            "\u001b[0;32m/usr/local/lib/python3.8/dist-packages/seaborn/categorical.py\u001b[0m in \u001b[0;36m__init__\u001b[0;34m(self, x, y, hue, data, order, hue_order, estimator, ci, n_boot, units, seed, orient, color, palette, saturation, errcolor, errwidth, capsize, dodge)\u001b[0m\n\u001b[1;32m   1582\u001b[0m                  errwidth, capsize, dodge):\n\u001b[1;32m   1583\u001b[0m         \u001b[0;34m\"\"\"Initialize the plotter.\"\"\"\u001b[0m\u001b[0;34m\u001b[0m\u001b[0;34m\u001b[0m\u001b[0m\n\u001b[0;32m-> 1584\u001b[0;31m         self.establish_variables(x, y, hue, data, orient,\n\u001b[0m\u001b[1;32m   1585\u001b[0m                                  order, hue_order, units)\n\u001b[1;32m   1586\u001b[0m         \u001b[0mself\u001b[0m\u001b[0;34m.\u001b[0m\u001b[0mestablish_colors\u001b[0m\u001b[0;34m(\u001b[0m\u001b[0mcolor\u001b[0m\u001b[0;34m,\u001b[0m \u001b[0mpalette\u001b[0m\u001b[0;34m,\u001b[0m \u001b[0msaturation\u001b[0m\u001b[0;34m)\u001b[0m\u001b[0;34m\u001b[0m\u001b[0;34m\u001b[0m\u001b[0m\n",
            "\u001b[0;32m/usr/local/lib/python3.8/dist-packages/seaborn/categorical.py\u001b[0m in \u001b[0;36mestablish_variables\u001b[0;34m(self, x, y, hue, data, orient, order, hue_order, units)\u001b[0m\n\u001b[1;32m    151\u001b[0m                 \u001b[0;32mif\u001b[0m \u001b[0misinstance\u001b[0m\u001b[0;34m(\u001b[0m\u001b[0mvar\u001b[0m\u001b[0;34m,\u001b[0m \u001b[0mstr\u001b[0m\u001b[0;34m)\u001b[0m\u001b[0;34m:\u001b[0m\u001b[0;34m\u001b[0m\u001b[0;34m\u001b[0m\u001b[0m\n\u001b[1;32m    152\u001b[0m                     \u001b[0merr\u001b[0m \u001b[0;34m=\u001b[0m \u001b[0;34m\"Could not interpret input '{}'\"\u001b[0m\u001b[0;34m.\u001b[0m\u001b[0mformat\u001b[0m\u001b[0;34m(\u001b[0m\u001b[0mvar\u001b[0m\u001b[0;34m)\u001b[0m\u001b[0;34m\u001b[0m\u001b[0;34m\u001b[0m\u001b[0m\n\u001b[0;32m--> 153\u001b[0;31m                     \u001b[0;32mraise\u001b[0m \u001b[0mValueError\u001b[0m\u001b[0;34m(\u001b[0m\u001b[0merr\u001b[0m\u001b[0;34m)\u001b[0m\u001b[0;34m\u001b[0m\u001b[0;34m\u001b[0m\u001b[0m\n\u001b[0m\u001b[1;32m    154\u001b[0m \u001b[0;34m\u001b[0m\u001b[0m\n\u001b[1;32m    155\u001b[0m             \u001b[0;31m# Figure out the plotting orientation\u001b[0m\u001b[0;34m\u001b[0m\u001b[0;34m\u001b[0m\u001b[0;34m\u001b[0m\u001b[0m\n",
            "\u001b[0;31mValueError\u001b[0m: Could not interpret input 'childhood diseases'"
          ]
        },
        {
          "output_type": "display_data",
          "data": {
            "text/plain": [
              "<Figure size 648x432 with 0 Axes>"
            ]
          },
          "metadata": {}
        }
      ]
    },
    {
      "cell_type": "code",
      "source": [
        "plt.figure(figsize=(9,6))\n",
        "print(\"plot 2\")\n",
        "sns.barplot(x='age', y='sitting per day', data=data)\n",
        "plt.title('Distribution Of age with sitting hours', fontsize=20)"
      ],
      "metadata": {
        "id": "c8ukIPws3RZ7",
        "colab": {
          "base_uri": "https://localhost:8080/",
          "height": 444
        },
        "outputId": "b67ac621-a8ea-43b5-c9ec-457557bd27e2"
      },
      "execution_count": null,
      "outputs": [
        {
          "output_type": "stream",
          "name": "stdout",
          "text": [
            "plot 2\n"
          ]
        },
        {
          "output_type": "execute_result",
          "data": {
            "text/plain": [
              "Text(0.5, 1.0, 'Distribution Of age with sitting hours')"
            ]
          },
          "metadata": {},
          "execution_count": 70
        },
        {
          "output_type": "display_data",
          "data": {
            "text/plain": [
              "<Figure size 648x432 with 1 Axes>"
            ],
            "image/png": "[encoded data removed]"
          },
          "metadata": {
            "needs_background": "light"
          }
        }
      ]
    },
    {
      "cell_type": "markdown",
      "source": [
        "#### PLOT 3"
      ],
      "metadata": {
        "id": "XOX11xCW8Wf9"
      }
    },
    {
      "cell_type": "code",
      "source": [
        "C2 = data.groupby('alcohol consumption')['output'].count()\n",
        "C2\n",
        "#plot count\n",
        "print(\"Plot 1\")\n",
        "C2.plot(kind=\"bar\", title=\"test\")\n",
        "plt.title(\"ALCOHOL_cons vs OUTPUT(count)\")\n",
        "plt.xlabel(\"alcohol consumption\")\n",
        "plt.ylabel(\"output\")\n",
        "plt.show();\n"
      ],
      "metadata": {
        "id": "p4Vqe04R8G72",
        "colab": {
          "base_uri": "https://localhost:8080/",
          "height": 318
        },
        "outputId": "cf8d962e-b9eb-40de-f32a-58174a0d4d66"
      },
      "execution_count": null,
      "outputs": [
        {
          "output_type": "stream",
          "name": "stdout",
          "text": [
            "Plot 1\n"
          ]
        },
        {
          "output_type": "display_data",
          "data": {
            "text/plain": [
              "<Figure size 432x288 with 1 Axes>"
            ],
            "image/png": "[encoded data removed]"
          },
          "metadata": {
            "needs_background": "light"
          }
        }
      ]
    },
    {
      "cell_type": "markdown",
      "source": [
        "#### plot 4"
      ],
      "metadata": {
        "id": "0uZ4-zbd8kEq"
      }
    },
    {
      "cell_type": "code",
      "source": [
        "from matplotlib import pyplot as plt\n",
        "C3 = data.groupby('age')['childish diseases'].count()\n",
        "C3\n",
        "print(\"Plot 4\")\n",
        "C3.plot(kind=\"bar\", title=\"test\")\n",
        "plt.title(\"age and childhood diseases)\")\n",
        "plt.xlabel(\"age\")\n",
        "plt.ylabel(\"childhood diseases\")\n",
        "plt.show();"
      ],
      "metadata": {
        "id": "vvToFMRe8aVT",
        "colab": {
          "base_uri": "https://localhost:8080/",
          "height": 315
        },
        "outputId": "5a3d5c62-2d79-440f-dfb7-6ed405f696ff"
      },
      "execution_count": null,
      "outputs": [
        {
          "output_type": "stream",
          "name": "stdout",
          "text": [
            "Plot 4\n"
          ]
        },
        {
          "output_type": "display_data",
          "data": {
            "text/plain": [
              "<Figure size 432x288 with 1 Axes>"
            ],
            "image/png": "[encoded data removed]"
          },
          "metadata": {
            "needs_background": "light"
          }
        }
      ]
    },
    {
      "cell_type": "markdown",
      "source": [
        "#### plot 5"
      ],
      "metadata": {
        "id": "_CYzCHJO-e0L"
      }
    },
    {
      "cell_type": "code",
      "source": [
        "C5 = data.groupby('High fevers')['output'].count()\n",
        "C5\n",
        "#plot count\n",
        "print(\"Plot 1\")\n",
        "C5.plot(kind=\"bar\", title=\"test\")\n",
        "plt.title(\"High_fevers_time vs op(count)\")\n",
        "plt.xlabel(\"High_fevers_time\")\n",
        "plt.ylabel(\"op\")\n",
        "plt.show();\n",
        "#plot mean\n",
        "print(\"Plot 2\")\n",
        "C5 = data.groupby('High fevers')['output'].mean()\n",
        "C5\n",
        "C5.plot(kind=\"bar\", title=\"test\")\n",
        "plt.title(\"High_fevers_time vs op(mean)\")\n",
        "plt.xlabel(\"High_fevers_time\")\n",
        "plt.ylabel(\"op\")\n",
        "plt.show();"
      ],
      "metadata": {
        "id": "NK6LMyF19SX9",
        "colab": {
          "base_uri": "https://localhost:8080/",
          "height": 610
        },
        "outputId": "c1bb445f-848b-4ab5-a4fc-083ef4b9ea5b"
      },
      "execution_count": null,
      "outputs": [
        {
          "output_type": "stream",
          "name": "stdout",
          "text": [
            "Plot 1\n"
          ]
        },
        {
          "output_type": "display_data",
          "data": {
            "text/plain": [
              "<Figure size 432x288 with 1 Axes>"
            ],
            "image/png": "[encoded data removed]"
          },
          "metadata": {
            "needs_background": "light"
          }
        },
        {
          "output_type": "stream",
          "name": "stdout",
          "text": [
            "Plot 2\n"
          ]
        },
        {
          "output_type": "display_data",
          "data": {
            "text/plain": [
              "<Figure size 432x288 with 1 Axes>"
            ],
            "image/png": "[encoded data removed]"
          },
          "metadata": {
            "needs_background": "light"
          }
        }
      ]
    },
    {
      "cell_type": "markdown",
      "source": [
        "#### plot 6(cheeck)"
      ],
      "metadata": {
        "id": "EJkYXJBiAJO5"
      }
    },
    {
      "cell_type": "code",
      "source": [
        "from matplotlib import pyplot as plt\n",
        "C3 = data.groupby('Season')['smoking habit'].count()\n",
        "C3\n",
        "print(\"Plot 6\")\n",
        "C3.plot(kind=\"bar\", title=\"test\")\n",
        "plt.title(\"season vs smoking habit\")\n",
        "plt.xlabel(\"season\")\n",
        "plt.ylabel(\"smoking habit\")\n",
        "plt.show();"
      ],
      "metadata": {
        "id": "_XEXXGoH9R-Z",
        "colab": {
          "base_uri": "https://localhost:8080/",
          "height": 309
        },
        "outputId": "faf952ff-4390-495a-eb68-55af5cf35b27"
      },
      "execution_count": null,
      "outputs": [
        {
          "output_type": "stream",
          "name": "stdout",
          "text": [
            "Plot 6\n"
          ]
        },
        {
          "output_type": "display_data",
          "data": {
            "text/plain": [
              "<Figure size 432x288 with 1 Axes>"
            ],
            "image/png": "[encoded data removed]"
          },
          "metadata": {
            "needs_background": "light"
          }
        }
      ]
    },
    {
      "cell_type": "markdown",
      "source": [
        "#### plot 7"
      ],
      "metadata": {
        "id": "4XVqVPirjyXz"
      }
    },
    {
      "cell_type": "code",
      "source": [
        "plt.figure(figsize=(12,10))\n",
        "sns.heatmap(data.corr(),annot=True)\n",
        "plt.title(\"Correlation Heatmap\")\n",
        "plt.show()"
      ],
      "metadata": {
        "id": "bBwprUZ-9cbh",
        "colab": {
          "base_uri": "https://localhost:8080/",
          "height": 701
        },
        "outputId": "4c595129-907e-484c-de6a-e5d47cfc8b9c"
      },
      "execution_count": null,
      "outputs": [
        {
          "output_type": "display_data",
          "data": {
            "text/plain": [
              "<Figure size 864x720 with 2 Axes>"
            ],
            "image/png": "[encoded data removed]"
          },
          "metadata": {
            "needs_background": "light"
          }
        }
      ]
    },
    {
      "cell_type": "markdown",
      "source": [
        "#### plotr 8"
      ],
      "metadata": {
        "id": "9P9pDf6yj1J1"
      }
    },
    {
      "cell_type": "code",
      "source": [
        "#understanding output variable\n",
        "plt.figure(figsize=(8,5))\n",
        "explode=[0.1,0]\n",
        "data['output'].value_counts().plot(kind='pie',autopct=\"%2i%%\",explode=explode)\n",
        "plt.legend()\n",
        "plt.show()"
      ],
      "metadata": {
        "id": "gISEYQmo9cW-",
        "colab": {
          "base_uri": "https://localhost:8080/",
          "height": 303
        },
        "outputId": "65706965-54c4-429f-8d66-aa2dda18f926"
      },
      "execution_count": null,
      "outputs": [
        {
          "output_type": "display_data",
          "data": {
            "text/plain": [
              "<Figure size 576x360 with 1 Axes>"
            ],
            "image/png": "[encoded data removed]"
          },
          "metadata": {}
        }
      ]
    },
    {
      "cell_type": "markdown",
      "source": [
        "#### plot9"
      ],
      "metadata": {
        "id": "73F11IQFj7hk"
      }
    },
    {
      "cell_type": "code",
      "source": [
        "#relation between childhish diseazes and age\n",
        "sns.lineplot(data['childish diseases'],data['age'], hue=data[\"output\"])"
      ],
      "metadata": {
        "id": "Q-6nq_jZ9cSW",
        "colab": {
          "base_uri": "https://localhost:8080/"
        },
        "outputId": "745a4839-e0ff-47aa-9b6e-057f3b0549cc"
      },
      "execution_count": null,
      "outputs": [
        {
          "output_type": "stream",
          "name": "stderr",
          "text": [
            "/usr/local/lib/python3.8/dist-packages/seaborn/_decorators.py:36: FutureWarning: Pass the following variables as keyword args: x, y. From version 0.12, the only valid positional argument will be `data`, and passing other arguments without an explicit keyword will result in an error or misinterpretation.\n",
            "  warnings.warn(\n"
          ]
        },
        {
          "output_type": "execute_result",
          "data": {
            "text/plain": [
              "<matplotlib.axes._subplots.AxesSubplot at 0x7f5b9e0fa8e0>"
            ]
          },
          "metadata": {},
          "execution_count": 31
        },
        {
          "output_type": "display_data",
          "data": {
            "text/plain": [
              "<Figure size 432x288 with 1 Axes>"
            ],
            "image/png": "[encoded data removed]"
          },
          "metadata": {
            "needs_background": "light"
          }
        }
      ]
    },
    {
      "cell_type": "markdown",
      "source": [
        "##### check"
      ],
      "metadata": {
        "id": "NEsLhjAVkD77"
      }
    },
    {
      "cell_type": "code",
      "source": [
        "#relatioin between accident and surgical intervention\n",
        "#sns.lmplot(x=\"accident\", y=\"intervention\", hue=\"output\", data=data, palette = 'inferno_r', height = 5)"
      ],
      "metadata": {
        "id": "zjwoeU0b9cOh"
      },
      "execution_count": null,
      "outputs": []
    },
    {
      "cell_type": "markdown",
      "source": [
        "#### plot 10"
      ],
      "metadata": {
        "id": "-nb7OOhakGHz"
      }
    },
    {
      "cell_type": "code",
      "source": [
        "# boxplot\n",
        "plt.figure(figsize=(6,4))\n",
        "sns.boxplot(data=data, orient=\"h\", palette=\"Set2\", dodge=False)\n"
      ],
      "metadata": {
        "id": "nKPKE2Ek_X7O",
        "colab": {
          "base_uri": "https://localhost:8080/",
          "height": 283
        },
        "outputId": "71407784-0841-4254-a9ed-6eb1e812f778"
      },
      "execution_count": null,
      "outputs": [
        {
          "output_type": "execute_result",
          "data": {
            "text/plain": [
              "<matplotlib.axes._subplots.AxesSubplot at 0x7f1feaefa220>"
            ]
          },
          "metadata": {},
          "execution_count": 23
        },
        {
          "output_type": "display_data",
          "data": {
            "text/plain": [
              "<Figure size 432x288 with 1 Axes>"
            ],
            "image/png": "[encoded data removed]"
          },
          "metadata": {
            "needs_background": "light"
          }
        }
      ]
    },
    {
      "cell_type": "markdown",
      "source": [
        "#### plot 11"
      ],
      "metadata": {
        "id": "19FKNj5noKdN"
      }
    },
    {
      "cell_type": "code",
      "source": [
        "sns.kdeplot(data[\"output\"])"
      ],
      "metadata": {
        "id": "uIQLA3BCCMjW",
        "colab": {
          "base_uri": "https://localhost:8080/",
          "height": 296
        },
        "outputId": "a87e9ea2-b08f-4fa9-9659-213a29ee2c32"
      },
      "execution_count": null,
      "outputs": [
        {
          "output_type": "execute_result",
          "data": {
            "text/plain": [
              "<matplotlib.axes._subplots.AxesSubplot at 0x7f016f852a60>"
            ]
          },
          "metadata": {},
          "execution_count": 279
        },
        {
          "output_type": "display_data",
          "data": {
            "text/plain": [
              "<Figure size 432x288 with 1 Axes>"
            ],
            "image/png": "[encoded data removed]"
          },
          "metadata": {
            "needs_background": "light"
          }
        }
      ]
    },
    {
      "cell_type": "markdown",
      "source": [
        "## MODEL FITTING for 80:20 ratio"
      ],
      "metadata": {
        "id": "64ELmlKSJXax"
      }
    },
    {
      "cell_type": "code",
      "source": [
        "x = data.drop(\"output\",axis=\"columns\")\n",
        "y = data.output"
      ],
      "metadata": {
        "id": "gsClGwamJBvD",
        "colab": {
          "base_uri": "https://localhost:8080/",
          "height": 183
        },
        "outputId": "2d2e82c8-12ac-413d-bab3-ac6dc068156f"
      },
      "execution_count": null,
      "outputs": [
        {
          "output_type": "error",
          "ename": "NameError",
          "evalue": "ignored",
          "traceback": [
            "\u001b[0;31m---------------------------------------------------------------------------\u001b[0m",
            "\u001b[0;31mNameError\u001b[0m                                 Traceback (most recent call last)",
            "\u001b[0;32m<ipython-input-1-a6acab06df60>\u001b[0m in \u001b[0;36m<module>\u001b[0;34m\u001b[0m\n\u001b[0;32m----> 1\u001b[0;31m \u001b[0mx\u001b[0m \u001b[0;34m=\u001b[0m \u001b[0mdata\u001b[0m\u001b[0;34m.\u001b[0m\u001b[0mdrop\u001b[0m\u001b[0;34m(\u001b[0m\u001b[0;34m\"output\"\u001b[0m\u001b[0;34m,\u001b[0m\u001b[0maxis\u001b[0m\u001b[0;34m=\u001b[0m\u001b[0;34m\"columns\"\u001b[0m\u001b[0;34m)\u001b[0m\u001b[0;34m\u001b[0m\u001b[0;34m\u001b[0m\u001b[0m\n\u001b[0m\u001b[1;32m      2\u001b[0m \u001b[0my\u001b[0m \u001b[0;34m=\u001b[0m \u001b[0mdata\u001b[0m\u001b[0;34m.\u001b[0m\u001b[0moutput\u001b[0m\u001b[0;34m\u001b[0m\u001b[0;34m\u001b[0m\u001b[0m\n",
            "\u001b[0;31mNameError\u001b[0m: name 'data' is not defined"
          ]
        }
      ]
    },
    {
      "cell_type": "code",
      "source": [
        "x_train, x_test, y_train, y_test = train_test_split(x, y, test_size=0.20)"
      ],
      "metadata": {
        "id": "KJVih2vPJBsm"
      },
      "execution_count": null,
      "outputs": []
    },
    {
      "cell_type": "code",
      "source": [
        "print(x_train.shape)\n",
        "print(x_test.shape)\n",
        "print(y_train.shape)\n",
        "print(y_test.shape)"
      ],
      "metadata": {
        "id": "SERvWwFtFENo",
        "colab": {
          "base_uri": "https://localhost:8080/"
        },
        "outputId": "b074bf21-733b-4043-e280-ce3a1687b76f"
      },
      "execution_count": null,
      "outputs": [
        {
          "output_type": "stream",
          "name": "stdout",
          "text": [
            "(80, 11)\n",
            "(20, 11)\n",
            "(80,)\n",
            "(20,)\n"
          ]
        }
      ]
    },
    {
      "cell_type": "code",
      "source": [
        "from sklearn.linear_model import LogisticRegression\n",
        "lgt = LogisticRegression(C=1e9)\n",
        "lgt_model = lgt.fit(x_train,y_train)"
      ],
      "metadata": {
        "id": "5NZ8rluNFJPT",
        "colab": {
          "base_uri": "https://localhost:8080/"
        },
        "outputId": "3469d06e-803d-4d98-9bf5-0ba752103a16"
      },
      "execution_count": null,
      "outputs": [
        {
          "output_type": "stream",
          "name": "stderr",
          "text": [
            "/usr/local/lib/python3.8/dist-packages/sklearn/linear_model/_logistic.py:814: ConvergenceWarning: lbfgs failed to converge (status=1):\n",
            "STOP: TOTAL NO. of ITERATIONS REACHED LIMIT.\n",
            "\n",
            "Increase the number of iterations (max_iter) or scale the data as shown in:\n",
            "    https://scikit-learn.org/stable/modules/preprocessing.html\n",
            "Please also refer to the documentation for alternative solver options:\n",
            "    https://scikit-learn.org/stable/modules/linear_model.html#logistic-regression\n",
            "  n_iter_i = _check_optimize_result(\n"
          ]
        }
      ]
    },
    {
      "cell_type": "code",
      "source": [
        "lgt_pred = lgt.predict(x_test)\n",
        "lgt_acc = accuracy_score(y_test,lgt_pred)"
      ],
      "metadata": {
        "id": "aytBsKMxFNSU"
      },
      "execution_count": null,
      "outputs": []
    },
    {
      "cell_type": "code",
      "source": [
        "print(\"Accuracy of Logistic Regression: {:.2f}%\".format(lgt_acc*100))"
      ],
      "metadata": {
        "id": "FEmbMNXAG2m3",
        "colab": {
          "base_uri": "https://localhost:8080/"
        },
        "outputId": "28123b35-dd0a-41fe-e317-d4eacaea6a4f"
      },
      "execution_count": null,
      "outputs": [
        {
          "output_type": "stream",
          "name": "stdout",
          "text": [
            "Accuracy of Logistic Regression: 90.00%\n"
          ]
        }
      ]
    },
    {
      "cell_type": "code",
      "source": [
        "def get_test_result(model):\n",
        "    test_pred = model.predict(x_test)\n",
        "    return(classification_report(y_test,test_pred))"
      ],
      "metadata": {
        "id": "rweNhXZfG9gW"
      },
      "execution_count": null,
      "outputs": []
    },
    {
      "cell_type": "code",
      "source": [
        "test_result=get_test_result(lgt_model)\n",
        "print(test_result)"
      ],
      "metadata": {
        "id": "VTx95J9tHBb1",
        "colab": {
          "base_uri": "https://localhost:8080/"
        },
        "outputId": "1c64cf4f-c59c-4b6e-808a-99aa73eac8a5"
      },
      "execution_count": null,
      "outputs": [
        {
          "output_type": "stream",
          "name": "stdout",
          "text": [
            "              precision    recall  f1-score   support\n",
            "\n",
            "           0       0.95      0.95      0.95        19\n",
            "           1       0.00      0.00      0.00         1\n",
            "\n",
            "    accuracy                           0.90        20\n",
            "   macro avg       0.47      0.47      0.47        20\n",
            "weighted avg       0.90      0.90      0.90        20\n",
            "\n"
          ]
        }
      ]
    },
    {
      "cell_type": "markdown",
      "source": [
        "## KNN"
      ],
      "metadata": {
        "id": "mOph169SHSGV"
      }
    },
    {
      "cell_type": "code",
      "source": [
        "x_train, X_test, y_train, y_test = train_test_split(x, y, test_size=0.2)"
      ],
      "metadata": {
        "id": "5hqjUQFPHRsk"
      },
      "execution_count": null,
      "outputs": []
    },
    {
      "cell_type": "code",
      "source": [
        "from sklearn.neighbors import KNeighborsClassifier"
      ],
      "metadata": {
        "id": "Nj1w6ga0HRpX"
      },
      "execution_count": null,
      "outputs": []
    },
    {
      "cell_type": "code",
      "source": [
        "knn = KNeighborsClassifier(n_neighbors=3)"
      ],
      "metadata": {
        "id": "7VSWjLjqHRmK"
      },
      "execution_count": null,
      "outputs": []
    },
    {
      "cell_type": "markdown",
      "source": [
        "### Training KNN Model"
      ],
      "metadata": {
        "id": "AAua3KfEHeJT"
      }
    },
    {
      "cell_type": "code",
      "source": [
        "knn.fit(x_train,y_train)"
      ],
      "metadata": {
        "id": "KJ5DbBtbHRiX",
        "colab": {
          "base_uri": "https://localhost:8080/"
        },
        "outputId": "8b013d44-7bf8-46bf-bacc-abaa2af4b039"
      },
      "execution_count": null,
      "outputs": [
        {
          "output_type": "execute_result",
          "data": {
            "text/plain": [
              "KNeighborsClassifier(n_neighbors=3)"
            ]
          },
          "metadata": {},
          "execution_count": 88
        }
      ]
    },
    {
      "cell_type": "code",
      "source": [
        "Knn_pred = knn.predict(x_test)\n",
        "KNN_acc = accuracy_score(y_test,Knn_pred)"
      ],
      "metadata": {
        "id": "6NA8l8fsHReo"
      },
      "execution_count": null,
      "outputs": []
    },
    {
      "cell_type": "code",
      "source": [
        "print(KNN_acc)"
      ],
      "metadata": {
        "id": "xO7SrPypHRbS",
        "colab": {
          "base_uri": "https://localhost:8080/"
        },
        "outputId": "b2ec5403-1208-4ae8-e92d-c8febf212e07"
      },
      "execution_count": null,
      "outputs": [
        {
          "output_type": "stream",
          "name": "stdout",
          "text": [
            "0.85\n"
          ]
        }
      ]
    },
    {
      "cell_type": "markdown",
      "source": [
        "# SVM (Suport Vector Machine)"
      ],
      "metadata": {
        "id": "FWGKSKnAH2QR"
      }
    },
    {
      "cell_type": "code",
      "source": [
        "from sklearn.preprocessing import StandardScaler \n",
        "scale = StandardScaler()\n",
        "x_train_std = scale.fit_transform(x_train)\n",
        "x_test_std = scale.transform(x_test)"
      ],
      "metadata": {
        "id": "fTtC6tmIHRX4"
      },
      "execution_count": null,
      "outputs": []
    },
    {
      "cell_type": "code",
      "source": [
        "from sklearn.neighbors import KNeighborsClassifier\n",
        "knn = KNeighborsClassifier(n_neighbors=25)\n",
        "#fit the model\n",
        "knn.fit(x_train_std, y_train)\n",
        "#predict the model\n",
        "knn_pred = knn.predict(x_test_std)"
      ],
      "metadata": {
        "id": "K0llyH87HRTw"
      },
      "execution_count": null,
      "outputs": []
    },
    {
      "cell_type": "code",
      "source": [
        "import pandas as pd\n",
        "import numpy as np\n",
        "import matplotlib.pyplot as plt\n",
        "%matplotlib inline\n",
        "import warnings\n",
        "warnings.filterwarnings('ignore')"
      ],
      "metadata": {
        "id": "LmyED0Z0HRQU"
      },
      "execution_count": null,
      "outputs": []
    },
    {
      "cell_type": "code",
      "source": [
        "from sklearn import metrics\n",
        "print(\"Model Validation ==>\\n\")\n",
        "print(\"Accuracy Score of KNN Model::\")\n",
        "print(metrics.accuracy_score(y_test,knn_pred))\n",
        "print(\"\\n\", \"Classification Report::\")\n",
        "print(metrics.classification_report(y_test,knn_pred), '\\n')"
      ],
      "metadata": {
        "id": "NudfaRpCHRMk",
        "colab": {
          "base_uri": "https://localhost:8080/"
        },
        "outputId": "3c4809a1-6887-43bc-81c6-9ba3e1665d46"
      },
      "execution_count": null,
      "outputs": [
        {
          "output_type": "stream",
          "name": "stdout",
          "text": [
            "Model Validation ==>\n",
            "\n",
            "Accuracy Score of KNN Model::\n",
            "0.85\n",
            "\n",
            " Classification Report::\n",
            "              precision    recall  f1-score   support\n",
            "\n",
            "           0       0.85      1.00      0.92        17\n",
            "           1       0.00      0.00      0.00         3\n",
            "\n",
            "    accuracy                           0.85        20\n",
            "   macro avg       0.42      0.50      0.46        20\n",
            "weighted avg       0.72      0.85      0.78        20\n",
            " \n",
            "\n"
          ]
        }
      ]
    },
    {
      "cell_type": "markdown",
      "source": [
        "## SVM with RBF (Radial Basis Function)"
      ],
      "metadata": {
        "id": "evLKKrAcIxQH"
      }
    },
    {
      "cell_type": "code",
      "source": [
        "from sklearn.svm import SVC\n",
        "classifier_rbf = SVC(kernel = 'rbf', random_state= 0, probability=True)\n",
        "classifier_rbf.fit(x_train_std, y_train)\n",
        "#predicting\n",
        "svc_pred_rbf = classifier_rbf.predict(x_test_std)"
      ],
      "metadata": {
        "id": "hG45z-zwIwgl"
      },
      "execution_count": null,
      "outputs": []
    },
    {
      "cell_type": "code",
      "source": [
        "from sklearn import metrics\n",
        "print(\"Model Validation ==>\\n\")\n",
        "print(\"RBF Kernel Accuracy of SVC Classifier::\")\n",
        "SVM_Rad=metrics.accuracy_score(y_test,svc_pred_rbf)\n",
        "print(SVM_Rad)\n",
        "print(\"\\n\", \"Classification Report::\")\n",
        "print(metrics.classification_report(y_test,svc_pred_rbf), '\\n')"
      ],
      "metadata": {
        "id": "9ou2aRhvIwdU",
        "colab": {
          "base_uri": "https://localhost:8080/"
        },
        "outputId": "6c78f0b5-490e-4f2a-fb23-3b610a51ca9f"
      },
      "execution_count": null,
      "outputs": [
        {
          "output_type": "stream",
          "name": "stdout",
          "text": [
            "Model Validation ==>\n",
            "\n",
            "RBF Kernel Accuracy of SVC Classifier::\n",
            "0.85\n",
            "\n",
            " Classification Report::\n",
            "              precision    recall  f1-score   support\n",
            "\n",
            "           0       0.85      1.00      0.92        17\n",
            "           1       0.00      0.00      0.00         3\n",
            "\n",
            "    accuracy                           0.85        20\n",
            "   macro avg       0.42      0.50      0.46        20\n",
            "weighted avg       0.72      0.85      0.78        20\n",
            " \n",
            "\n"
          ]
        }
      ]
    },
    {
      "cell_type": "markdown",
      "source": [
        "## SVM with Linear regresion"
      ],
      "metadata": {
        "id": "rFznxOk7JMTI"
      }
    },
    {
      "cell_type": "code",
      "source": [
        "model = SVC(kernel='linear')"
      ],
      "metadata": {
        "id": "7wOGvm9dIwaA"
      },
      "execution_count": null,
      "outputs": []
    },
    {
      "cell_type": "code",
      "source": [
        "model.fit(x_train, y_train)"
      ],
      "metadata": {
        "id": "Q7WvdJNLIwWv",
        "colab": {
          "base_uri": "https://localhost:8080/"
        },
        "outputId": "9048eefc-8821-4ba2-9a27-5d24b0182f3e"
      },
      "execution_count": null,
      "outputs": [
        {
          "output_type": "execute_result",
          "data": {
            "text/plain": [
              "SVC(kernel='linear')"
            ]
          },
          "metadata": {},
          "execution_count": 98
        }
      ]
    },
    {
      "cell_type": "code",
      "source": [
        "predictions = model.predict(x_test)\n",
        "print(predictions)"
      ],
      "metadata": {
        "id": "PnJFhalzIwS9",
        "colab": {
          "base_uri": "https://localhost:8080/"
        },
        "outputId": "34042a6d-bc29-480a-c9ca-90d6ae80f525"
      },
      "execution_count": null,
      "outputs": [
        {
          "output_type": "stream",
          "name": "stdout",
          "text": [
            "[0 0 0 0 0 0 0 0 0 0 0 0 0 0 0 0 0 0 0 0]\n"
          ]
        }
      ]
    },
    {
      "cell_type": "code",
      "source": [
        "SVClass_linear = accuracy_score(y_test,predictions)\n",
        "print(SVClass_linear)"
      ],
      "metadata": {
        "id": "5jRQ38GnIwPj",
        "colab": {
          "base_uri": "https://localhost:8080/"
        },
        "outputId": "76816551-0128-4ee3-ac4b-c6b49637d803"
      },
      "execution_count": null,
      "outputs": [
        {
          "output_type": "stream",
          "name": "stdout",
          "text": [
            "0.85\n"
          ]
        }
      ]
    },
    {
      "cell_type": "markdown",
      "source": [
        "# BAGGING "
      ],
      "metadata": {
        "id": "7-5EcZhyLdjB"
      }
    },
    {
      "cell_type": "markdown",
      "source": [
        "## DECISION TREE"
      ],
      "metadata": {
        "id": "U0m6YKN6TVlo"
      }
    },
    {
      "cell_type": "code",
      "source": [
        "from sklearn.tree import DecisionTreeClassifier\n",
        "dt = DecisionTreeClassifier(max_depth=5, random_state=1)\n",
        "dt.fit(x_train, y_train)\n",
        "y_pred = dt.predict(x_test)\n",
        "y_pred"
      ],
      "metadata": {
        "id": "1gGWk4NVLWso",
        "colab": {
          "base_uri": "https://localhost:8080/"
        },
        "outputId": "bf065cb0-1c92-413d-de1e-980765977fb9"
      },
      "execution_count": null,
      "outputs": [
        {
          "output_type": "execute_result",
          "data": {
            "text/plain": [
              "array([0, 0, 0, 0, 0, 0, 0, 0, 0, 0, 0, 0, 0, 0, 0, 0, 0, 0, 0, 0])"
            ]
          },
          "metadata": {},
          "execution_count": 101
        }
      ]
    },
    {
      "cell_type": "code",
      "source": [
        "from pandas.core.describe import describe_timestamp_as_categorical_1d\n",
        "from sklearn.metrics import accuracy_score\n",
        "y_pred = dt.predict(x_test)\n",
        "dct_acc = accuracy_score(y_test, y_pred)\n",
        "print(\"Test set accuracy: {:.2f}\".format(dct_acc))"
      ],
      "metadata": {
        "id": "9mKIsXbvLWpU",
        "colab": {
          "base_uri": "https://localhost:8080/"
        },
        "outputId": "1934856e-384d-4077-d7b3-37b1b5b1018b"
      },
      "execution_count": null,
      "outputs": [
        {
          "output_type": "stream",
          "name": "stdout",
          "text": [
            "Test set accuracy: 0.80\n"
          ]
        }
      ]
    },
    {
      "cell_type": "markdown",
      "source": [
        "## DECISION TREE with ginni index"
      ],
      "metadata": {
        "id": "TZXZMOp_Mgvh"
      }
    },
    {
      "cell_type": "code",
      "source": [
        "from sklearn.tree import DecisionTreeClassifier\n",
        "clf_gini = DecisionTreeClassifier(criterion='gini', max_depth=5, random_state=0)\n",
        "clf_gini.fit(x_train, y_train)\n",
        "y_pred_gini = clf_gini.predict(X_test)\n",
        "y_pred_gini"
      ],
      "metadata": {
        "id": "F7L7wPdRLWl8",
        "colab": {
          "base_uri": "https://localhost:8080/"
        },
        "outputId": "ce5c9474-3713-4822-a3b5-6ce51277693a"
      },
      "execution_count": null,
      "outputs": [
        {
          "output_type": "execute_result",
          "data": {
            "text/plain": [
              "array([0, 0, 0, 0, 1, 1, 0, 1, 0, 0, 0, 0, 0, 0, 1, 0, 0, 0, 0, 0])"
            ]
          },
          "metadata": {},
          "execution_count": 102
        }
      ]
    },
    {
      "cell_type": "code",
      "source": [
        "from sklearn.metrics import accuracy_score\n",
        "DT_ginni=accuracy_score(y_test, y_pred_gini)\n",
        "print('Model accuracy score with criterion gini index: {0:0.4f}'. format(accuracy_score(y_test, y_pred_gini)))"
      ],
      "metadata": {
        "id": "cCGcxgb8LWia",
        "colab": {
          "base_uri": "https://localhost:8080/"
        },
        "outputId": "55e7725f-f38c-463a-aff9-76c6b246a869"
      },
      "execution_count": null,
      "outputs": [
        {
          "output_type": "stream",
          "name": "stdout",
          "text": [
            "Model accuracy score with criterion gini index: 0.7500\n"
          ]
        }
      ]
    },
    {
      "cell_type": "code",
      "source": [
        "y_pred_train_gini = clf_gini.predict(x_train)\n",
        "y_pred_train_gini"
      ],
      "metadata": {
        "id": "aSfqPlQHLWeg",
        "colab": {
          "base_uri": "https://localhost:8080/"
        },
        "outputId": "b14aef01-8636-4c7e-ec43-049dc3da40b4"
      },
      "execution_count": null,
      "outputs": [
        {
          "output_type": "execute_result",
          "data": {
            "text/plain": [
              "array([0, 0, 0, 1, 0, 0, 0, 0, 0, 0, 0, 0, 0, 0, 0, 0, 0, 0, 0, 0, 0, 0,\n",
              "       1, 0, 0, 0, 0, 0, 0, 0, 1, 0, 0, 0, 0, 0, 0, 0, 0, 0, 0, 0, 0, 0,\n",
              "       0, 0, 0, 1, 0, 0, 0, 0, 0, 0, 0, 0, 1, 0, 0, 0, 0, 0, 0, 0, 0, 0,\n",
              "       0, 0, 0, 0, 0, 0, 0, 0, 0, 0, 1, 0, 0, 1])"
            ]
          },
          "metadata": {},
          "execution_count": 104
        }
      ]
    },
    {
      "cell_type": "code",
      "source": [
        "print('Training-set accuracy score: {0:0.4f}'. format(accuracy_score(y_train, y_pred_train_gini)))\n",
        "print('Test set score: {:.4f}'.format(clf_gini.score(x_test, y_test)))"
      ],
      "metadata": {
        "id": "qzBdEjj0IwLr",
        "colab": {
          "base_uri": "https://localhost:8080/"
        },
        "outputId": "cb8d04c2-7508-478c-f2b7-0e6eae834cfc"
      },
      "execution_count": null,
      "outputs": [
        {
          "output_type": "stream",
          "name": "stdout",
          "text": [
            "Training-set accuracy score: 0.9750\n",
            "Test set score: 0.8500\n"
          ]
        }
      ]
    },
    {
      "cell_type": "code",
      "source": [
        "from sklearn.metrics import classification_report\n",
        "print(classification_report(y_test, y_pred))"
      ],
      "metadata": {
        "id": "IryJOpk1N9KG",
        "colab": {
          "base_uri": "https://localhost:8080/"
        },
        "outputId": "e65ff988-f4bb-4243-a134-9f2dd66b60ed"
      },
      "execution_count": null,
      "outputs": [
        {
          "output_type": "stream",
          "name": "stdout",
          "text": [
            "              precision    recall  f1-score   support\n",
            "\n",
            "           0       0.85      1.00      0.92        17\n",
            "           1       0.00      0.00      0.00         3\n",
            "\n",
            "    accuracy                           0.85        20\n",
            "   macro avg       0.42      0.50      0.46        20\n",
            "weighted avg       0.72      0.85      0.78        20\n",
            "\n"
          ]
        }
      ]
    },
    {
      "cell_type": "markdown",
      "source": [
        "## RANDOM FOREST"
      ],
      "metadata": {
        "id": "cH0DD_z3TbzW"
      }
    },
    {
      "cell_type": "code",
      "source": [
        "from sklearn.ensemble import RandomForestClassifier\n",
        "model=RandomForestClassifier()\n",
        "model.fit(x_train,y_train)"
      ],
      "metadata": {
        "id": "WMY_33YQO3zZ",
        "colab": {
          "base_uri": "https://localhost:8080/"
        },
        "outputId": "7f0382e5-3dc9-4809-87f2-db1070b9252f"
      },
      "execution_count": null,
      "outputs": [
        {
          "output_type": "execute_result",
          "data": {
            "text/plain": [
              "RandomForestClassifier()"
            ]
          },
          "metadata": {},
          "execution_count": 107
        }
      ]
    },
    {
      "cell_type": "code",
      "source": [
        "model=RandomForestClassifier(n_estimators=50)\n",
        "model.fit(x_train,y_train)\n",
        "RAD_pred = model.predict(x_test)\n",
        "Rad_acc = accuracy_score(y_test,RAD_pred)\n",
        "\n",
        "print(Rad_acc)"
      ],
      "metadata": {
        "id": "3QiQab9kO3uh",
        "colab": {
          "base_uri": "https://localhost:8080/"
        },
        "outputId": "0cce631c-0a41-4579-ebb7-b4c0649048e2"
      },
      "execution_count": null,
      "outputs": [
        {
          "output_type": "stream",
          "name": "stdout",
          "text": [
            "0.85\n"
          ]
        }
      ]
    },
    {
      "cell_type": "code",
      "source": [
        "y_predicted=model.predict(x_test)"
      ],
      "metadata": {
        "id": "VS1xKjh2O3ml"
      },
      "execution_count": null,
      "outputs": []
    },
    {
      "cell_type": "code",
      "source": [
        "from sklearn.metrics import confusion_matrix\n",
        "confusion=confusion_matrix(y_test,y_predicted)\n",
        "confusion"
      ],
      "metadata": {
        "id": "AK8_DWhoO3ho",
        "colab": {
          "base_uri": "https://localhost:8080/"
        },
        "outputId": "ef90786f-a252-409f-b55c-aee835765170"
      },
      "execution_count": null,
      "outputs": [
        {
          "output_type": "execute_result",
          "data": {
            "text/plain": [
              "array([[17,  0],\n",
              "       [ 3,  0]])"
            ]
          },
          "metadata": {},
          "execution_count": 110
        }
      ]
    },
    {
      "cell_type": "code",
      "source": [
        "import matplotlib.pyplot as plt\n",
        "import seaborn as sn\n",
        "sn.heatmap(confusion,annot=True)\n",
        "plt.xlabel('predicted')\n",
        "plt.ylabel('truth')"
      ],
      "metadata": {
        "id": "m2UNQs-WO3eN",
        "colab": {
          "base_uri": "https://localhost:8080/"
        },
        "outputId": "4be93a60-defe-4a27-dc4d-54c2b11a9156"
      },
      "execution_count": null,
      "outputs": [
        {
          "output_type": "execute_result",
          "data": {
            "text/plain": [
              "Text(33.0, 0.5, 'truth')"
            ]
          },
          "metadata": {},
          "execution_count": 111
        },
        {
          "output_type": "display_data",
          "data": {
            "text/plain": [
              "<Figure size 432x288 with 2 Axes>"
            ],
            "image/png": "[encoded data removed]"
          },
          "metadata": {
            "needs_background": "light"
          }
        }
      ]
    },
    {
      "cell_type": "markdown",
      "source": [
        "# BOOSTING "
      ],
      "metadata": {
        "id": "9XWE34D2Qoi8"
      }
    },
    {
      "cell_type": "markdown",
      "source": [
        "## ADA-BOOST"
      ],
      "metadata": {
        "id": "mFt4Ni4RTrkd"
      }
    },
    {
      "cell_type": "code",
      "source": [
        "from sklearn.ensemble import AdaBoostClassifier\n",
        "from sklearn.tree import DecisionTreeClassifier\n",
        "base_estimator = DecisionTreeClassifier(max_depth=3, random_state=0)\n",
        "adaboost = AdaBoostClassifier(base_estimator=base_estimator,\n",
        "                              n_estimators=3, algorithm=\"SAMME\",\n",
        "                              random_state=0)\n",
        "adaboost.fit(x_train, y_train)"
      ],
      "metadata": {
        "id": "PgtSDp96QoJj",
        "colab": {
          "base_uri": "https://localhost:8080/"
        },
        "outputId": "ba467967-fc34-4a67-f3f7-96154aca9661"
      },
      "execution_count": null,
      "outputs": [
        {
          "output_type": "execute_result",
          "data": {
            "text/plain": [
              "AdaBoostClassifier(algorithm='SAMME',\n",
              "                   base_estimator=DecisionTreeClassifier(max_depth=3,\n",
              "                                                         random_state=0),\n",
              "                   n_estimators=3, random_state=0)"
            ]
          },
          "metadata": {},
          "execution_count": 112
        }
      ]
    },
    {
      "cell_type": "code",
      "source": [
        "y_predict=adaboost.predict(x_test)\n",
        "ADABoost_acc=metrics.accuracy_score(y_test,y_predict)\n",
        "print(ADABoost_acc)"
      ],
      "metadata": {
        "id": "ilVkriTLQoGH",
        "colab": {
          "base_uri": "https://localhost:8080/"
        },
        "outputId": "c45b05d7-78fd-4a7b-89b1-0ee7df91e591"
      },
      "execution_count": null,
      "outputs": [
        {
          "output_type": "stream",
          "name": "stdout",
          "text": [
            "0.85\n"
          ]
        }
      ]
    },
    {
      "cell_type": "code",
      "source": [
        "abc = AdaBoostClassifier(n_estimators=50, learning_rate=1)\n",
        "model = abc.fit(x_train, y_train)\n",
        "y_pred = model.predict(x_test)"
      ],
      "metadata": {
        "id": "XoM1QJAhQoBU"
      },
      "execution_count": null,
      "outputs": []
    },
    {
      "cell_type": "code",
      "source": [
        "ADA_Boost=metrics.accuracy_score(y_test, y_pred)\n",
        "print(ADA_Boost)"
      ],
      "metadata": {
        "id": "vknPWM_ZO3ag",
        "colab": {
          "base_uri": "https://localhost:8080/"
        },
        "outputId": "e9d027ee-20dd-4ffc-c491-c42f2c1f6c3a"
      },
      "execution_count": null,
      "outputs": [
        {
          "output_type": "stream",
          "name": "stdout",
          "text": [
            "0.85\n"
          ]
        }
      ]
    },
    {
      "cell_type": "markdown",
      "source": [
        "## GRADIENT BOOST"
      ],
      "metadata": {
        "id": "FNxiRXIRTxbs"
      }
    },
    {
      "cell_type": "code",
      "source": [
        "from sklearn.ensemble import GradientBoostingClassifier\n",
        "gbcl = GradientBoostingClassifier(n_estimators = 50)\n",
        "gbcl = gbcl.fit(x_train, y_train)"
      ],
      "metadata": {
        "id": "hbamUXrpTRcy"
      },
      "execution_count": null,
      "outputs": []
    },
    {
      "cell_type": "code",
      "source": [
        "y_predict = gbcl.predict(x_test)\n",
        "GBC_acc=accuracy_score(y_test, y_predict)\n",
        "print(GBC_acc)\n",
        "print(metrics.confusion_matrix(y_test, y_predict))"
      ],
      "metadata": {
        "id": "zWsqzT7LTRTz",
        "colab": {
          "base_uri": "https://localhost:8080/"
        },
        "outputId": "be0812fe-2790-448b-a9aa-12dc3cd32fa8"
      },
      "execution_count": null,
      "outputs": [
        {
          "output_type": "stream",
          "name": "stdout",
          "text": [
            "0.85\n",
            "[[17  0]\n",
            " [ 3  0]]\n"
          ]
        }
      ]
    },
    {
      "cell_type": "markdown",
      "source": [
        "## XG BOOST"
      ],
      "metadata": {
        "id": "Ev6IEzRpUTUj"
      }
    },
    {
      "cell_type": "code",
      "source": [
        "import xgboost as xgb"
      ],
      "metadata": {
        "id": "lPbXdK91UWE8"
      },
      "execution_count": null,
      "outputs": []
    },
    {
      "cell_type": "code",
      "source": [
        "xgb_classifier = xgb.XGBClassifier()"
      ],
      "metadata": {
        "id": "TIbUdGyLdDOK"
      },
      "execution_count": null,
      "outputs": []
    },
    {
      "cell_type": "code",
      "source": [
        "xgb_classifier.fit(x_train,y_train)"
      ],
      "metadata": {
        "id": "nMAS2PGfdDKL",
        "colab": {
          "base_uri": "https://localhost:8080/"
        },
        "outputId": "18515026-020f-4714-a310-478e2cb2d2a8"
      },
      "execution_count": null,
      "outputs": [
        {
          "output_type": "execute_result",
          "data": {
            "text/plain": [
              "XGBClassifier()"
            ]
          },
          "metadata": {},
          "execution_count": 120
        }
      ]
    },
    {
      "cell_type": "code",
      "source": [
        "predictions = xgb_classifier.predict(x_test)\n",
        "predictions"
      ],
      "metadata": {
        "id": "HA9h4MO4dDGG",
        "colab": {
          "base_uri": "https://localhost:8080/"
        },
        "outputId": "1a703737-c79a-4843-afa2-5b8c4e41ac12"
      },
      "execution_count": null,
      "outputs": [
        {
          "output_type": "execute_result",
          "data": {
            "text/plain": [
              "array([0, 0, 0, 0, 0, 0, 0, 0, 0, 0, 0, 0, 0, 0, 0, 0, 0, 0, 0, 0])"
            ]
          },
          "metadata": {},
          "execution_count": 121
        }
      ]
    },
    {
      "cell_type": "code",
      "source": [
        "XGB_acc=accuracy_score(y_test,predictions)\n",
        "print(XGB_acc)"
      ],
      "metadata": {
        "id": "wtVUNlXVdWTX",
        "colab": {
          "base_uri": "https://localhost:8080/"
        },
        "outputId": "2c1e45ba-bc73-4536-9ef7-f577e03acd0c"
      },
      "execution_count": null,
      "outputs": [
        {
          "output_type": "stream",
          "name": "stdout",
          "text": [
            "0.85\n"
          ]
        }
      ]
    },
    {
      "cell_type": "markdown",
      "source": [
        "# Neural Network"
      ],
      "metadata": {
        "id": "-xnH_c3ejeWM"
      }
    },
    {
      "cell_type": "markdown",
      "source": [
        "### 5--2--1"
      ],
      "metadata": {
        "id": "JTQe6DIootB7"
      }
    },
    {
      "cell_type": "code",
      "source": [
        "import tensorflow as tf\n",
        "tf.random.set_seed(55)\n",
        "model= tf.keras.Sequential([ tf.keras.layers.Dense(5, activation='relu'),\n",
        "                             tf.keras.layers.Dense(2, activation='relu'),\n",
        "                             tf.keras.layers.Dense(1, activation='sigmoid')])"
      ],
      "metadata": {
        "id": "XZOpw1Dljcpi"
      },
      "execution_count": null,
      "outputs": []
    },
    {
      "cell_type": "code",
      "source": [
        "model.compile(loss= tf.keras.losses.binary_crossentropy,\n",
        "              optimizer= tf.keras.optimizers.Adam(lr=0.01),\n",
        "              metrics= [ tf.keras.metrics.BinaryAccuracy(name='accuracy'),\n",
        "                         tf.keras.metrics.Precision(name='precision'),\n",
        "                         tf.keras.metrics.Recall(name='a=recall')] )"
      ],
      "metadata": {
        "id": "BNJynmBejclh"
      },
      "execution_count": null,
      "outputs": []
    },
    {
      "cell_type": "code",
      "source": [
        "history= model.fit(x_train, y_train, epochs= 50,verbose=0)"
      ],
      "metadata": {
        "id": "XI6TLUwvjchf"
      },
      "execution_count": null,
      "outputs": []
    },
    {
      "cell_type": "code",
      "source": [
        "model.evaluate(x_test, y_test)"
      ],
      "metadata": {
        "id": "1GriOxX6jcdY",
        "colab": {
          "base_uri": "https://localhost:8080/"
        },
        "outputId": "dd2a7c4b-98d7-4465-f17f-b9e3e856c0e0"
      },
      "execution_count": null,
      "outputs": [
        {
          "output_type": "stream",
          "name": "stdout",
          "text": [
            "1/1 [==============================] - 0s 346ms/step - loss: 0.3990 - accuracy: 0.8500 - precision: 0.0000e+00 - a=recall: 0.0000e+00\n"
          ]
        },
        {
          "output_type": "execute_result",
          "data": {
            "text/plain": [
              "[0.39900657534599304, 0.8500000238418579, 0.0, 0.0]"
            ]
          },
          "metadata": {},
          "execution_count": 134
        }
      ]
    },
    {
      "cell_type": "code",
      "source": [
        "import tensorflow as tf\n",
        "tf.random.set_seed(55)\n",
        "model= tf.keras.Sequential([ tf.keras.layers.Dense(5, activation='relu'),\n",
        "                             tf.keras.layers.Dense(2, activation='relu'),\n",
        "                             tf.keras.layers.Dense(1, activation='sigmoid')])"
      ],
      "metadata": {
        "id": "FWVsi2pCjcZM"
      },
      "execution_count": null,
      "outputs": []
    },
    {
      "cell_type": "code",
      "source": [
        "model.compile(loss= tf.keras.losses.binary_crossentropy,\n",
        "              optimizer= tf.keras.optimizers.Adam(lr=0.01),\n",
        "              metrics= [ tf.keras.metrics.BinaryAccuracy(name='accuracy'),\n",
        "                         tf.keras.metrics.Precision(name='precision'),\n",
        "                         tf.keras.metrics.Recall(name='a=recall')] )"
      ],
      "metadata": {
        "id": "YWwMGQaKk1y6"
      },
      "execution_count": null,
      "outputs": []
    },
    {
      "cell_type": "code",
      "source": [
        "history= model.fit(x_train, y_train, epochs= 100,verbose=0)"
      ],
      "metadata": {
        "id": "QrpxcjOjlNVe"
      },
      "execution_count": null,
      "outputs": []
    },
    {
      "cell_type": "code",
      "source": [
        "model.evaluate(x_test, y_test)"
      ],
      "metadata": {
        "id": "850xP2_wlNNA",
        "colab": {
          "base_uri": "https://localhost:8080/"
        },
        "outputId": "98fc6764-d1ff-476c-e6bd-97985379fed6"
      },
      "execution_count": null,
      "outputs": [
        {
          "output_type": "stream",
          "name": "stdout",
          "text": [
            "1/1 [==============================] - 0s 362ms/step - loss: 0.5861 - accuracy: 0.8500 - precision: 0.0000e+00 - a=recall: 0.0000e+00\n"
          ]
        },
        {
          "output_type": "execute_result",
          "data": {
            "text/plain": [
              "[0.5860928893089294, 0.8500000238418579, 0.0, 0.0]"
            ]
          },
          "metadata": {},
          "execution_count": 138
        }
      ]
    },
    {
      "cell_type": "code",
      "source": [
        "import tensorflow as tf\n",
        "tf.random.set_seed(55)\n",
        "model= tf.keras.Sequential([ tf.keras.layers.Dense(5, activation='relu'),\n",
        "                             tf.keras.layers.Dense(2, activation='relu'),\n",
        "                             tf.keras.layers.Dense(1, activation='sigmoid')])"
      ],
      "metadata": {
        "id": "B8l9jQYUjcVM"
      },
      "execution_count": null,
      "outputs": []
    },
    {
      "cell_type": "code",
      "source": [
        "model.compile(loss= tf.keras.losses.binary_crossentropy,\n",
        "              optimizer= tf.keras.optimizers.Adam(lr=0.01),\n",
        "              metrics= [ tf.keras.metrics.BinaryAccuracy(name='accuracy'),\n",
        "                         tf.keras.metrics.Precision(name='precision'),\n",
        "                         tf.keras.metrics.Recall(name='a=recall')] )"
      ],
      "metadata": {
        "id": "hdG7xVtSk3w4"
      },
      "execution_count": null,
      "outputs": []
    },
    {
      "cell_type": "code",
      "source": [
        "history= model.fit(x_train, y_train, epochs= 1000,verbose=0)"
      ],
      "metadata": {
        "id": "ieQIAfB2lO8o"
      },
      "execution_count": null,
      "outputs": []
    },
    {
      "cell_type": "code",
      "source": [
        "model.evaluate(x_test, y_test)"
      ],
      "metadata": {
        "id": "B0fdcvZGlOzO",
        "colab": {
          "base_uri": "https://localhost:8080/"
        },
        "outputId": "2fc05bbe-ba40-4835-cc06-aafd6c6b77e6"
      },
      "execution_count": null,
      "outputs": [
        {
          "output_type": "stream",
          "name": "stderr",
          "text": [
            "WARNING:tensorflow:5 out of the last 5 calls to <function Model.make_test_function.<locals>.test_function at 0x7f0171d83430> triggered tf.function retracing. Tracing is expensive and the excessive number of tracings could be due to (1) creating @tf.function repeatedly in a loop, (2) passing tensors with different shapes, (3) passing Python objects instead of tensors. For (1), please define your @tf.function outside of the loop. For (2), @tf.function has reduce_retracing=True option that can avoid unnecessary retracing. For (3), please refer to https://www.tensorflow.org/guide/function#controlling_retracing and https://www.tensorflow.org/api_docs/python/tf/function for  more details.\n"
          ]
        },
        {
          "output_type": "stream",
          "name": "stdout",
          "text": [
            "1/1 [==============================] - 0s 334ms/step - loss: 3.1557 - accuracy: 0.8500 - precision: 0.0000e+00 - a=recall: 0.0000e+00\n"
          ]
        },
        {
          "output_type": "execute_result",
          "data": {
            "text/plain": [
              "[3.1557095050811768, 0.8500000238418579, 0.0, 0.0]"
            ]
          },
          "metadata": {},
          "execution_count": 142
        }
      ]
    },
    {
      "cell_type": "code",
      "source": [
        "import tensorflow as tf\n",
        "tf.random.set_seed(55)\n",
        "model= tf.keras.Sequential([ tf.keras.layers.Dense(5, activation='relu'),\n",
        "                             tf.keras.layers.Dense(2, activation='relu'),\n",
        "                             tf.keras.layers.Dense(1, activation='sigmoid')])"
      ],
      "metadata": {
        "id": "adlW1YFOjcRK"
      },
      "execution_count": null,
      "outputs": []
    },
    {
      "cell_type": "code",
      "source": [
        "model.compile(loss= tf.keras.losses.binary_crossentropy,\n",
        "              optimizer= tf.keras.optimizers.Adam(lr=0.01),\n",
        "              metrics= [ tf.keras.metrics.BinaryAccuracy(name='accuracy'),\n",
        "                         tf.keras.metrics.Precision(name='precision'),\n",
        "                         tf.keras.metrics.Recall(name='a=recall')] )"
      ],
      "metadata": {
        "id": "jPFLQj7Uk5BN"
      },
      "execution_count": null,
      "outputs": []
    },
    {
      "cell_type": "code",
      "source": [
        "history= model.fit(x_train, y_train, epochs= 750,verbose=0)"
      ],
      "metadata": {
        "id": "fHRUuf1UlQfW"
      },
      "execution_count": null,
      "outputs": []
    },
    {
      "cell_type": "code",
      "source": [
        "model.evaluate(x_test, y_test)"
      ],
      "metadata": {
        "id": "iQC_eo5nlQVa",
        "colab": {
          "base_uri": "https://localhost:8080/"
        },
        "outputId": "d12c6816-2a93-49b5-ae70-62ed5d6d614e"
      },
      "execution_count": null,
      "outputs": [
        {
          "output_type": "stream",
          "name": "stderr",
          "text": [
            "WARNING:tensorflow:6 out of the last 6 calls to <function Model.make_test_function.<locals>.test_function at 0x7f0171e49280> triggered tf.function retracing. Tracing is expensive and the excessive number of tracings could be due to (1) creating @tf.function repeatedly in a loop, (2) passing tensors with different shapes, (3) passing Python objects instead of tensors. For (1), please define your @tf.function outside of the loop. For (2), @tf.function has reduce_retracing=True option that can avoid unnecessary retracing. For (3), please refer to https://www.tensorflow.org/guide/function#controlling_retracing and https://www.tensorflow.org/api_docs/python/tf/function for  more details.\n"
          ]
        },
        {
          "output_type": "stream",
          "name": "stdout",
          "text": [
            "1/1 [==============================] - 0s 345ms/step - loss: 3.0110 - accuracy: 0.8000 - precision: 0.0000e+00 - a=recall: 0.0000e+00\n"
          ]
        },
        {
          "output_type": "execute_result",
          "data": {
            "text/plain": [
              "[3.011024236679077, 0.800000011920929, 0.0, 0.0]"
            ]
          },
          "metadata": {},
          "execution_count": 146
        }
      ]
    },
    {
      "cell_type": "code",
      "source": [
        "import tensorflow as tf\n",
        "tf.random.set_seed(55)\n",
        "model= tf.keras.Sequential([ tf.keras.layers.Dense(5, activation='relu'),\n",
        "                             tf.keras.layers.Dense(2, activation='relu'),\n",
        "                             tf.keras.layers.Dense(1, activation='sigmoid')])"
      ],
      "metadata": {
        "id": "w1oSnKNsjcMu"
      },
      "execution_count": null,
      "outputs": []
    },
    {
      "cell_type": "code",
      "source": [
        "model.compile(loss= tf.keras.losses.binary_crossentropy,\n",
        "              optimizer= tf.keras.optimizers.Adam(lr=0.01),\n",
        "              metrics= [ tf.keras.metrics.BinaryAccuracy(name='accuracy'),\n",
        "                         tf.keras.metrics.Precision(name='precision'),\n",
        "                         tf.keras.metrics.Recall(name='a=recall')] )"
      ],
      "metadata": {
        "id": "E5jUwCQpk6Ik"
      },
      "execution_count": null,
      "outputs": []
    },
    {
      "cell_type": "code",
      "source": [
        "history= model.fit(x_train, y_train, epochs= 250,verbose=0)"
      ],
      "metadata": {
        "id": "VP9-8x9ulR-N"
      },
      "execution_count": null,
      "outputs": []
    },
    {
      "cell_type": "code",
      "source": [
        "model.evaluate(x_test, y_test)"
      ],
      "metadata": {
        "id": "nIV_mBMplR08",
        "colab": {
          "base_uri": "https://localhost:8080/"
        },
        "outputId": "91a7ee2a-2197-46af-c393-e0448aa41fdf"
      },
      "execution_count": null,
      "outputs": [
        {
          "output_type": "stream",
          "name": "stdout",
          "text": [
            "1/1 [==============================] - 0s 373ms/step - loss: 1.3285 - accuracy: 0.8000 - precision: 0.0000e+00 - a=recall: 0.0000e+00\n"
          ]
        },
        {
          "output_type": "execute_result",
          "data": {
            "text/plain": [
              "[1.3285250663757324, 0.800000011920929, 0.0, 0.0]"
            ]
          },
          "metadata": {},
          "execution_count": 150
        }
      ]
    },
    {
      "cell_type": "code",
      "source": [
        "import tensorflow as tf\n",
        "tf.random.set_seed(55)\n",
        "model= tf.keras.Sequential([ tf.keras.layers.Dense(5, activation='relu'),\n",
        "                             tf.keras.layers.Dense(2, activation='relu'),\n",
        "                             tf.keras.layers.Dense(1, activation='sigmoid')])"
      ],
      "metadata": {
        "id": "U3wZYc8ajcIg"
      },
      "execution_count": null,
      "outputs": []
    },
    {
      "cell_type": "code",
      "source": [
        "model.compile(loss= tf.keras.losses.binary_crossentropy,\n",
        "              optimizer= tf.keras.optimizers.Adam(lr=0.01),\n",
        "              metrics= [ tf.keras.metrics.BinaryAccuracy(name='accuracy'),\n",
        "                         tf.keras.metrics.Precision(name='precision'),\n",
        "                         tf.keras.metrics.Recall(name='a=recall')] )"
      ],
      "metadata": {
        "id": "X1go6tFXk7fd"
      },
      "execution_count": null,
      "outputs": []
    },
    {
      "cell_type": "code",
      "source": [
        "history= model.fit(x_train, y_train, epochs= 800,verbose=0)"
      ],
      "metadata": {
        "id": "KSSfI-rwlUSp"
      },
      "execution_count": null,
      "outputs": []
    },
    {
      "cell_type": "code",
      "source": [
        "model.evaluate(x_test, y_test)"
      ],
      "metadata": {
        "id": "WgP0RqnalUFi",
        "colab": {
          "base_uri": "https://localhost:8080/"
        },
        "outputId": "95cf8294-ffe1-4bd8-9095-6ed7301d71f0"
      },
      "execution_count": null,
      "outputs": [
        {
          "output_type": "stream",
          "name": "stdout",
          "text": [
            "1/1 [==============================] - 0s 368ms/step - loss: 3.1218 - accuracy: 0.7500 - precision: 0.0000e+00 - a=recall: 0.0000e+00\n"
          ]
        },
        {
          "output_type": "execute_result",
          "data": {
            "text/plain": [
              "[3.1217784881591797, 0.75, 0.0, 0.0]"
            ]
          },
          "metadata": {},
          "execution_count": 154
        }
      ]
    },
    {
      "cell_type": "code",
      "source": [
        "import tensorflow as tf\n",
        "tf.random.set_seed(55)\n",
        "model= tf.keras.Sequential([ tf.keras.layers.Dense(5, activation='relu'),\n",
        "                             tf.keras.layers.Dense(2, activation='relu'),\n",
        "                             tf.keras.layers.Dense(1, activation='sigmoid')])"
      ],
      "metadata": {
        "id": "bP1QxeeXjcEW"
      },
      "execution_count": null,
      "outputs": []
    },
    {
      "cell_type": "code",
      "source": [
        "model.compile(loss= tf.keras.losses.binary_crossentropy,\n",
        "              optimizer= tf.keras.optimizers.Adam(lr=0.01),\n",
        "              metrics= [ tf.keras.metrics.BinaryAccuracy(name='accuracy'),\n",
        "                         tf.keras.metrics.Precision(name='precision'),\n",
        "                         tf.keras.metrics.Recall(name='a=recall')] )"
      ],
      "metadata": {
        "id": "rflUSiyuk8Ot"
      },
      "execution_count": null,
      "outputs": []
    },
    {
      "cell_type": "code",
      "source": [
        "history= model.fit(x_train, y_train, epochs= 400,verbose=0)"
      ],
      "metadata": {
        "id": "9zcAFjV_lVkP"
      },
      "execution_count": null,
      "outputs": []
    },
    {
      "cell_type": "code",
      "source": [
        "model.evaluate(x_test, y_test)"
      ],
      "metadata": {
        "id": "Uuhc91r6lVdX",
        "colab": {
          "base_uri": "https://localhost:8080/"
        },
        "outputId": "46840341-3673-4c02-ae0a-112e5d89c8d7"
      },
      "execution_count": null,
      "outputs": [
        {
          "output_type": "stream",
          "name": "stdout",
          "text": [
            "1/1 [==============================] - 0s 341ms/step - loss: 2.4620 - accuracy: 0.8000 - precision: 0.0000e+00 - a=recall: 0.0000e+00\n"
          ]
        },
        {
          "output_type": "execute_result",
          "data": {
            "text/plain": [
              "[2.462009906768799, 0.800000011920929, 0.0, 0.0]"
            ]
          },
          "metadata": {},
          "execution_count": 158
        }
      ]
    },
    {
      "cell_type": "code",
      "source": [
        "import tensorflow as tf\n",
        "tf.random.set_seed(55)\n",
        "model= tf.keras.Sequential([ tf.keras.layers.Dense(5, activation='relu'),\n",
        "                             tf.keras.layers.Dense(2, activation='relu'),\n",
        "                             tf.keras.layers.Dense(1, activation='sigmoid')])"
      ],
      "metadata": {
        "id": "Re0xdXrLjcAU"
      },
      "execution_count": null,
      "outputs": []
    },
    {
      "cell_type": "code",
      "source": [
        "model.compile(loss= tf.keras.losses.binary_crossentropy,\n",
        "              optimizer= tf.keras.optimizers.Adam(lr=0.01),\n",
        "              metrics= [ tf.keras.metrics.BinaryAccuracy(name='accuracy'),\n",
        "                         tf.keras.metrics.Precision(name='precision'),\n",
        "                         tf.keras.metrics.Recall(name='a=recall')] )"
      ],
      "metadata": {
        "id": "lfXEuDihk9S4"
      },
      "execution_count": null,
      "outputs": []
    },
    {
      "cell_type": "code",
      "source": [
        "history= model.fit(x_train, y_train, epochs= 900,verbose=0)"
      ],
      "metadata": {
        "id": "7HN_nSaYlXC8"
      },
      "execution_count": null,
      "outputs": []
    },
    {
      "cell_type": "code",
      "source": [
        "model.evaluate(x_test, y_test)"
      ],
      "metadata": {
        "id": "7YMbLnWzlW6u",
        "colab": {
          "base_uri": "https://localhost:8080/"
        },
        "outputId": "e67207cf-e7f3-4109-997f-2d263f3531c4"
      },
      "execution_count": null,
      "outputs": [
        {
          "output_type": "stream",
          "name": "stdout",
          "text": [
            "1/1 [==============================] - 0s 347ms/step - loss: 3.1137 - accuracy: 0.8000 - precision: 0.0000e+00 - a=recall: 0.0000e+00\n"
          ]
        },
        {
          "output_type": "execute_result",
          "data": {
            "text/plain": [
              "[3.1137073040008545, 0.800000011920929, 0.0, 0.0]"
            ]
          },
          "metadata": {},
          "execution_count": 162
        }
      ]
    },
    {
      "cell_type": "code",
      "source": [
        "import tensorflow as tf\n",
        "tf.random.set_seed(55)\n",
        "model= tf.keras.Sequential([ tf.keras.layers.Dense(5, activation='relu'),\n",
        "                             tf.keras.layers.Dense(2, activation='relu'),\n",
        "                             tf.keras.layers.Dense(1, activation='sigmoid')])"
      ],
      "metadata": {
        "id": "Npi-PkXBjb7n"
      },
      "execution_count": null,
      "outputs": []
    },
    {
      "cell_type": "code",
      "source": [
        "model.compile(loss= tf.keras.losses.binary_crossentropy,\n",
        "              optimizer= tf.keras.optimizers.Adam(lr=0.01),\n",
        "              metrics= [ tf.keras.metrics.BinaryAccuracy(name='accuracy'),\n",
        "                         tf.keras.metrics.Precision(name='precision'),\n",
        "                         tf.keras.metrics.Recall(name='a=recall')] )"
      ],
      "metadata": {
        "id": "Ydv7PfDqk-NG"
      },
      "execution_count": null,
      "outputs": []
    },
    {
      "cell_type": "code",
      "source": [
        "history= model.fit(x_train, y_train, epochs= 50,verbose=0)"
      ],
      "metadata": {
        "id": "oCLNwUnolYx9"
      },
      "execution_count": null,
      "outputs": []
    },
    {
      "cell_type": "code",
      "source": [
        "model.evaluate(x_test, y_test)"
      ],
      "metadata": {
        "id": "kvPwiqu2lYpr",
        "colab": {
          "base_uri": "https://localhost:8080/"
        },
        "outputId": "7c887189-84f3-4189-c6ef-541e0a824323"
      },
      "execution_count": null,
      "outputs": [
        {
          "output_type": "stream",
          "name": "stdout",
          "text": [
            "1/1 [==============================] - 0s 338ms/step - loss: 0.3990 - accuracy: 0.8500 - precision: 0.0000e+00 - a=recall: 0.0000e+00\n"
          ]
        },
        {
          "output_type": "execute_result",
          "data": {
            "text/plain": [
              "[0.39900657534599304, 0.8500000238418579, 0.0, 0.0]"
            ]
          },
          "metadata": {},
          "execution_count": 166
        }
      ]
    },
    {
      "cell_type": "code",
      "source": [
        "import tensorflow as tf\n",
        "tf.random.set_seed(55)\n",
        "model= tf.keras.Sequential([ tf.keras.layers.Dense(5, activation='relu'),\n",
        "                             tf.keras.layers.Dense(2, activation='relu'),\n",
        "                             tf.keras.layers.Dense(1, activation='sigmoid')])"
      ],
      "metadata": {
        "id": "x1pZXKd_jb3T"
      },
      "execution_count": null,
      "outputs": []
    },
    {
      "cell_type": "code",
      "source": [
        "model.compile(loss= tf.keras.losses.binary_crossentropy,\n",
        "              optimizer= tf.keras.optimizers.Adam(lr=0.01),\n",
        "              metrics= [ tf.keras.metrics.BinaryAccuracy(name='accuracy'),\n",
        "                         tf.keras.metrics.Precision(name='precision'),\n",
        "                         tf.keras.metrics.Recall(name='a=recall')] )"
      ],
      "metadata": {
        "id": "OvgH4TQbk_t5"
      },
      "execution_count": null,
      "outputs": []
    },
    {
      "cell_type": "code",
      "source": [
        "history= model.fit(x_train, y_train, epochs= 600,verbose=0)"
      ],
      "metadata": {
        "id": "BS79bgsBjbzA"
      },
      "execution_count": null,
      "outputs": []
    },
    {
      "cell_type": "code",
      "source": [
        "model.evaluate(x_test, y_test)"
      ],
      "metadata": {
        "id": "x50rkzJ6k_RO",
        "colab": {
          "base_uri": "https://localhost:8080/"
        },
        "outputId": "d87aa66c-e2db-435c-f284-5a18fda39d16"
      },
      "execution_count": null,
      "outputs": [
        {
          "output_type": "stream",
          "name": "stdout",
          "text": [
            "1/1 [==============================] - 1s 626ms/step - loss: 2.7092 - accuracy: 0.8000 - precision: 0.0000e+00 - a=recall: 0.0000e+00\n"
          ]
        },
        {
          "output_type": "execute_result",
          "data": {
            "text/plain": [
              "[2.709210157394409, 0.800000011920929, 0.0, 0.0]"
            ]
          },
          "metadata": {},
          "execution_count": 170
        }
      ]
    },
    {
      "cell_type": "markdown",
      "source": [
        "### 9--7--4--3--2--1"
      ],
      "metadata": {
        "id": "8Q_TbWzp6SkZ"
      }
    },
    {
      "cell_type": "code",
      "source": [
        "import tensorflow as tf\n",
        "tf.random.set_seed(55)\n",
        "model= tf.keras.Sequential([ tf.keras.layers.Dense(9, activation='relu'),\n",
        "                             tf.keras.layers.Dense(7, activation='relu'),\n",
        "                            tf.keras.layers.Dense(4, activation='relu'),\n",
        "                            tf.keras.layers.Dense(3, activation='relu'),\n",
        "                            tf.keras.layers.Dense(2, activation='relu'),\n",
        "                             tf.keras.layers.Dense(1, activation='sigmoid')])"
      ],
      "metadata": {
        "id": "H85bQPipjbue"
      },
      "execution_count": null,
      "outputs": []
    },
    {
      "cell_type": "code",
      "source": [
        "model.compile(loss= tf.keras.losses.binary_crossentropy,\n",
        "              optimizer= tf.keras.optimizers.Adam(lr=0.01),\n",
        "              metrics= [ tf.keras.metrics.BinaryAccuracy(name='accuracy'),\n",
        "                         tf.keras.metrics.Precision(name='precision'),\n",
        "                         tf.keras.metrics.Recall(name='a=recall')] )"
      ],
      "metadata": {
        "id": "l75uTlIJjbqT"
      },
      "execution_count": null,
      "outputs": []
    },
    {
      "cell_type": "code",
      "source": [
        "history= model.fit(x_train, y_train, epochs= 50,verbose=0)"
      ],
      "metadata": {
        "id": "Yzx18JebjbmS"
      },
      "execution_count": null,
      "outputs": []
    },
    {
      "cell_type": "code",
      "source": [
        "model.evaluate(x_test, y_test)"
      ],
      "metadata": {
        "colab": {
          "base_uri": "https://localhost:8080/"
        },
        "id": "ottwwVRO6ya-",
        "outputId": "34743b87-d218-4637-afed-728038041ac8"
      },
      "execution_count": null,
      "outputs": [
        {
          "output_type": "stream",
          "name": "stdout",
          "text": [
            "1/1 [==============================] - 1s 1s/step - loss: 0.3540 - accuracy: 0.8500 - precision: 0.0000e+00 - a=recall: 0.0000e+00\n"
          ]
        },
        {
          "output_type": "execute_result",
          "data": {
            "text/plain": [
              "[0.3540019392967224, 0.8500000238418579, 0.0, 0.0]"
            ]
          },
          "metadata": {},
          "execution_count": 174
        }
      ]
    },
    {
      "cell_type": "code",
      "source": [
        "import tensorflow as tf\n",
        "tf.random.set_seed(55)\n",
        "model= tf.keras.Sequential([ tf.keras.layers.Dense(9, activation='relu'),\n",
        "                             tf.keras.layers.Dense(7, activation='relu'),\n",
        "                            tf.keras.layers.Dense(4, activation='relu'),\n",
        "                            tf.keras.layers.Dense(3, activation='relu'),\n",
        "                            tf.keras.layers.Dense(2, activation='relu'),\n",
        "                             tf.keras.layers.Dense(1, activation='sigmoid')])"
      ],
      "metadata": {
        "id": "9ByzdR7D6yWd"
      },
      "execution_count": null,
      "outputs": []
    },
    {
      "cell_type": "code",
      "source": [
        "model.compile(loss= tf.keras.losses.binary_crossentropy,\n",
        "              optimizer= tf.keras.optimizers.Adam(lr=0.01),\n",
        "              metrics= [ tf.keras.metrics.BinaryAccuracy(name='accuracy'),\n",
        "                         tf.keras.metrics.Precision(name='precision'),\n",
        "                         tf.keras.metrics.Recall(name='a=recall')] )"
      ],
      "metadata": {
        "id": "u__TSt-17IoA"
      },
      "execution_count": null,
      "outputs": []
    },
    {
      "cell_type": "code",
      "source": [
        "history= model.fit(x_train, y_train, epochs= 100,verbose=0)"
      ],
      "metadata": {
        "id": "aOD1BWRn7VxJ"
      },
      "execution_count": null,
      "outputs": []
    },
    {
      "cell_type": "code",
      "source": [
        "model.evaluate(x_test, y_test)"
      ],
      "metadata": {
        "colab": {
          "base_uri": "https://localhost:8080/"
        },
        "id": "rkl9Wyh47gqq",
        "outputId": "6da56209-6e67-4efc-99c1-0a298fce8989"
      },
      "execution_count": null,
      "outputs": [
        {
          "output_type": "stream",
          "name": "stdout",
          "text": [
            "1/1 [==============================] - 1s 881ms/step - loss: 0.3419 - accuracy: 0.8500 - precision: 0.0000e+00 - a=recall: 0.0000e+00\n"
          ]
        },
        {
          "output_type": "execute_result",
          "data": {
            "text/plain": [
              "[0.3419494330883026, 0.8500000238418579, 0.0, 0.0]"
            ]
          },
          "metadata": {},
          "execution_count": 178
        }
      ]
    },
    {
      "cell_type": "code",
      "source": [
        "import tensorflow as tf\n",
        "tf.random.set_seed(55)\n",
        "model= tf.keras.Sequential([ tf.keras.layers.Dense(9, activation='relu'),\n",
        "                             tf.keras.layers.Dense(7, activation='relu'),\n",
        "                            tf.keras.layers.Dense(4, activation='relu'),\n",
        "                            tf.keras.layers.Dense(3, activation='relu'),\n",
        "                            tf.keras.layers.Dense(2, activation='relu'),\n",
        "                             tf.keras.layers.Dense(1, activation='sigmoid')])"
      ],
      "metadata": {
        "id": "2NFNKK9d6ySL"
      },
      "execution_count": null,
      "outputs": []
    },
    {
      "cell_type": "code",
      "source": [
        "model.compile(loss= tf.keras.losses.binary_crossentropy,\n",
        "              optimizer= tf.keras.optimizers.Adam(lr=0.01),\n",
        "              metrics= [ tf.keras.metrics.BinaryAccuracy(name='accuracy'),\n",
        "                         tf.keras.metrics.Precision(name='precision'),\n",
        "                         tf.keras.metrics.Recall(name='a=recall')] )"
      ],
      "metadata": {
        "id": "ngIBXiQ97Juh"
      },
      "execution_count": null,
      "outputs": []
    },
    {
      "cell_type": "code",
      "source": [
        "history= model.fit(x_train, y_train, epochs= 250,verbose=0)"
      ],
      "metadata": {
        "id": "iFun7B_y7WvG"
      },
      "execution_count": null,
      "outputs": []
    },
    {
      "cell_type": "code",
      "source": [
        "model.evaluate(x_test, y_test)"
      ],
      "metadata": {
        "colab": {
          "base_uri": "https://localhost:8080/"
        },
        "id": "XG7qERhL7kv7",
        "outputId": "ebfff8d3-27e6-468b-83f5-7f6811b3e8f8"
      },
      "execution_count": null,
      "outputs": [
        {
          "output_type": "stream",
          "name": "stdout",
          "text": [
            "1/1 [==============================] - 0s 368ms/step - loss: 0.3606 - accuracy: 0.8500 - precision: 0.5000 - a=recall: 0.3333\n"
          ]
        },
        {
          "output_type": "execute_result",
          "data": {
            "text/plain": [
              "[0.3606360852718353, 0.8500000238418579, 0.5, 0.3333333432674408]"
            ]
          },
          "metadata": {},
          "execution_count": 182
        }
      ]
    },
    {
      "cell_type": "code",
      "source": [
        "import tensorflow as tf\n",
        "tf.random.set_seed(55)\n",
        "model= tf.keras.Sequential([ tf.keras.layers.Dense(9, activation='relu'),\n",
        "                             tf.keras.layers.Dense(7, activation='relu'),\n",
        "                            tf.keras.layers.Dense(4, activation='relu'),\n",
        "                            tf.keras.layers.Dense(3, activation='relu'),\n",
        "                            tf.keras.layers.Dense(2, activation='relu'),\n",
        "                             tf.keras.layers.Dense(1, activation='sigmoid')])"
      ],
      "metadata": {
        "id": "Uy5jVPxN6yOJ"
      },
      "execution_count": null,
      "outputs": []
    },
    {
      "cell_type": "code",
      "source": [
        "model.compile(loss= tf.keras.losses.binary_crossentropy,\n",
        "              optimizer= tf.keras.optimizers.Adam(lr=0.01),\n",
        "              metrics= [ tf.keras.metrics.BinaryAccuracy(name='accuracy'),\n",
        "                         tf.keras.metrics.Precision(name='precision'),\n",
        "                         tf.keras.metrics.Recall(name='a=recall')] )"
      ],
      "metadata": {
        "id": "APvtmGr27Ku2"
      },
      "execution_count": null,
      "outputs": []
    },
    {
      "cell_type": "code",
      "source": [
        "history= model.fit(x_train, y_train, epochs= 500,verbose=0)"
      ],
      "metadata": {
        "id": "_jQSzqS37YUA"
      },
      "execution_count": null,
      "outputs": []
    },
    {
      "cell_type": "code",
      "source": [
        "model.evaluate(x_test, y_test)"
      ],
      "metadata": {
        "colab": {
          "base_uri": "https://localhost:8080/"
        },
        "id": "xzpRNyZu7lZk",
        "outputId": "cffaff86-abb2-4289-ae7a-dccbdbe25624"
      },
      "execution_count": null,
      "outputs": [
        {
          "output_type": "stream",
          "name": "stdout",
          "text": [
            "1/1 [==============================] - 0s 352ms/step - loss: 1.8922 - accuracy: 0.8000 - precision: 0.0000e+00 - a=recall: 0.0000e+00\n"
          ]
        },
        {
          "output_type": "execute_result",
          "data": {
            "text/plain": [
              "[1.8922088146209717, 0.800000011920929, 0.0, 0.0]"
            ]
          },
          "metadata": {},
          "execution_count": 186
        }
      ]
    },
    {
      "cell_type": "code",
      "source": [
        "import tensorflow as tf\n",
        "tf.random.set_seed(55)\n",
        "model= tf.keras.Sequential([ tf.keras.layers.Dense(9, activation='relu'),\n",
        "                             tf.keras.layers.Dense(7, activation='relu'),\n",
        "                            tf.keras.layers.Dense(4, activation='relu'),\n",
        "                            tf.keras.layers.Dense(3, activation='relu'),\n",
        "                            tf.keras.layers.Dense(2, activation='relu'),\n",
        "                             tf.keras.layers.Dense(1, activation='sigmoid')])"
      ],
      "metadata": {
        "id": "HLyipSvu6yJv"
      },
      "execution_count": null,
      "outputs": []
    },
    {
      "cell_type": "code",
      "source": [
        "model.compile(loss= tf.keras.losses.binary_crossentropy,\n",
        "              optimizer= tf.keras.optimizers.Adam(lr=0.01),\n",
        "              metrics= [ tf.keras.metrics.BinaryAccuracy(name='accuracy'),\n",
        "                         tf.keras.metrics.Precision(name='precision'),\n",
        "                         tf.keras.metrics.Recall(name='a=recall')] )"
      ],
      "metadata": {
        "id": "uDCO6cLK7Lr2"
      },
      "execution_count": null,
      "outputs": []
    },
    {
      "cell_type": "code",
      "source": [
        "history= model.fit(x_train, y_train, epochs= 600,verbose=0)"
      ],
      "metadata": {
        "id": "vy8AIde-7ZT0"
      },
      "execution_count": null,
      "outputs": []
    },
    {
      "cell_type": "code",
      "source": [
        "model.evaluate(x_test, y_test)"
      ],
      "metadata": {
        "colab": {
          "base_uri": "https://localhost:8080/"
        },
        "id": "ab0KOJjw7mOb",
        "outputId": "32532069-4de6-4f02-b539-475f449c0ed4"
      },
      "execution_count": null,
      "outputs": [
        {
          "output_type": "stream",
          "name": "stdout",
          "text": [
            "1/1 [==============================] - 0s 399ms/step - loss: 1.0574 - accuracy: 0.8500 - precision: 0.0000e+00 - a=recall: 0.0000e+00\n"
          ]
        },
        {
          "output_type": "execute_result",
          "data": {
            "text/plain": [
              "[1.057420015335083, 0.8500000238418579, 0.0, 0.0]"
            ]
          },
          "metadata": {},
          "execution_count": 190
        }
      ]
    },
    {
      "cell_type": "code",
      "source": [
        "import tensorflow as tf\n",
        "tf.random.set_seed(55)\n",
        "model= tf.keras.Sequential([ tf.keras.layers.Dense(9, activation='relu'),\n",
        "                             tf.keras.layers.Dense(7, activation='relu'),\n",
        "                            tf.keras.layers.Dense(4, activation='relu'),\n",
        "                            tf.keras.layers.Dense(3, activation='relu'),\n",
        "                            tf.keras.layers.Dense(2, activation='relu'),\n",
        "                             tf.keras.layers.Dense(1, activation='sigmoid')])"
      ],
      "metadata": {
        "id": "CtqAENir6yFM"
      },
      "execution_count": null,
      "outputs": []
    },
    {
      "cell_type": "code",
      "source": [
        "model.compile(loss= tf.keras.losses.binary_crossentropy,\n",
        "              optimizer= tf.keras.optimizers.Adam(lr=0.01),\n",
        "              metrics= [ tf.keras.metrics.BinaryAccuracy(name='accuracy'),\n",
        "                         tf.keras.metrics.Precision(name='precision'),\n",
        "                         tf.keras.metrics.Recall(name='a=recall')] )"
      ],
      "metadata": {
        "id": "YhFm7Jee7MhX"
      },
      "execution_count": null,
      "outputs": []
    },
    {
      "cell_type": "code",
      "source": [
        "history= model.fit(x_train, y_train, epochs= 750,verbose=0)"
      ],
      "metadata": {
        "id": "PvscjVtU7aW_"
      },
      "execution_count": null,
      "outputs": []
    },
    {
      "cell_type": "code",
      "source": [
        "model.evaluate(x_test, y_test)"
      ],
      "metadata": {
        "colab": {
          "base_uri": "https://localhost:8080/"
        },
        "id": "rLvmLZF_7nEo",
        "outputId": "165446ad-cfe5-4e8a-d9df-d44a8157f20e"
      },
      "execution_count": null,
      "outputs": [
        {
          "output_type": "stream",
          "name": "stdout",
          "text": [
            "1/1 [==============================] - 0s 370ms/step - loss: 1.7658 - accuracy: 0.8000 - precision: 0.0000e+00 - a=recall: 0.0000e+00\n"
          ]
        },
        {
          "output_type": "execute_result",
          "data": {
            "text/plain": [
              "[1.7657861709594727, 0.800000011920929, 0.0, 0.0]"
            ]
          },
          "metadata": {},
          "execution_count": 194
        }
      ]
    },
    {
      "cell_type": "code",
      "source": [
        "pd.DataFrame(history.history).plot()"
      ],
      "metadata": {
        "colab": {
          "base_uri": "https://localhost:8080/",
          "height": 282
        },
        "id": "2CGv7UiLOcAJ",
        "outputId": "61ddac8d-4def-4b1d-9131-bdfb0a87acd1"
      },
      "execution_count": null,
      "outputs": [
        {
          "output_type": "execute_result",
          "data": {
            "text/plain": [
              "<matplotlib.axes._subplots.AxesSubplot at 0x7f017567fcd0>"
            ]
          },
          "metadata": {},
          "execution_count": 195
        },
        {
          "output_type": "display_data",
          "data": {
            "text/plain": [
              "<Figure size 432x288 with 1 Axes>"
            ],
            "image/png": "[encoded data removed]"
          },
          "metadata": {
            "needs_background": "light"
          }
        }
      ]
    },
    {
      "cell_type": "code",
      "source": [
        "import tensorflow as tf\n",
        "tf.random.set_seed(55)\n",
        "model= tf.keras.Sequential([ tf.keras.layers.Dense(9, activation='relu'),\n",
        "                             tf.keras.layers.Dense(7, activation='relu'),\n",
        "                            tf.keras.layers.Dense(4, activation='relu'),\n",
        "                            tf.keras.layers.Dense(3, activation='relu'),\n",
        "                            tf.keras.layers.Dense(2, activation='relu'),\n",
        "                             tf.keras.layers.Dense(1, activation='sigmoid')])"
      ],
      "metadata": {
        "id": "QPrNf5qM6yA4"
      },
      "execution_count": null,
      "outputs": []
    },
    {
      "cell_type": "code",
      "source": [
        "model.compile(loss= tf.keras.losses.binary_crossentropy,\n",
        "              optimizer= tf.keras.optimizers.Adam(lr=0.01),\n",
        "              metrics= [ tf.keras.metrics.BinaryAccuracy(name='accuracy'),\n",
        "                         tf.keras.metrics.Precision(name='precision'),\n",
        "                         tf.keras.metrics.Recall(name='a=recall')] )"
      ],
      "metadata": {
        "id": "JWfoX1EW7Naf"
      },
      "execution_count": null,
      "outputs": []
    },
    {
      "cell_type": "code",
      "source": [
        "history= model.fit(x_train, y_train, epochs= 1000,verbose=0)"
      ],
      "metadata": {
        "id": "BCKkG-786x73"
      },
      "execution_count": null,
      "outputs": []
    },
    {
      "cell_type": "code",
      "source": [
        "model.evaluate(x_test, y_test)"
      ],
      "metadata": {
        "colab": {
          "base_uri": "https://localhost:8080/"
        },
        "id": "qW8rlAKY6x0m",
        "outputId": "0edcf198-0ead-434f-e87d-a6bae085bc60"
      },
      "execution_count": null,
      "outputs": [
        {
          "output_type": "stream",
          "name": "stdout",
          "text": [
            "1/1 [==============================] - 0s 382ms/step - loss: 2.2369 - accuracy: 0.8000 - precision: 0.0000e+00 - a=recall: 0.0000e+00\n"
          ]
        },
        {
          "output_type": "execute_result",
          "data": {
            "text/plain": [
              "[2.2368569374084473, 0.800000011920929, 0.0, 0.0]"
            ]
          },
          "metadata": {},
          "execution_count": 199
        }
      ]
    },
    {
      "cell_type": "markdown",
      "source": [
        "# FOR RATIO 80:20"
      ],
      "metadata": {
        "id": "rCgIvaNFeVoF"
      }
    },
    {
      "cell_type": "markdown",
      "source": [
        "*   Logistic Regression - 85.00\n",
        "*   KNN                 - 90.00\n",
        "*   SVM with KNN        - 90.00\n",
        "       *   SVM with RBF        - 90.00\n",
        "       *   SVM with Linear regression-90.00\n",
        "*   Bagging\n",
        "      *  Decision tree- 85.00\n",
        "          *  Decision with \"GINNI\" index - 85.00\n",
        "      *  Random forest - 75.00\n",
        "*   Boosting\n",
        "    * Ada Boost - 95.00\n",
        "    * Gradient Boost - 80.00\n",
        "    * XG boost - 90.00\n",
        "\n",
        "\n"
      ],
      "metadata": {
        "id": "aFeKHLT_epYF"
      }
    },
    {
      "cell_type": "markdown",
      "source": [
        "# MODEL FITTING for 70:30 ratio"
      ],
      "metadata": {
        "id": "uYo7lsNbHDH1"
      }
    },
    {
      "cell_type": "code",
      "source": [
        "x1 = data.drop(\"output\",axis=\"columns\")\n",
        "y1 = data.output"
      ],
      "metadata": {
        "id": "3jOMmcnjHOpL"
      },
      "execution_count": null,
      "outputs": []
    },
    {
      "cell_type": "code",
      "source": [
        "x1_train, x1_test, y1_train, y1_test = train_test_split(x1, y1, test_size=0.3)"
      ],
      "metadata": {
        "id": "lcMa7CZeHTZ0"
      },
      "execution_count": null,
      "outputs": []
    },
    {
      "cell_type": "code",
      "source": [
        "print(x1_train.shape)\n",
        "print(x1_test.shape)\n",
        "print(y1_train.shape)\n",
        "print(y1_test.shape)"
      ],
      "metadata": {
        "id": "8up7_rGYHTWs",
        "colab": {
          "base_uri": "https://localhost:8080/"
        },
        "outputId": "8f4b2089-f86c-4df8-bdac-d7d0ecd1ea01"
      },
      "execution_count": null,
      "outputs": [
        {
          "output_type": "stream",
          "name": "stdout",
          "text": [
            "(70, 11)\n",
            "(30, 11)\n",
            "(70,)\n",
            "(30,)\n"
          ]
        }
      ]
    },
    {
      "cell_type": "code",
      "source": [
        "from sklearn.linear_model import LogisticRegression\n",
        "lgt_acc1 = LogisticRegression(C=1e9)\n",
        "lgt_model1 = lgt.fit(x1_train,y1_train)"
      ],
      "metadata": {
        "id": "yQf_VXCTINDB"
      },
      "execution_count": null,
      "outputs": []
    },
    {
      "cell_type": "code",
      "source": [
        "lgt_pred1 = lgt.predict(x1_test)\n",
        "lgt_acc1 = accuracy_score(y1_test,lgt_pred1)"
      ],
      "metadata": {
        "id": "fx88SbURIM_L"
      },
      "execution_count": null,
      "outputs": []
    },
    {
      "cell_type": "code",
      "source": [
        "print(\"Accuracy of Logistic Regression: {:.2f}%\".format(lgt_acc1*100))"
      ],
      "metadata": {
        "id": "6ZAIDm9vIUEQ",
        "colab": {
          "base_uri": "https://localhost:8080/"
        },
        "outputId": "9cad6074-05a2-4f68-c0e7-c6fc9eec615d"
      },
      "execution_count": null,
      "outputs": [
        {
          "output_type": "stream",
          "name": "stdout",
          "text": [
            "Accuracy of Logistic Regression: 93.33%\n"
          ]
        }
      ]
    },
    {
      "cell_type": "code",
      "source": [
        "def get_test_result(model):\n",
        "    test_pred1 = model.predict(x1_test)\n",
        "    return(classification_report(y1_test,test_pred1))"
      ],
      "metadata": {
        "id": "venoA28HIT99"
      },
      "execution_count": null,
      "outputs": []
    },
    {
      "cell_type": "code",
      "source": [
        "test_result1=get_test_result(lgt_model1)\n",
        "print(test_result1)"
      ],
      "metadata": {
        "id": "v40X1aPyIiOb",
        "colab": {
          "base_uri": "https://localhost:8080/"
        },
        "outputId": "2364e101-aa4e-4a21-eb17-f0c9832bf299"
      },
      "execution_count": null,
      "outputs": [
        {
          "output_type": "stream",
          "name": "stdout",
          "text": [
            "              precision    recall  f1-score   support\n",
            "\n",
            "           0       0.93      1.00      0.97        28\n",
            "           1       0.00      0.00      0.00         2\n",
            "\n",
            "    accuracy                           0.93        30\n",
            "   macro avg       0.47      0.50      0.48        30\n",
            "weighted avg       0.87      0.93      0.90        30\n",
            "\n"
          ]
        }
      ]
    },
    {
      "cell_type": "markdown",
      "source": [
        "# KNN"
      ],
      "metadata": {
        "id": "BnqRvS5OHIkS"
      }
    },
    {
      "cell_type": "code",
      "source": [
        "from sklearn.neighbors import KNeighborsClassifier\n",
        "knn = KNeighborsClassifier(n_neighbors=3)"
      ],
      "metadata": {
        "id": "WxGCUSCxG8KQ"
      },
      "execution_count": null,
      "outputs": []
    },
    {
      "cell_type": "markdown",
      "source": [
        "## training knn model"
      ],
      "metadata": {
        "id": "ZcBJrqjMJkCo"
      }
    },
    {
      "cell_type": "code",
      "source": [
        "knn.fit(x1_train,y1_train)"
      ],
      "metadata": {
        "id": "5ZrHaGpzG8HZ",
        "colab": {
          "base_uri": "https://localhost:8080/"
        },
        "outputId": "e266a550-86cc-45ef-d87c-a916b1068c02"
      },
      "execution_count": null,
      "outputs": [
        {
          "output_type": "execute_result",
          "data": {
            "text/plain": [
              "KNeighborsClassifier(n_neighbors=3)"
            ]
          },
          "metadata": {},
          "execution_count": 29
        }
      ]
    },
    {
      "cell_type": "code",
      "source": [
        "Knn_pred1 = knn.predict(x1_test)\n",
        "KNN_acc1 = accuracy_score(y1_test,Knn_pred1)"
      ],
      "metadata": {
        "id": "1G1lzR-8G8DE"
      },
      "execution_count": null,
      "outputs": []
    },
    {
      "cell_type": "code",
      "source": [
        "print(KNN_acc1)"
      ],
      "metadata": {
        "id": "d_x_QcjsG79h",
        "colab": {
          "base_uri": "https://localhost:8080/"
        },
        "outputId": "96355602-ce9d-47ce-8f36-57a1d60f152f"
      },
      "execution_count": null,
      "outputs": [
        {
          "output_type": "stream",
          "name": "stdout",
          "text": [
            "0.7666666666666667\n"
          ]
        }
      ]
    },
    {
      "cell_type": "markdown",
      "source": [
        "# SVM"
      ],
      "metadata": {
        "id": "nOVoL_CsJ44L"
      }
    },
    {
      "cell_type": "code",
      "source": [
        "from sklearn.preprocessing import StandardScaler \n",
        "scale = StandardScaler()\n",
        "x1_train_std = scale.fit_transform(x1_train)\n",
        "x1_test_std = scale.transform(x1_test)"
      ],
      "metadata": {
        "id": "ZPxdYBMUG76f"
      },
      "execution_count": null,
      "outputs": []
    },
    {
      "cell_type": "code",
      "source": [
        "from sklearn.neighbors import KNeighborsClassifier\n",
        "knn1 = KNeighborsClassifier(n_neighbors=25)\n",
        "#fit the model\n",
        "knn1.fit(x1_train_std, y1_train)\n",
        "#predict the model\n",
        "knn_pred1 = knn.predict(x1_test_std)"
      ],
      "metadata": {
        "id": "N5nlIsSgG73i"
      },
      "execution_count": null,
      "outputs": []
    },
    {
      "cell_type": "code",
      "source": [
        " import pandas as pd\n",
        "import numpy as np\n",
        "import matplotlib.pyplot as plt\n",
        "%matplotlib inline\n",
        "import warnings\n",
        "warnings.filterwarnings('ignore')"
      ],
      "metadata": {
        "id": "UUq3p5kEgf_w"
      },
      "execution_count": null,
      "outputs": []
    },
    {
      "cell_type": "code",
      "source": [
        "from sklearn import metrics\n",
        "print(\"Model Validation ==>\\n\")\n",
        "print(\"Accuracy Score of KNN Model::\")\n",
        "print(metrics.accuracy_score(y1_test,knn_pred1))\n",
        "print(\"\\n\", \"Classification Report::\")\n",
        "print(metrics.classification_report(y1_test,knn_pred1), '\\n')"
      ],
      "metadata": {
        "id": "owXc-TLTKRHs",
        "colab": {
          "base_uri": "https://localhost:8080/"
        },
        "outputId": "08fce07f-b8bb-4d40-99de-b29368f19b3a"
      },
      "execution_count": null,
      "outputs": [
        {
          "output_type": "stream",
          "name": "stdout",
          "text": [
            "Model Validation ==>\n",
            "\n",
            "Accuracy Score of KNN Model::\n",
            "0.8\n",
            "\n",
            " Classification Report::\n",
            "              precision    recall  f1-score   support\n",
            "\n",
            "           0       0.80      1.00      0.89        24\n",
            "           1       0.00      0.00      0.00         6\n",
            "\n",
            "    accuracy                           0.80        30\n",
            "   macro avg       0.40      0.50      0.44        30\n",
            "weighted avg       0.64      0.80      0.71        30\n",
            " \n",
            "\n"
          ]
        }
      ]
    },
    {
      "cell_type": "markdown",
      "source": [
        "## svm with RBF"
      ],
      "metadata": {
        "id": "fWTXB-mmKdkc"
      }
    },
    {
      "cell_type": "code",
      "source": [
        "from sklearn.svm import SVC\n",
        "classifier_rbf1 = SVC(kernel = 'rbf', random_state= 0, probability=True)\n",
        "classifier_rbf1.fit(x1_train_std, y1_train)\n",
        "#predicting\n",
        "svc_pred_rbf1 = classifier_rbf1.predict(x1_test_std)"
      ],
      "metadata": {
        "id": "ddvJwCdZKREN"
      },
      "execution_count": null,
      "outputs": []
    },
    {
      "cell_type": "code",
      "source": [
        "from sklearn import metrics\n",
        "print(\"Model Validation ==>\\n\")\n",
        "print(\"RBF Kernel Accuracy of SVC Classifier::\")\n",
        "SVM_Rad1=metrics.accuracy_score(y1_test,svc_pred_rbf1)\n",
        "print(SVM_Rad1)\n",
        "print(\"\\n\", \"Classification Report::\")\n",
        "print(metrics.classification_report(y1_test,svc_pred_rbf1), '\\n')"
      ],
      "metadata": {
        "id": "q10MvzJ9KRAo",
        "colab": {
          "base_uri": "https://localhost:8080/"
        },
        "outputId": "c3cf4a6c-a839-4674-d256-ed30ce109b8c"
      },
      "execution_count": null,
      "outputs": [
        {
          "output_type": "stream",
          "name": "stdout",
          "text": [
            "Model Validation ==>\n",
            "\n",
            "RBF Kernel Accuracy of SVC Classifier::\n",
            "0.8\n",
            "\n",
            " Classification Report::\n",
            "              precision    recall  f1-score   support\n",
            "\n",
            "           0       0.80      1.00      0.89        24\n",
            "           1       0.00      0.00      0.00         6\n",
            "\n",
            "    accuracy                           0.80        30\n",
            "   macro avg       0.40      0.50      0.44        30\n",
            "weighted avg       0.64      0.80      0.71        30\n",
            " \n",
            "\n"
          ]
        }
      ]
    },
    {
      "cell_type": "markdown",
      "source": [
        "## svm withh linear reg"
      ],
      "metadata": {
        "id": "dj6QHL9-K3L8"
      }
    },
    {
      "cell_type": "code",
      "source": [
        "model1 = SVC(kernel='linear')"
      ],
      "metadata": {
        "id": "3OhyXQdkK27F"
      },
      "execution_count": null,
      "outputs": []
    },
    {
      "cell_type": "code",
      "source": [
        "model1.fit(x1_train, y1_train)"
      ],
      "metadata": {
        "id": "z1douNrWK23m",
        "colab": {
          "base_uri": "https://localhost:8080/"
        },
        "outputId": "e4c903d8-223b-47ac-a011-3923dfa3900e"
      },
      "execution_count": null,
      "outputs": [
        {
          "output_type": "execute_result",
          "data": {
            "text/plain": [
              "SVC(kernel='linear')"
            ]
          },
          "metadata": {},
          "execution_count": 354
        }
      ]
    },
    {
      "cell_type": "code",
      "source": [
        "predictions1 = model1.predict(x1_test)\n",
        "print(predictions1)"
      ],
      "metadata": {
        "id": "az56R6aLK2z9",
        "colab": {
          "base_uri": "https://localhost:8080/"
        },
        "outputId": "5dbf9e97-8393-4af4-df8f-8d4594f91b02"
      },
      "execution_count": null,
      "outputs": [
        {
          "output_type": "stream",
          "name": "stdout",
          "text": [
            "[0 0 0 0 0 0 0 0 0 0 0 0 0 0 0 0 0 0 0 0 0 0 0 0 0 0 0 0 0 0]\n"
          ]
        }
      ]
    },
    {
      "cell_type": "code",
      "source": [
        "SVClass_linear1 = accuracy_score(y1_test,predictions1)\n",
        "print(SVClass_linear1)"
      ],
      "metadata": {
        "id": "3cXxQz2wK2v1",
        "colab": {
          "base_uri": "https://localhost:8080/"
        },
        "outputId": "0bbde5cc-7c59-4b65-b910-943c27128382"
      },
      "execution_count": null,
      "outputs": [
        {
          "output_type": "stream",
          "name": "stdout",
          "text": [
            "0.8\n"
          ]
        }
      ]
    },
    {
      "cell_type": "markdown",
      "source": [
        "# bagging"
      ],
      "metadata": {
        "id": "uvMRcfncLZmi"
      }
    },
    {
      "cell_type": "markdown",
      "source": [
        "##decision tree"
      ],
      "metadata": {
        "id": "upxIRUIFLbPd"
      }
    },
    {
      "cell_type": "code",
      "source": [
        "from sklearn.tree import DecisionTreeClassifier\n",
        "dt1 = DecisionTreeClassifier(max_depth=5, random_state=1)\n",
        "dt1.fit(x1_train, y1_train)\n",
        "y1_pred = dt.predict(x1_test)\n",
        "y1_pred"
      ],
      "metadata": {
        "id": "1ltv5fXbLZXd",
        "colab": {
          "base_uri": "https://localhost:8080/"
        },
        "outputId": "fd460e60-75eb-40a9-86af-928ba02f1adf"
      },
      "execution_count": null,
      "outputs": [
        {
          "output_type": "execute_result",
          "data": {
            "text/plain": [
              "array([0, 0, 0, 1, 0, 0, 0, 0, 0, 0, 0, 1, 0, 0, 1, 1, 0, 0, 1, 0, 0, 0,\n",
              "       0, 0, 0, 0, 0, 0, 0, 0])"
            ]
          },
          "metadata": {},
          "execution_count": 53
        }
      ]
    },
    {
      "cell_type": "code",
      "source": [
        "from pandas.core.describe import describe_timestamp_as_categorical_1d\n",
        "from sklearn.metrics import accuracy_score\n",
        "y1_pred = dt1.predict(x1_test)\n",
        "dct_acc1 = accuracy_score(y1_test, y1_pred)\n",
        "print(\"Test set accuracy: {:.2f}\".format(dct_acc1))"
      ],
      "metadata": {
        "id": "mZUy44WeLZT-",
        "colab": {
          "base_uri": "https://localhost:8080/"
        },
        "outputId": "e44223ee-9c8f-47c9-f78c-6928014b3086"
      },
      "execution_count": null,
      "outputs": [
        {
          "output_type": "stream",
          "name": "stdout",
          "text": [
            "Test set accuracy: 0.80\n"
          ]
        }
      ]
    },
    {
      "cell_type": "markdown",
      "source": [
        "## random forest"
      ],
      "metadata": {
        "id": "yVN4EBIJMAej"
      }
    },
    {
      "cell_type": "code",
      "source": [
        "from sklearn.ensemble import RandomForestClassifier\n",
        "model1=RandomForestClassifier()\n",
        "model1.fit(x1_train,y1_train)"
      ],
      "metadata": {
        "id": "LOBmd-1ILZQY",
        "colab": {
          "base_uri": "https://localhost:8080/"
        },
        "outputId": "52fb7812-2a55-4069-d4fc-2912d7bf90ba"
      },
      "execution_count": null,
      "outputs": [
        {
          "output_type": "execute_result",
          "data": {
            "text/plain": [
              "RandomForestClassifier()"
            ]
          },
          "metadata": {},
          "execution_count": 55
        }
      ]
    },
    {
      "cell_type": "code",
      "source": [
        "model1=RandomForestClassifier(n_estimators=50)\n",
        "model1.fit(x1_train,y1_train)\n",
        "RAD_pred1 = model1.predict(x1_test)\n",
        "Rad_acc1 = accuracy_score(y1_test,RAD_pred1)\n",
        "Rad_acc1"
      ],
      "metadata": {
        "id": "iOh4BukKLZM7",
        "colab": {
          "base_uri": "https://localhost:8080/"
        },
        "outputId": "8855b547-7acb-4746-99f5-84e5c3995a27"
      },
      "execution_count": null,
      "outputs": [
        {
          "output_type": "execute_result",
          "data": {
            "text/plain": [
              "0.8666666666666667"
            ]
          },
          "metadata": {},
          "execution_count": 56
        }
      ]
    },
    {
      "cell_type": "code",
      "source": [
        "y1_predicted=model1.predict(x1_test)"
      ],
      "metadata": {
        "id": "DCasMSS_LZJI"
      },
      "execution_count": null,
      "outputs": []
    },
    {
      "cell_type": "code",
      "source": [
        "from sklearn.metrics import confusion_matrix\n",
        "confusion1=confusion_matrix(y1_test,y1_predicted)\n",
        "confusion1"
      ],
      "metadata": {
        "id": "FFTeeSmLLZF4",
        "colab": {
          "base_uri": "https://localhost:8080/"
        },
        "outputId": "f1769dfd-f45b-452b-807e-4aa790eaaa95"
      },
      "execution_count": null,
      "outputs": [
        {
          "output_type": "execute_result",
          "data": {
            "text/plain": [
              "array([[25,  1],\n",
              "       [ 3,  1]])"
            ]
          },
          "metadata": {},
          "execution_count": 58
        }
      ]
    },
    {
      "cell_type": "markdown",
      "source": [
        "# boosting"
      ],
      "metadata": {
        "id": "uHKKOL_XMyJH"
      }
    },
    {
      "cell_type": "markdown",
      "source": [
        "##ada boost"
      ],
      "metadata": {
        "id": "LdE48HmoM0BB"
      }
    },
    {
      "cell_type": "code",
      "source": [
        "from sklearn.ensemble import AdaBoostClassifier\n",
        "from sklearn.tree import DecisionTreeClassifier\n",
        "base_estimator1 = DecisionTreeClassifier(max_depth=3, random_state=0)\n",
        "adaboost1 = AdaBoostClassifier(base_estimator=base_estimator1,\n",
        "                              n_estimators=3, algorithm=\"SAMME\",\n",
        "                              random_state=0)\n",
        "adaboost1.fit(x1_train, y1_train)"
      ],
      "metadata": {
        "id": "abc6vsUNMeMK",
        "colab": {
          "base_uri": "https://localhost:8080/"
        },
        "outputId": "e14d4ff9-395f-41c3-e7fa-7377e6d79a2c"
      },
      "execution_count": null,
      "outputs": [
        {
          "output_type": "execute_result",
          "data": {
            "text/plain": [
              "AdaBoostClassifier(algorithm='SAMME',\n",
              "                   base_estimator=DecisionTreeClassifier(max_depth=3,\n",
              "                                                         random_state=0),\n",
              "                   n_estimators=3, random_state=0)"
            ]
          },
          "metadata": {},
          "execution_count": 68
        }
      ]
    },
    {
      "cell_type": "code",
      "source": [
        "y1_predict=adaboost.predict(x1_test)\n",
        "ADABoost_acc1=metrics.accuracy_score(y1_test,y1_predict)\n",
        "print(ADABoost_acc1)"
      ],
      "metadata": {
        "id": "KFwxHEBSMeIm",
        "colab": {
          "base_uri": "https://localhost:8080/"
        },
        "outputId": "7dc04742-0a9b-46ed-fe6d-88c73c18211c"
      },
      "execution_count": null,
      "outputs": [
        {
          "output_type": "stream",
          "name": "stdout",
          "text": [
            "0.9\n"
          ]
        }
      ]
    },
    {
      "cell_type": "code",
      "source": [
        "abc1 = AdaBoostClassifier(n_estimators=50, learning_rate=1)\n",
        "model1 = abc1.fit(x1_train, y1_train)\n",
        "y1_pred = model1.predict(x1_test)"
      ],
      "metadata": {
        "id": "3Dq4aw26MeE1"
      },
      "execution_count": null,
      "outputs": []
    },
    {
      "cell_type": "code",
      "source": [
        "ADA_Boost1=metrics.accuracy_score(y1_test, y1_pred)\n",
        "print(ADA_Boost1)"
      ],
      "metadata": {
        "id": "lxARrqwmMeAw",
        "colab": {
          "base_uri": "https://localhost:8080/"
        },
        "outputId": "c724ea08-35aa-4a42-8f6f-f73e7e0dab1f"
      },
      "execution_count": null,
      "outputs": [
        {
          "output_type": "stream",
          "name": "stdout",
          "text": [
            "0.8\n"
          ]
        }
      ]
    },
    {
      "cell_type": "markdown",
      "source": [
        "## gradient boost"
      ],
      "metadata": {
        "id": "UxzYJLD9OA2Y"
      }
    },
    {
      "cell_type": "code",
      "source": [
        "from sklearn.ensemble import GradientBoostingClassifier\n",
        "gbcl1 = GradientBoostingClassifier(n_estimators = 50)\n",
        "gbcl1 = gbcl1.fit(x1_train, y1_train)"
      ],
      "metadata": {
        "id": "vjgq3tfeMd8m"
      },
      "execution_count": null,
      "outputs": []
    },
    {
      "cell_type": "code",
      "source": [
        "y1_predict = gbcl1.predict(x1_test)\n",
        "GBC_acc1=accuracy_score(y1_test, y1_predict)\n",
        "print(GBC_acc1)\n",
        "print(metrics.confusion_matrix(y1_test, y1_predict))"
      ],
      "metadata": {
        "id": "6bavMZ4TK2sd",
        "colab": {
          "base_uri": "https://localhost:8080/"
        },
        "outputId": "a809db5e-adfa-4b19-bdac-3097810b105f"
      },
      "execution_count": null,
      "outputs": [
        {
          "output_type": "stream",
          "name": "stdout",
          "text": [
            "0.8333333333333334\n",
            "[[24  2]\n",
            " [ 3  1]]\n"
          ]
        }
      ]
    },
    {
      "cell_type": "markdown",
      "source": [
        "## XG boost"
      ],
      "metadata": {
        "id": "fJIZr1uROZnm"
      }
    },
    {
      "cell_type": "code",
      "source": [
        "import xgboost as xgb\n",
        "xgb_classifier1 = xgb.XGBClassifier()\n",
        "xgb_classifier1.fit(x1_train,y1_train)"
      ],
      "metadata": {
        "id": "HvVaAUXMOZEE",
        "colab": {
          "base_uri": "https://localhost:8080/"
        },
        "outputId": "c7e14328-493c-4da5-bf19-ac54ce06588b"
      },
      "execution_count": null,
      "outputs": [
        {
          "output_type": "execute_result",
          "data": {
            "text/plain": [
              "XGBClassifier()"
            ]
          },
          "metadata": {},
          "execution_count": 81
        }
      ]
    },
    {
      "cell_type": "code",
      "source": [
        "predictions1 = xgb_classifier.predict(x1_test)\n",
        "predictions1"
      ],
      "metadata": {
        "id": "I4uDOgU2OYzw",
        "colab": {
          "base_uri": "https://localhost:8080/"
        },
        "outputId": "2f0e9679-1d23-4a89-9ee2-4a0db5d36972"
      },
      "execution_count": null,
      "outputs": [
        {
          "output_type": "execute_result",
          "data": {
            "text/plain": [
              "array([0, 0, 0, 0, 0, 0, 0, 0, 0, 0, 0, 1, 0, 0, 0, 1, 0, 0, 0, 0, 0, 0,\n",
              "       0, 0, 0, 0, 0, 0, 0, 0])"
            ]
          },
          "metadata": {},
          "execution_count": 82
        }
      ]
    },
    {
      "cell_type": "code",
      "source": [
        "XGB_acc1=accuracy_score(y1_test,predictions1)\n",
        "print(XGB_acc1)"
      ],
      "metadata": {
        "id": "s73v4W7wOYv8",
        "colab": {
          "base_uri": "https://localhost:8080/"
        },
        "outputId": "f35edceb-f361-4fb3-cc63-3ea06e9ca978"
      },
      "execution_count": null,
      "outputs": [
        {
          "output_type": "stream",
          "name": "stdout",
          "text": [
            "0.9333333333333333\n"
          ]
        }
      ]
    },
    {
      "cell_type": "markdown",
      "source": [
        "# NN for 70:30\n"
      ],
      "metadata": {
        "id": "gNMBD_i9n_bk"
      }
    },
    {
      "cell_type": "markdown",
      "source": [
        "## 5--2--1"
      ],
      "metadata": {
        "id": "VSQV6XmlrV92"
      }
    },
    {
      "cell_type": "code",
      "source": [
        "import tensorflow as tf\n",
        "tf.random.set_seed(55)\n",
        "model= tf.keras.Sequential([ tf.keras.layers.Dense(5, activation='relu'),\n",
        "                             tf.keras.layers.Dense(2, activation='relu'),\n",
        "                             tf.keras.layers.Dense(1, activation='sigmoid')])"
      ],
      "metadata": {
        "id": "1UACBBz6oOFy"
      },
      "execution_count": null,
      "outputs": []
    },
    {
      "cell_type": "code",
      "source": [
        "model.compile(loss= tf.keras.losses.binary_crossentropy,\n",
        "              optimizer= tf.keras.optimizers.Adam(lr=0.01),\n",
        "              metrics= [ tf.keras.metrics.BinaryAccuracy(name='accuracy'),\n",
        "                         tf.keras.metrics.Precision(name='precision'),\n",
        "                         tf.keras.metrics.Recall(name='a=recall')] )"
      ],
      "metadata": {
        "id": "OTFHWMUZozYe"
      },
      "execution_count": null,
      "outputs": []
    },
    {
      "cell_type": "code",
      "source": [
        "history= model.fit(x1_train, y1_train, epochs= 50,verbose=0)"
      ],
      "metadata": {
        "id": "VbMgaW8-o9zG"
      },
      "execution_count": null,
      "outputs": []
    },
    {
      "cell_type": "code",
      "source": [
        "model.evaluate(x1_test, y1_test)"
      ],
      "metadata": {
        "id": "2-ZU2ObwpFzY",
        "colab": {
          "base_uri": "https://localhost:8080/"
        },
        "outputId": "b247354e-ec2e-4129-deff-57486d7df187"
      },
      "execution_count": null,
      "outputs": [
        {
          "output_type": "stream",
          "name": "stdout",
          "text": [
            "1/1 [==============================] - 0s 325ms/step - loss: 0.2765 - accuracy: 0.9333 - precision: 0.0000e+00 - a=recall: 0.0000e+00\n"
          ]
        },
        {
          "output_type": "execute_result",
          "data": {
            "text/plain": [
              "[0.27648550271987915, 0.9333333373069763, 0.0, 0.0]"
            ]
          },
          "metadata": {},
          "execution_count": 211
        }
      ]
    },
    {
      "cell_type": "code",
      "source": [
        "import tensorflow as tf\n",
        "tf.random.set_seed(55)\n",
        "model= tf.keras.Sequential([ tf.keras.layers.Dense(5, activation='relu'),\n",
        "                             tf.keras.layers.Dense(2, activation='relu'),\n",
        "                             tf.keras.layers.Dense(1, activation='sigmoid')])"
      ],
      "metadata": {
        "id": "vOl8jFZroOCc"
      },
      "execution_count": null,
      "outputs": []
    },
    {
      "cell_type": "code",
      "source": [
        "model.compile(loss= tf.keras.losses.binary_crossentropy,\n",
        "              optimizer= tf.keras.optimizers.Adam(lr=0.01),\n",
        "              metrics= [ tf.keras.metrics.BinaryAccuracy(name='accuracy'),\n",
        "                         tf.keras.metrics.Precision(name='precision'),\n",
        "                         tf.keras.metrics.Recall(name='a=recall')] )"
      ],
      "metadata": {
        "id": "5Jve9W_toz8L"
      },
      "execution_count": null,
      "outputs": []
    },
    {
      "cell_type": "code",
      "source": [
        "history= model.fit(x1_train, y1_train, epochs= 100,verbose=0)"
      ],
      "metadata": {
        "id": "XBfjeVeBo-c7"
      },
      "execution_count": null,
      "outputs": []
    },
    {
      "cell_type": "code",
      "source": [
        "model.evaluate(x1_test, y1_test)"
      ],
      "metadata": {
        "id": "4qrRtlGdpGwe",
        "colab": {
          "base_uri": "https://localhost:8080/"
        },
        "outputId": "1f2eacb0-9c24-4bf8-9447-0d208dc02951"
      },
      "execution_count": null,
      "outputs": [
        {
          "output_type": "stream",
          "name": "stdout",
          "text": [
            "1/1 [==============================] - 0s 345ms/step - loss: 0.3749 - accuracy: 0.9000 - precision: 0.0000e+00 - a=recall: 0.0000e+00\n"
          ]
        },
        {
          "output_type": "execute_result",
          "data": {
            "text/plain": [
              "[0.3749207556247711, 0.8999999761581421, 0.0, 0.0]"
            ]
          },
          "metadata": {},
          "execution_count": 215
        }
      ]
    },
    {
      "cell_type": "code",
      "source": [
        "import tensorflow as tf\n",
        "tf.random.set_seed(55)\n",
        "model= tf.keras.Sequential([ tf.keras.layers.Dense(5, activation='relu'),\n",
        "                             tf.keras.layers.Dense(2, activation='relu'),\n",
        "                             tf.keras.layers.Dense(1, activation='sigmoid')])"
      ],
      "metadata": {
        "id": "aNgrzsIwoN_S"
      },
      "execution_count": null,
      "outputs": []
    },
    {
      "cell_type": "code",
      "source": [
        "model.compile(loss= tf.keras.losses.binary_crossentropy,\n",
        "              optimizer= tf.keras.optimizers.Adam(lr=0.01),\n",
        "              metrics= [ tf.keras.metrics.BinaryAccuracy(name='accuracy'),\n",
        "                         tf.keras.metrics.Precision(name='precision'),\n",
        "                         tf.keras.metrics.Recall(name='a=recall')] )"
      ],
      "metadata": {
        "id": "ctM8auvCo0na"
      },
      "execution_count": null,
      "outputs": []
    },
    {
      "cell_type": "code",
      "source": [
        "history= model.fit(x1_train, y1_train, epochs= 250,verbose=0)"
      ],
      "metadata": {
        "id": "9uzhqoQlo_IL"
      },
      "execution_count": null,
      "outputs": []
    },
    {
      "cell_type": "code",
      "source": [
        "model.evaluate(x1_test, y1_test)"
      ],
      "metadata": {
        "id": "ulzCiDEapHfe",
        "colab": {
          "base_uri": "https://localhost:8080/"
        },
        "outputId": "4944c7f4-bb5c-485f-8358-f7b6e9071ec5"
      },
      "execution_count": null,
      "outputs": [
        {
          "output_type": "stream",
          "name": "stdout",
          "text": [
            "1/1 [==============================] - 0s 349ms/step - loss: 0.6120 - accuracy: 0.7667 - precision: 0.0000e+00 - a=recall: 0.0000e+00\n"
          ]
        },
        {
          "output_type": "execute_result",
          "data": {
            "text/plain": [
              "[0.6119682192802429, 0.7666666507720947, 0.0, 0.0]"
            ]
          },
          "metadata": {},
          "execution_count": 219
        }
      ]
    },
    {
      "cell_type": "code",
      "source": [
        "import tensorflow as tf\n",
        "tf.random.set_seed(55)\n",
        "model= tf.keras.Sequential([ tf.keras.layers.Dense(5, activation='relu'),\n",
        "                             tf.keras.layers.Dense(2, activation='relu'),\n",
        "                             tf.keras.layers.Dense(1, activation='sigmoid')])"
      ],
      "metadata": {
        "id": "QOJrcer3oN5m"
      },
      "execution_count": null,
      "outputs": []
    },
    {
      "cell_type": "code",
      "source": [
        "model.compile(loss= tf.keras.losses.binary_crossentropy,\n",
        "              optimizer= tf.keras.optimizers.Adam(lr=0.01),\n",
        "              metrics= [ tf.keras.metrics.BinaryAccuracy(name='accuracy'),\n",
        "                         tf.keras.metrics.Precision(name='precision'),\n",
        "                         tf.keras.metrics.Recall(name='a=recall')] )"
      ],
      "metadata": {
        "id": "CuzZlgtXo1S7"
      },
      "execution_count": null,
      "outputs": []
    },
    {
      "cell_type": "code",
      "source": [
        "history= model.fit(x1_train, y1_train, epochs= 500,verbose=0)"
      ],
      "metadata": {
        "id": "7HWZjJJ0o_q0"
      },
      "execution_count": null,
      "outputs": []
    },
    {
      "cell_type": "code",
      "source": [
        "model.evaluate(x1_test, y1_test)"
      ],
      "metadata": {
        "id": "yB0DoM8EpIck",
        "colab": {
          "base_uri": "https://localhost:8080/"
        },
        "outputId": "e2460fca-80f7-4d2c-f2cc-07498751f95e"
      },
      "execution_count": null,
      "outputs": [
        {
          "output_type": "stream",
          "name": "stdout",
          "text": [
            "1/1 [==============================] - 0s 333ms/step - loss: 1.2591 - accuracy: 0.7667 - precision: 0.0000e+00 - a=recall: 0.0000e+00\n"
          ]
        },
        {
          "output_type": "execute_result",
          "data": {
            "text/plain": [
              "[1.2591490745544434, 0.7666666507720947, 0.0, 0.0]"
            ]
          },
          "metadata": {},
          "execution_count": 223
        }
      ]
    },
    {
      "cell_type": "code",
      "source": [
        "import tensorflow as tf\n",
        "tf.random.set_seed(55)\n",
        "model= tf.keras.Sequential([ tf.keras.layers.Dense(5, activation='relu'),\n",
        "                             tf.keras.layers.Dense(2, activation='relu'),\n",
        "                             tf.keras.layers.Dense(1, activation='sigmoid')])"
      ],
      "metadata": {
        "id": "iSTwB6QroN2D"
      },
      "execution_count": null,
      "outputs": []
    },
    {
      "cell_type": "code",
      "source": [
        "model.compile(loss= tf.keras.losses.binary_crossentropy,\n",
        "              optimizer= tf.keras.optimizers.Adam(lr=0.01),\n",
        "              metrics= [ tf.keras.metrics.BinaryAccuracy(name='accuracy'),\n",
        "                         tf.keras.metrics.Precision(name='precision'),\n",
        "                         tf.keras.metrics.Recall(name='a=recall')] )"
      ],
      "metadata": {
        "id": "dEKuZRDTo2Er"
      },
      "execution_count": null,
      "outputs": []
    },
    {
      "cell_type": "code",
      "source": [
        "history= model.fit(x1_train, y1_train, epochs= 600,verbose=0)"
      ],
      "metadata": {
        "id": "Ykp5tsvPpAdB"
      },
      "execution_count": null,
      "outputs": []
    },
    {
      "cell_type": "code",
      "source": [
        "model.evaluate(x1_test, y1_test)"
      ],
      "metadata": {
        "id": "08kJTxY_pJXU",
        "colab": {
          "base_uri": "https://localhost:8080/"
        },
        "outputId": "bd13864c-77ea-4e01-8d54-3d92e736bce1"
      },
      "execution_count": null,
      "outputs": [
        {
          "output_type": "stream",
          "name": "stdout",
          "text": [
            "1/1 [==============================] - 0s 340ms/step - loss: 1.3940 - accuracy: 0.7333 - precision: 0.0000e+00 - a=recall: 0.0000e+00\n"
          ]
        },
        {
          "output_type": "execute_result",
          "data": {
            "text/plain": [
              "[1.394006609916687, 0.7333333492279053, 0.0, 0.0]"
            ]
          },
          "metadata": {},
          "execution_count": 227
        }
      ]
    },
    {
      "cell_type": "code",
      "source": [
        "import tensorflow as tf\n",
        "tf.random.set_seed(55)\n",
        "model= tf.keras.Sequential([ tf.keras.layers.Dense(5, activation='relu'),\n",
        "                             tf.keras.layers.Dense(2, activation='relu'),\n",
        "                             tf.keras.layers.Dense(1, activation='sigmoid')])"
      ],
      "metadata": {
        "id": "A8FAIM-voNy5"
      },
      "execution_count": null,
      "outputs": []
    },
    {
      "cell_type": "code",
      "source": [
        "model.compile(loss= tf.keras.losses.binary_crossentropy,\n",
        "              optimizer= tf.keras.optimizers.Adam(lr=0.01),\n",
        "              metrics= [ tf.keras.metrics.BinaryAccuracy(name='accuracy'),\n",
        "                         tf.keras.metrics.Precision(name='precision'),\n",
        "                         tf.keras.metrics.Recall(name='a=recall')] )"
      ],
      "metadata": {
        "id": "GL-FKrHyo241"
      },
      "execution_count": null,
      "outputs": []
    },
    {
      "cell_type": "code",
      "source": [
        "history= model.fit(x1_train, y1_train, epochs= 750,verbose=0)"
      ],
      "metadata": {
        "id": "5kIUKYGVpBFs"
      },
      "execution_count": null,
      "outputs": []
    },
    {
      "cell_type": "code",
      "source": [
        "model.evaluate(x1_test, y1_test)"
      ],
      "metadata": {
        "id": "68M8zTLcpKXr",
        "colab": {
          "base_uri": "https://localhost:8080/"
        },
        "outputId": "9339baf7-d6e1-46a9-d995-c880ad87b5ab"
      },
      "execution_count": null,
      "outputs": [
        {
          "output_type": "stream",
          "name": "stdout",
          "text": [
            "1/1 [==============================] - 1s 1s/step - loss: 1.6504 - accuracy: 0.7000 - precision: 0.0000e+00 - a=recall: 0.0000e+00\n"
          ]
        },
        {
          "output_type": "execute_result",
          "data": {
            "text/plain": [
              "[1.6503854990005493, 0.699999988079071, 0.0, 0.0]"
            ]
          },
          "metadata": {},
          "execution_count": 231
        }
      ]
    },
    {
      "cell_type": "code",
      "source": [
        "import tensorflow as tf\n",
        "tf.random.set_seed(55)\n",
        "model= tf.keras.Sequential([ tf.keras.layers.Dense(5, activation='relu'),\n",
        "                             tf.keras.layers.Dense(2, activation='relu'),\n",
        "                             tf.keras.layers.Dense(1, activation='sigmoid')])"
      ],
      "metadata": {
        "id": "-ZPGkrMXoNwB"
      },
      "execution_count": null,
      "outputs": []
    },
    {
      "cell_type": "code",
      "source": [
        "model.compile(loss= tf.keras.losses.binary_crossentropy,\n",
        "              optimizer= tf.keras.optimizers.Adam(lr=0.01),\n",
        "              metrics= [ tf.keras.metrics.BinaryAccuracy(name='accuracy'),\n",
        "                         tf.keras.metrics.Precision(name='precision'),\n",
        "                         tf.keras.metrics.Recall(name='a=recall')] )"
      ],
      "metadata": {
        "id": "CMxV8jlJo3jk"
      },
      "execution_count": null,
      "outputs": []
    },
    {
      "cell_type": "code",
      "source": [
        "history= model.fit(x1_train, y1_train, epochs= 800,verbose=0)"
      ],
      "metadata": {
        "id": "ESBycnX-pBoS"
      },
      "execution_count": null,
      "outputs": []
    },
    {
      "cell_type": "code",
      "source": [
        "model.evaluate(x1_test, y1_test)"
      ],
      "metadata": {
        "id": "Rv7ndI3LpLs_",
        "colab": {
          "base_uri": "https://localhost:8080/"
        },
        "outputId": "fed9b15d-5092-46fe-dd07-922b3e9677c8"
      },
      "execution_count": null,
      "outputs": [
        {
          "output_type": "stream",
          "name": "stdout",
          "text": [
            "1/1 [==============================] - 0s 348ms/step - loss: 1.4846 - accuracy: 0.7667 - precision: 0.0000e+00 - a=recall: 0.0000e+00\n"
          ]
        },
        {
          "output_type": "execute_result",
          "data": {
            "text/plain": [
              "[1.484554648399353, 0.7666666507720947, 0.0, 0.0]"
            ]
          },
          "metadata": {},
          "execution_count": 235
        }
      ]
    },
    {
      "cell_type": "code",
      "source": [
        "import tensorflow as tf\n",
        "tf.random.set_seed(55)\n",
        "model= tf.keras.Sequential([ tf.keras.layers.Dense(5, activation='relu'),\n",
        "                             tf.keras.layers.Dense(2, activation='relu'),\n",
        "                             tf.keras.layers.Dense(1, activation='sigmoid')])"
      ],
      "metadata": {
        "id": "1ZzQMbHVoNsz"
      },
      "execution_count": null,
      "outputs": []
    },
    {
      "cell_type": "code",
      "source": [
        "model.compile(loss= tf.keras.losses.binary_crossentropy,\n",
        "              optimizer= tf.keras.optimizers.Adam(lr=0.01),\n",
        "              metrics= [ tf.keras.metrics.BinaryAccuracy(name='accuracy'),\n",
        "                         tf.keras.metrics.Precision(name='precision'),\n",
        "                         tf.keras.metrics.Recall(name='a=recall')] )"
      ],
      "metadata": {
        "id": "7tpEoepCoNo7"
      },
      "execution_count": null,
      "outputs": []
    },
    {
      "cell_type": "code",
      "source": [
        "history= model.fit(x1_train, y1_train, epochs= 1000,verbose=0)"
      ],
      "metadata": {
        "id": "kHbF-gH8pCTV"
      },
      "execution_count": null,
      "outputs": []
    },
    {
      "cell_type": "code",
      "source": [
        "model.evaluate(x1_test, y1_test)"
      ],
      "metadata": {
        "id": "1PzD_UOMoNjL",
        "colab": {
          "base_uri": "https://localhost:8080/"
        },
        "outputId": "4367e4c9-06cc-49ce-f0b1-5a0a9d6ba304"
      },
      "execution_count": null,
      "outputs": [
        {
          "output_type": "stream",
          "name": "stdout",
          "text": [
            "1/1 [==============================] - 0s 341ms/step - loss: 1.9412 - accuracy: 0.7333 - precision: 0.0000e+00 - a=recall: 0.0000e+00\n"
          ]
        },
        {
          "output_type": "execute_result",
          "data": {
            "text/plain": [
              "[1.941240668296814, 0.7333333492279053, 0.0, 0.0]"
            ]
          },
          "metadata": {},
          "execution_count": 239
        }
      ]
    },
    {
      "cell_type": "markdown",
      "source": [
        "## 9--7--3--1"
      ],
      "metadata": {
        "id": "FcLQYhv4rwDt"
      }
    },
    {
      "cell_type": "code",
      "source": [
        "import tensorflow as tf\n",
        "tf.random.set_seed(55)\n",
        "model= tf.keras.Sequential([ tf.keras.layers.Dense(9, activation='relu'),\n",
        "                             tf.keras.layers.Dense(7, activation='relu'),\n",
        "                            tf.keras.layers.Dense(3, activation='relu'),\n",
        "                             tf.keras.layers.Dense(1, activation='sigmoid')])"
      ],
      "metadata": {
        "id": "DEppXbqYoNf2"
      },
      "execution_count": null,
      "outputs": []
    },
    {
      "cell_type": "code",
      "source": [
        "model.compile(loss= tf.keras.losses.binary_crossentropy,\n",
        "              optimizer= tf.keras.optimizers.Adam(lr=0.01),\n",
        "              metrics= [ tf.keras.metrics.BinaryAccuracy(name='accuracy'),\n",
        "                         tf.keras.metrics.Precision(name='precision'),\n",
        "                         tf.keras.metrics.Recall(name='a=recall')] )"
      ],
      "metadata": {
        "id": "pCcUUw_gslHl"
      },
      "execution_count": null,
      "outputs": []
    },
    {
      "cell_type": "code",
      "source": [
        "history= model.fit(x1_train, y1_train, epochs= 50,verbose=0)"
      ],
      "metadata": {
        "id": "U8EbeQxvsxsM"
      },
      "execution_count": null,
      "outputs": []
    },
    {
      "cell_type": "code",
      "source": [
        "model.evaluate(x1_test, y1_test)"
      ],
      "metadata": {
        "id": "DrNalzmMs7nF",
        "colab": {
          "base_uri": "https://localhost:8080/"
        },
        "outputId": "949b467c-0afc-4752-b30d-079958620fb2"
      },
      "execution_count": null,
      "outputs": [
        {
          "output_type": "stream",
          "name": "stdout",
          "text": [
            "1/1 [==============================] - 0s 337ms/step - loss: 0.3594 - accuracy: 0.9333 - precision: 0.0000e+00 - a=recall: 0.0000e+00\n"
          ]
        },
        {
          "output_type": "execute_result",
          "data": {
            "text/plain": [
              "[0.359445720911026, 0.9333333373069763, 0.0, 0.0]"
            ]
          },
          "metadata": {},
          "execution_count": 243
        }
      ]
    },
    {
      "cell_type": "code",
      "source": [
        "import tensorflow as tf\n",
        "tf.random.set_seed(55)\n",
        "model= tf.keras.Sequential([ tf.keras.layers.Dense(9, activation='relu'),\n",
        "                            tf.keras.layers.Dense(7, activation='relu'),\n",
        "                             tf.keras.layers.Dense(3, activation='relu'),\n",
        "                             tf.keras.layers.Dense(1, activation='sigmoid')])"
      ],
      "metadata": {
        "id": "kjbTFZQPoNcz"
      },
      "execution_count": null,
      "outputs": []
    },
    {
      "cell_type": "code",
      "source": [
        "model.compile(loss= tf.keras.losses.binary_crossentropy,\n",
        "              optimizer= tf.keras.optimizers.Adam(lr=0.01),\n",
        "              metrics= [ tf.keras.metrics.BinaryAccuracy(name='accuracy'),\n",
        "                         tf.keras.metrics.Precision(name='precision'),\n",
        "                         tf.keras.metrics.Recall(name='a=recall')] )"
      ],
      "metadata": {
        "id": "2laRw_Pfsmk7"
      },
      "execution_count": null,
      "outputs": []
    },
    {
      "cell_type": "code",
      "source": [
        "history= model.fit(x1_train, y1_train, epochs= 100,verbose=0)"
      ],
      "metadata": {
        "id": "2hfCVyPbsyVn"
      },
      "execution_count": null,
      "outputs": []
    },
    {
      "cell_type": "code",
      "source": [
        "model.evaluate(x1_test, y1_test)"
      ],
      "metadata": {
        "id": "4bvIAN2Ws8lU",
        "colab": {
          "base_uri": "https://localhost:8080/"
        },
        "outputId": "03035b7f-e413-4225-c6b4-16633d3f9c38"
      },
      "execution_count": null,
      "outputs": [
        {
          "output_type": "stream",
          "name": "stdout",
          "text": [
            "1/1 [==============================] - 0s 357ms/step - loss: 0.2953 - accuracy: 0.9333 - precision: 0.0000e+00 - a=recall: 0.0000e+00\n"
          ]
        },
        {
          "output_type": "execute_result",
          "data": {
            "text/plain": [
              "[0.29529640078544617, 0.9333333373069763, 0.0, 0.0]"
            ]
          },
          "metadata": {},
          "execution_count": 247
        }
      ]
    },
    {
      "cell_type": "code",
      "source": [
        "import tensorflow as tf\n",
        "tf.random.set_seed(55)\n",
        "model= tf.keras.Sequential([ tf.keras.layers.Dense(9, activation='relu'),\n",
        "                            tf.keras.layers.Dense(7, activation='relu'),\n",
        "                             tf.keras.layers.Dense(3, activation='relu'),\n",
        "                             tf.keras.layers.Dense(1, activation='sigmoid')])"
      ],
      "metadata": {
        "id": "MRiTinJ3oNZf"
      },
      "execution_count": null,
      "outputs": []
    },
    {
      "cell_type": "code",
      "source": [
        "model.compile(loss= tf.keras.losses.binary_crossentropy,\n",
        "              optimizer= tf.keras.optimizers.Adam(lr=0.01),\n",
        "              metrics= [ tf.keras.metrics.BinaryAccuracy(name='accuracy'),\n",
        "                         tf.keras.metrics.Precision(name='precision'),\n",
        "                         tf.keras.metrics.Recall(name='a=recall')] )"
      ],
      "metadata": {
        "id": "lejsdg3msmHE"
      },
      "execution_count": null,
      "outputs": []
    },
    {
      "cell_type": "code",
      "source": [
        "history= model.fit(x1_train, y1_train, epochs= 250,verbose=0)"
      ],
      "metadata": {
        "id": "XdffFIVXszB0"
      },
      "execution_count": null,
      "outputs": []
    },
    {
      "cell_type": "code",
      "source": [
        "model.evaluate(x1_test, y1_test)"
      ],
      "metadata": {
        "id": "s2K9C8Zqs9XV",
        "colab": {
          "base_uri": "https://localhost:8080/"
        },
        "outputId": "6c50c842-ced5-4e83-e3d4-bf604cec7419"
      },
      "execution_count": null,
      "outputs": [
        {
          "output_type": "stream",
          "name": "stdout",
          "text": [
            "1/1 [==============================] - 0s 371ms/step - loss: 0.2778 - accuracy: 0.9333 - precision: 0.0000e+00 - a=recall: 0.0000e+00\n"
          ]
        },
        {
          "output_type": "execute_result",
          "data": {
            "text/plain": [
              "[0.27784010767936707, 0.9333333373069763, 0.0, 0.0]"
            ]
          },
          "metadata": {},
          "execution_count": 251
        }
      ]
    },
    {
      "cell_type": "code",
      "source": [
        "import tensorflow as tf\n",
        "tf.random.set_seed(55)\n",
        "model= tf.keras.Sequential([ tf.keras.layers.Dense(9, activation='relu'),\n",
        "                            tf.keras.layers.Dense(7, activation='relu'),\n",
        "                             tf.keras.layers.Dense(3, activation='relu'),\n",
        "                             tf.keras.layers.Dense(1, activation='sigmoid')])"
      ],
      "metadata": {
        "id": "z2bJnQNuoNWd"
      },
      "execution_count": null,
      "outputs": []
    },
    {
      "cell_type": "code",
      "source": [
        "model.compile(loss= tf.keras.losses.binary_crossentropy,\n",
        "              optimizer= tf.keras.optimizers.Adam(lr=0.01),\n",
        "              metrics= [ tf.keras.metrics.BinaryAccuracy(name='accuracy'),\n",
        "                         tf.keras.metrics.Precision(name='precision'),\n",
        "                         tf.keras.metrics.Recall(name='a=recall')] )"
      ],
      "metadata": {
        "id": "I6cEwWfHsor7"
      },
      "execution_count": null,
      "outputs": []
    },
    {
      "cell_type": "code",
      "source": [
        "history= model.fit(x1_train, y1_train, epochs= 500,verbose=0)"
      ],
      "metadata": {
        "id": "wjdecgAXsz1z"
      },
      "execution_count": null,
      "outputs": []
    },
    {
      "cell_type": "code",
      "source": [
        "model.evaluate(x1_test, y1_test)"
      ],
      "metadata": {
        "id": "tWcHo3wWs-H1",
        "colab": {
          "base_uri": "https://localhost:8080/"
        },
        "outputId": "6e35d6ec-6a6e-4b76-8cce-77329d44f8de"
      },
      "execution_count": null,
      "outputs": [
        {
          "output_type": "stream",
          "name": "stdout",
          "text": [
            "1/1 [==============================] - 0s 351ms/step - loss: 0.2707 - accuracy: 0.9333 - precision: 0.0000e+00 - a=recall: 0.0000e+00\n"
          ]
        },
        {
          "output_type": "execute_result",
          "data": {
            "text/plain": [
              "[0.27065107226371765, 0.9333333373069763, 0.0, 0.0]"
            ]
          },
          "metadata": {},
          "execution_count": 255
        }
      ]
    },
    {
      "cell_type": "code",
      "source": [
        "import tensorflow as tf\n",
        "tf.random.set_seed(55)\n",
        "model= tf.keras.Sequential([ tf.keras.layers.Dense(9, activation='relu'),\n",
        "                            tf.keras.layers.Dense(7, activation='relu'),\n",
        "                             tf.keras.layers.Dense(3, activation='relu'),\n",
        "                             tf.keras.layers.Dense(1, activation='sigmoid')])"
      ],
      "metadata": {
        "id": "TC64tFagoNTI"
      },
      "execution_count": null,
      "outputs": []
    },
    {
      "cell_type": "code",
      "source": [
        "model.compile(loss= tf.keras.losses.binary_crossentropy,\n",
        "              optimizer= tf.keras.optimizers.Adam(lr=0.01),\n",
        "              metrics= [ tf.keras.metrics.BinaryAccuracy(name='accuracy'),\n",
        "                         tf.keras.metrics.Precision(name='precision'),\n",
        "                         tf.keras.metrics.Recall(name='a=recall')] )"
      ],
      "metadata": {
        "id": "uJfkb_zgspf4"
      },
      "execution_count": null,
      "outputs": []
    },
    {
      "cell_type": "code",
      "source": [
        "history= model.fit(x1_train, y1_train, epochs= 600,verbose=0)"
      ],
      "metadata": {
        "id": "CwGpNcuss0rD"
      },
      "execution_count": null,
      "outputs": []
    },
    {
      "cell_type": "code",
      "source": [
        "model.evaluate(x1_test, y1_test)"
      ],
      "metadata": {
        "id": "OB1giwfNs_AZ",
        "colab": {
          "base_uri": "https://localhost:8080/"
        },
        "outputId": "f5f2abef-d235-44f7-f711-92137a025836"
      },
      "execution_count": null,
      "outputs": [
        {
          "output_type": "stream",
          "name": "stdout",
          "text": [
            "1/1 [==============================] - 0s 353ms/step - loss: 0.2738 - accuracy: 0.9333 - precision: 0.0000e+00 - a=recall: 0.0000e+00\n"
          ]
        },
        {
          "output_type": "execute_result",
          "data": {
            "text/plain": [
              "[0.27384281158447266, 0.9333333373069763, 0.0, 0.0]"
            ]
          },
          "metadata": {},
          "execution_count": 259
        }
      ]
    },
    {
      "cell_type": "code",
      "source": [
        "import tensorflow as tf\n",
        "tf.random.set_seed(55)\n",
        "model= tf.keras.Sequential([ tf.keras.layers.Dense(9, activation='relu'),\n",
        "                            tf.keras.layers.Dense(7, activation='relu'),\n",
        "                             tf.keras.layers.Dense(3, activation='relu'),\n",
        "                             tf.keras.layers.Dense(1, activation='sigmoid')])"
      ],
      "metadata": {
        "id": "KOV59foPoNQO"
      },
      "execution_count": null,
      "outputs": []
    },
    {
      "cell_type": "code",
      "source": [
        "model.compile(loss= tf.keras.losses.binary_crossentropy,\n",
        "              optimizer= tf.keras.optimizers.Adam(lr=0.01),\n",
        "              metrics= [ tf.keras.metrics.BinaryAccuracy(name='accuracy'),\n",
        "                         tf.keras.metrics.Precision(name='precision'),\n",
        "                         tf.keras.metrics.Recall(name='a=recall')] )"
      ],
      "metadata": {
        "id": "_OgMjvNgsqKU"
      },
      "execution_count": null,
      "outputs": []
    },
    {
      "cell_type": "code",
      "source": [
        "history= model.fit(x1_train, y1_train, epochs= 750,verbose=0)"
      ],
      "metadata": {
        "id": "U__30BGos1Rb"
      },
      "execution_count": null,
      "outputs": []
    },
    {
      "cell_type": "code",
      "source": [
        "model.evaluate(x1_test, y1_test)"
      ],
      "metadata": {
        "id": "O_QAPKP2s_7V",
        "colab": {
          "base_uri": "https://localhost:8080/"
        },
        "outputId": "9b1ef43a-c7b7-47df-8080-b592f8bc9c97"
      },
      "execution_count": null,
      "outputs": [
        {
          "output_type": "stream",
          "name": "stdout",
          "text": [
            "1/1 [==============================] - 0s 350ms/step - loss: 0.2715 - accuracy: 0.9333 - precision: 0.0000e+00 - a=recall: 0.0000e+00\n"
          ]
        },
        {
          "output_type": "execute_result",
          "data": {
            "text/plain": [
              "[0.27146199345588684, 0.9333333373069763, 0.0, 0.0]"
            ]
          },
          "metadata": {},
          "execution_count": 263
        }
      ]
    },
    {
      "cell_type": "code",
      "source": [
        "import tensorflow as tf\n",
        "tf.random.set_seed(55)\n",
        "model= tf.keras.Sequential([ tf.keras.layers.Dense(9, activation='relu'),\n",
        "                            tf.keras.layers.Dense(7, activation='relu'),\n",
        "                             tf.keras.layers.Dense(3, activation='relu'),\n",
        "                             tf.keras.layers.Dense(1, activation='sigmoid')])"
      ],
      "metadata": {
        "id": "6AuSVyWQoNNI"
      },
      "execution_count": null,
      "outputs": []
    },
    {
      "cell_type": "code",
      "source": [
        "model.compile(loss= tf.keras.losses.binary_crossentropy,\n",
        "              optimizer= tf.keras.optimizers.Adam(lr=0.01),\n",
        "              metrics= [ tf.keras.metrics.BinaryAccuracy(name='accuracy'),\n",
        "                         tf.keras.metrics.Precision(name='precision'),\n",
        "                         tf.keras.metrics.Recall(name='a=recall')] )"
      ],
      "metadata": {
        "id": "_x1F2AYLsq3U"
      },
      "execution_count": null,
      "outputs": []
    },
    {
      "cell_type": "code",
      "source": [
        "history= model.fit(x1_train, y1_train, epochs= 1000,verbose=0)"
      ],
      "metadata": {
        "id": "kDhyGJMhs2zb"
      },
      "execution_count": null,
      "outputs": []
    },
    {
      "cell_type": "code",
      "source": [
        "model.evaluate(x1_test, y1_test)"
      ],
      "metadata": {
        "id": "CHR8OihgtArv",
        "colab": {
          "base_uri": "https://localhost:8080/"
        },
        "outputId": "8839617c-c05f-434c-daa3-91c72065f829"
      },
      "execution_count": null,
      "outputs": [
        {
          "output_type": "stream",
          "name": "stdout",
          "text": [
            "1/1 [==============================] - 0s 351ms/step - loss: 0.2788 - accuracy: 0.9333 - precision: 0.0000e+00 - a=recall: 0.0000e+00\n"
          ]
        },
        {
          "output_type": "execute_result",
          "data": {
            "text/plain": [
              "[0.2787642478942871, 0.9333333373069763, 0.0, 0.0]"
            ]
          },
          "metadata": {},
          "execution_count": 267
        }
      ]
    },
    {
      "cell_type": "markdown",
      "source": [
        "##  9--7--5--3--1"
      ],
      "metadata": {
        "id": "7jmGS-4Z1aSw"
      }
    },
    {
      "cell_type": "code",
      "source": [
        "import tensorflow as tf\n",
        "tf.random.set_seed(55)\n",
        "model= tf.keras.Sequential([ tf.keras.layers.Dense(9, activation='relu'),\n",
        "                            tf.keras.layers.Dense(8, activation='relu'),\n",
        "                             tf.keras.layers.Dense(4, activation='relu'),\n",
        "                             tf.keras.layers.Dense(7, activation='relu'),\n",
        "                             tf.keras.layers.Dense(1, activation='sigmoid')])"
      ],
      "metadata": {
        "id": "G8UbQMhCoM9o"
      },
      "execution_count": null,
      "outputs": []
    },
    {
      "cell_type": "code",
      "source": [
        "model.compile(loss= tf.keras.losses.binary_crossentropy,\n",
        "              optimizer= tf.keras.optimizers.Adam(lr=0.01),\n",
        "              metrics= [ tf.keras.metrics.BinaryAccuracy(name='accuracy'),\n",
        "                         tf.keras.metrics.Precision(name='precision'),\n",
        "                         tf.keras.metrics.Recall(name='a=recall')] )"
      ],
      "metadata": {
        "id": "Wi2rT5OQoM6V"
      },
      "execution_count": null,
      "outputs": []
    },
    {
      "cell_type": "code",
      "source": [
        "history= model.fit(x1_train, y1_train, epochs= 1000,verbose=0)"
      ],
      "metadata": {
        "id": "Hr_x_vCOoM3k"
      },
      "execution_count": null,
      "outputs": []
    },
    {
      "cell_type": "code",
      "source": [
        "model.evaluate(x1_test, y1_test)"
      ],
      "metadata": {
        "id": "Wzv9nvdQoM0n",
        "colab": {
          "base_uri": "https://localhost:8080/"
        },
        "outputId": "cdcf70a1-a6fd-4fa8-baf9-b77223df8811"
      },
      "execution_count": null,
      "outputs": [
        {
          "output_type": "stream",
          "name": "stdout",
          "text": [
            "1/1 [==============================] - 0s 365ms/step - loss: 0.5704 - accuracy: 0.9333 - precision: 0.0000e+00 - a=recall: 0.0000e+00\n"
          ]
        },
        {
          "output_type": "execute_result",
          "data": {
            "text/plain": [
              "[0.5703619718551636, 0.9333333373069763, 0.0, 0.0]"
            ]
          },
          "metadata": {},
          "execution_count": 271
        }
      ]
    },
    {
      "cell_type": "code",
      "source": [
        "import tensorflow as tf\n",
        "tf.random.set_seed(55)\n",
        "model= tf.keras.Sequential([ tf.keras.layers.Dense(9, activation='relu'),\n",
        "                            tf.keras.layers.Dense(7, activation='relu'),\n",
        "                             tf.keras.layers.Dense(2, activation='relu'),\n",
        "                             tf.keras.layers.Dense(1, activation='sigmoid')])"
      ],
      "metadata": {
        "id": "DiOJiTxYoMwR"
      },
      "execution_count": null,
      "outputs": []
    },
    {
      "cell_type": "code",
      "source": [
        "model.compile(loss= tf.keras.losses.binary_crossentropy,\n",
        "              optimizer= tf.keras.optimizers.Adam(lr=0.01),\n",
        "              metrics= [ tf.keras.metrics.BinaryAccuracy(name='accuracy'),\n",
        "                         tf.keras.metrics.Precision(name='precision'),\n",
        "                         tf.keras.metrics.Recall(name='a=recall')] )"
      ],
      "metadata": {
        "id": "wgCKzkgJoMsE"
      },
      "execution_count": null,
      "outputs": []
    },
    {
      "cell_type": "code",
      "source": [
        "history= model.fit(x1_train, y1_train, epochs= 1000,verbose=0)"
      ],
      "metadata": {
        "id": "vZIJwKUHoMo7"
      },
      "execution_count": null,
      "outputs": []
    },
    {
      "cell_type": "code",
      "source": [],
      "metadata": {
        "id": "2uNTYIxJoMlk"
      },
      "execution_count": null,
      "outputs": []
    },
    {
      "cell_type": "code",
      "source": [],
      "metadata": {
        "id": "cUHGsmtBoMh9"
      },
      "execution_count": null,
      "outputs": []
    },
    {
      "cell_type": "markdown",
      "source": [
        "# for ratio 70:30"
      ],
      "metadata": {
        "id": "rFmyyS2KPZAU"
      }
    },
    {
      "cell_type": "markdown",
      "source": [
        "*   Logistic Regression - 80.00\n",
        "*   KNN                 - 86.00\n",
        "*   SVM with KNN        - 90.00\n",
        "       *   SVM with RBF        - 90.00\n",
        "       *   SVM with Linear regression-90.00\n",
        "*   Bagging\n",
        "      *  Decision tree- 87.00\n",
        "      *  Random forest - 90.00\n",
        "*   Boosting\n",
        "    * Ada Boost - 93.00\n",
        "    * Gradient Boost - 90.00\n",
        "    * XG boost - 96.00"
      ],
      "metadata": {
        "id": "83hoWunBPQfj"
      }
    }
  ]
}